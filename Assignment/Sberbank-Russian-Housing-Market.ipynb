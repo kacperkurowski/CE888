{
  "nbformat": 4,
  "nbformat_minor": 0,
  "metadata": {
    "colab": {
      "name": "Assignment1.ipynb",
      "provenance": [],
      "toc_visible": true,
      "machine_shape": "hm",
      "include_colab_link": true
    },
    "kernelspec": {
      "name": "python3",
      "display_name": "Python 3"
    },
    "accelerator": "TPU"
  },
  "cells": [
    {
      "cell_type": "markdown",
      "metadata": {
        "id": "view-in-github",
        "colab_type": "text"
      },
      "source": [
        "<a href=\"https://colab.research.google.com/github/kacperkurowski/CE888/blob/master/Assignment/Sberbank-Russian-Housing-Market.ipynb\" target=\"_parent\"><img src=\"https://colab.research.google.com/assets/colab-badge.svg\" alt=\"Open In Colab\"/></a>"
      ]
    },
    {
      "cell_type": "markdown",
      "metadata": {
        "id": "l6fbJUJzmZux",
        "colab_type": "text"
      },
      "source": [
        "#Assignment 1"
      ]
    },
    {
      "cell_type": "code",
      "metadata": {
        "id": "no2t2d4WwPCb",
        "colab_type": "code",
        "colab": {}
      },
      "source": [
        "import os\n",
        "import seaborn as sns\n",
        "import numpy as np"
      ],
      "execution_count": 0,
      "outputs": []
    },
    {
      "cell_type": "code",
      "metadata": {
        "id": "aI0PLPGlmg0o",
        "colab_type": "code",
        "colab": {}
      },
      "source": [
        "os.environ['KAGGLE_USERNAME'] = \"kacperkurowski\" # username from the json file\n",
        "\n",
        "os.environ['KAGGLE_KEY'] = \"7c927dd985620db03df77b3804e71a95\" # key from the json file"
      ],
      "execution_count": 0,
      "outputs": []
    },
    {
      "cell_type": "markdown",
      "metadata": {
        "id": "ibda9W-7htTd",
        "colab_type": "text"
      },
      "source": [
        "##1.Loading Data"
      ]
    },
    {
      "cell_type": "code",
      "metadata": {
        "id": "al-h0ys9hqIH",
        "colab_type": "code",
        "outputId": "4b6d188f-00e1-4ab9-c7d4-47b2793a5179",
        "colab": {
          "base_uri": "https://localhost:8080/",
          "height": 119
        }
      },
      "source": [
        "!kaggle competitions download -c sberbank-russian-housing-market # api copied from kaggle"
      ],
      "execution_count": 108,
      "outputs": [
        {
          "output_type": "stream",
          "text": [
            "Warning: Looks like you're using an outdated API Version, please consider updating (server 1.5.6 / client 1.5.4)\n",
            "data_dictionary.txt: Skipping, found more recently modified local copy (use --force to force download)\n",
            "train.csv.zip: Skipping, found more recently modified local copy (use --force to force download)\n",
            "test.csv.zip: Skipping, found more recently modified local copy (use --force to force download)\n",
            "macro.csv.zip: Skipping, found more recently modified local copy (use --force to force download)\n",
            "sample_submission.csv.zip: Skipping, found more recently modified local copy (use --force to force download)\n"
          ],
          "name": "stdout"
        }
      ]
    },
    {
      "cell_type": "markdown",
      "metadata": {
        "id": "U6MToqCcNAQ6",
        "colab_type": "text"
      },
      "source": [
        "##Uploading The Data"
      ]
    },
    {
      "cell_type": "code",
      "metadata": {
        "id": "YBVgCtfcNEtH",
        "colab_type": "code",
        "colab": {
          "base_uri": "https://localhost:8080/",
          "height": 51
        },
        "outputId": "24f07d7e-0ad7-4dba-efdb-cfa6417193fd"
      },
      "source": [
        "# Upload data\n",
        "from zipfile import ZipFile\n",
        "file_name = \"/content/test.csv.zip\"\n",
        "\n",
        "with ZipFile(file_name, 'r') as zip:\n",
        "  zip.extractall()\n",
        "  print('done')\n",
        "\n",
        "\n",
        "file_name = \"/content/train.csv.zip\"\n",
        "\n",
        "with ZipFile(file_name, 'r') as zip:\n",
        "  zip.extractall()\n",
        "  print('done')"
      ],
      "execution_count": 109,
      "outputs": [
        {
          "output_type": "stream",
          "text": [
            "done\n",
            "done\n"
          ],
          "name": "stdout"
        }
      ]
    },
    {
      "cell_type": "markdown",
      "metadata": {
        "id": "ic6PAkRxiaEA",
        "colab_type": "text"
      },
      "source": [
        "##1.Removing Files that are not used"
      ]
    },
    {
      "cell_type": "code",
      "metadata": {
        "id": "HWMHX4d2ieLe",
        "colab_type": "code",
        "colab": {}
      },
      "source": [
        "#!rm sample_submission.csv.zip\n",
        "#!ls"
      ],
      "execution_count": 0,
      "outputs": []
    },
    {
      "cell_type": "markdown",
      "metadata": {
        "id": "KYK3bJw1nAx0",
        "colab_type": "text"
      },
      "source": [
        "##Loading the files"
      ]
    },
    {
      "cell_type": "code",
      "metadata": {
        "id": "ytECVtYqnFy7",
        "colab_type": "code",
        "outputId": "b52a402e-6a12-474b-a7ef-fedeb2d6c170",
        "colab": {
          "base_uri": "https://localhost:8080/",
          "height": 493
        }
      },
      "source": [
        "import pandas as pd\n",
        "\n",
        "df_test = pd.read_csv(\"test.csv\", header = 0, sep = ',', quotechar = '\"')\n",
        "\n",
        "print(df_test)\n",
        "\n",
        "df_train = pd.read_csv(\"train.csv\", header = 0, sep = ',', quotechar = '\"')\n",
        "\n",
        "print(df_train)"
      ],
      "execution_count": 111,
      "outputs": [
        {
          "output_type": "stream",
          "text": [
            "         id   timestamp  ...  sport_count_5000  market_count_5000\n",
            "0     30474  2015-07-01  ...                14                  1\n",
            "1     30475  2015-07-01  ...                12                  1\n",
            "2     30476  2015-07-01  ...                71                 11\n",
            "3     30477  2015-07-01  ...                 2                  0\n",
            "4     30478  2015-07-01  ...                11                  1\n",
            "...     ...         ...  ...               ...                ...\n",
            "7657  38131  2016-05-26  ...                75                 12\n",
            "7658  38132  2016-05-28  ...                 0                  0\n",
            "7659  38133  2016-05-30  ...               203                 13\n",
            "7660  38134  2016-05-30  ...                43                 10\n",
            "7661  38135  2016-05-30  ...                42                 11\n",
            "\n",
            "[7662 rows x 291 columns]\n",
            "          id   timestamp  ...  market_count_5000  price_doc\n",
            "0          1  2011-08-20  ...                  4    5850000\n",
            "1          2  2011-08-23  ...                 14    6000000\n",
            "2          3  2011-08-27  ...                 10    5700000\n",
            "3          4  2011-09-01  ...                  3   13100000\n",
            "4          5  2011-09-05  ...                 14   16331452\n",
            "...      ...         ...  ...                ...        ...\n",
            "30466  30469  2015-06-30  ...                  6    7400000\n",
            "30467  30470  2015-06-30  ...                 15   25000000\n",
            "30468  30471  2015-06-30  ...                  1    6970959\n",
            "30469  30472  2015-06-30  ...                  7   13500000\n",
            "30470  30473  2015-06-30  ...                 10    5600000\n",
            "\n",
            "[30471 rows x 292 columns]\n"
          ],
          "name": "stdout"
        }
      ]
    },
    {
      "cell_type": "markdown",
      "metadata": {
        "id": "Fhz5g8IQWJyD",
        "colab_type": "text"
      },
      "source": [
        "##Gandling Missing Values (NA to 0, or mean)"
      ]
    },
    {
      "cell_type": "code",
      "metadata": {
        "id": "hAmU4-_yWNSC",
        "colab_type": "code",
        "colab": {}
      },
      "source": [
        "for i in df_train.columns:\n",
        "    if df_train[i].dtype == 'object':\n",
        "      df_train[i] = df_train[i].fillna(df_train[i].mode().iloc[0])\n",
        "    if (df_train[i].dtype == 'int' or df_train[i].dtype == 'float'):\n",
        "      df_train[i] = df_train[i].fillna(np.mean(df_train[i]))\n",
        "\n",
        "for i in df_test.columns:\n",
        "    if df_test[i].dtype == 'object':\n",
        "      df_test[i] = df_test[i].fillna(df_test[i].mode().iloc[0])\n",
        "    if (df_test[i].dtype == 'int' or df_test[i].dtype == 'float'):\n",
        "      df_test[i] = df_test[i].fillna(np.mean(df_test[i]))"
      ],
      "execution_count": 0,
      "outputs": []
    },
    {
      "cell_type": "markdown",
      "metadata": {
        "id": "JL0LlXK8Xc2r",
        "colab_type": "text"
      },
      "source": [
        "##Changing String to Numeric Values"
      ]
    },
    {
      "cell_type": "code",
      "metadata": {
        "id": "3ikD7sBLXjyK",
        "colab_type": "code",
        "colab": {}
      },
      "source": [
        "from sklearn import preprocessing\n",
        "## Label encoding\n",
        "number = preprocessing.LabelEncoder()\n",
        "for i in df_train.columns:\n",
        "    if (df_train[i].dtype == 'object'):\n",
        "      df_train[i] = number.fit_transform(df_train[i].astype('str'))\n",
        "      df_train[i] = df_train[i].astype('object')\n",
        "\n",
        "for i in df_test.columns:\n",
        "    if (df_test[i].dtype == 'object'):\n",
        "      df_test[i] = number.fit_transform(df_test[i].astype('str'))\n",
        "      df_test[i] = df_test[i].astype('object')"
      ],
      "execution_count": 0,
      "outputs": []
    },
    {
      "cell_type": "markdown",
      "metadata": {
        "id": "9dad7Jh13ihk",
        "colab_type": "text"
      },
      "source": [
        "##Plotting Histogram of Sberbank-Russian-Housing-Market Train Data"
      ]
    },
    {
      "cell_type": "code",
      "metadata": {
        "id": "aeYVPJRR4F3Q",
        "colab_type": "code",
        "outputId": "4f8d37b2-76c6-4167-d890-0598a8049b0d",
        "colab": {
          "base_uri": "https://localhost:8080/",
          "height": 278
        }
      },
      "source": [
        "y_df = df_train[\"area_m\"].copy()\n",
        "y = y_df.values\n",
        "sns_plot = sns.distplot(y, kde=False, rug=True)"
      ],
      "execution_count": 114,
      "outputs": [
        {
          "output_type": "display_data",
          "data": {
            "image/png": "[encoded data removed]",
            "text/plain": [
              "<Figure size 432x288 with 1 Axes>"
            ]
          },
          "metadata": {
            "tags": []
          }
        }
      ]
    },
    {
      "cell_type": "markdown",
      "metadata": {
        "id": "JxoKCe8q4Bw9",
        "colab_type": "text"
      },
      "source": [
        "##Plotting Histogram of Sberbank-Russian-Housing-Market Test Data      CHECK"
      ]
    },
    {
      "cell_type": "code",
      "metadata": {
        "id": "89Owxs_R4LNw",
        "colab_type": "code",
        "outputId": "97f3affb-2373-4346-8424-d7c277c4a8d0",
        "colab": {
          "base_uri": "https://localhost:8080/",
          "height": 278
        }
      },
      "source": [
        "y_df = df_test[\"area_m\"].copy()\n",
        "y = y_df.values\n",
        "sns_plot = sns.distplot(y, kde=False, rug=True)"
      ],
      "execution_count": 115,
      "outputs": [
        {
          "output_type": "display_data",
          "data": {
            "image/png": "[encoded data removed]",
            "text/plain": [
              "<Figure size 432x288 with 1 Axes>"
            ]
          },
          "metadata": {
            "tags": []
          }
        }
      ]
    },
    {
      "cell_type": "markdown",
      "metadata": {
        "id": "o6sJ7Ufj_EwY",
        "colab_type": "text"
      },
      "source": [
        "##Adding Test Columns for testing Covariate Shift"
      ]
    },
    {
      "cell_type": "code",
      "metadata": {
        "id": "V3mAAsluUdgG",
        "colab_type": "code",
        "outputId": "79b499dc-f8b2-45fe-dace-601a86818c63",
        "colab": {
          "base_uri": "https://localhost:8080/",
          "height": 289
        }
      },
      "source": [
        "df_train.drop(columns=['id', 'price_doc'], inplace=True)\n",
        "df_test.drop(columns=['id'], inplace=True)\n",
        "df_train['is_test'] = 0\n",
        "df_test['is_test'] = 1\n",
        "\n",
        "print(df_train.head())\n",
        "print(df_test.head())"
      ],
      "execution_count": 116,
      "outputs": [
        {
          "output_type": "stream",
          "text": [
            "  timestamp  full_sq  life_sq  ...  sport_count_5000  market_count_5000  is_test\n",
            "0         0       43     27.0  ...                52                  4        0\n",
            "1         1       34     19.0  ...                66                 14        0\n",
            "2         2       43     29.0  ...                67                 10        0\n",
            "3         3       89     50.0  ...                26                  3        0\n",
            "4         4       77     77.0  ...               195                 14        0\n",
            "\n",
            "[5 rows x 291 columns]\n",
            "  timestamp  full_sq    life_sq  ...  sport_count_5000  market_count_5000  is_test\n",
            "0         0     39.0  20.700000  ...                14                  1        1\n",
            "1         0     79.2  32.660037  ...                12                  1        1\n",
            "2         0     40.5  25.100000  ...                71                 11        1\n",
            "3         0     62.8  36.000000  ...                 2                  0        1\n",
            "4         0     40.0  40.000000  ...                11                  1        1\n",
            "\n",
            "[5 rows x 291 columns]\n"
          ],
          "name": "stdout"
        }
      ]
    },
    {
      "cell_type": "markdown",
      "metadata": {
        "id": "JyYNFjAiUWWH",
        "colab_type": "text"
      },
      "source": [
        "##Randomising Test and Train Data Sets"
      ]
    },
    {
      "cell_type": "code",
      "metadata": {
        "id": "hOVEINx-UcPW",
        "colab_type": "code",
        "outputId": "f8c7b64d-d8a9-4f88-b777-6517b2b093a1",
        "colab": {
          "base_uri": "https://localhost:8080/",
          "height": 34
        }
      },
      "source": [
        "from sklearn.model_selection import train_test_split\n",
        "from sklearn.metrics import roc_auc_score\n",
        "from sklearn.ensemble import RandomForestClassifier\n",
        "\n",
        "df = pd.concat([df_train, df_test], axis = 0)\n",
        "X = df.drop(columns=['is_test'])\n",
        "\n",
        "y = df['is_test']\n",
        "\n",
        "X_train, X_test, y_train, y_test = train_test_split(X, y, test_size=0.3, random_state=42, shuffle=True)\n",
        "print('train shape:', X_train.shape, 'test shape:', X_test.shape)"
      ],
      "execution_count": 117,
      "outputs": [
        {
          "output_type": "stream",
          "text": [
            "train2 shape: (26693, 290) test2 shape: (11440, 290)\n"
          ],
          "name": "stdout"
        }
      ]
    },
    {
      "cell_type": "code",
      "metadata": {
        "id": "x4jyqOIJl-RS",
        "colab_type": "code",
        "outputId": "e8fb192f-eb51-4827-ff51-0a358eb8acf3",
        "colab": {
          "base_uri": "https://localhost:8080/",
          "height": 221
        }
      },
      "source": [
        "pip install scikit-plot"
      ],
      "execution_count": 118,
      "outputs": [
        {
          "output_type": "stream",
          "text": [
            "Requirement already satisfied: scikit-plot in /usr/local/lib/python3.6/dist-packages (0.3.7)\n",
            "Requirement already satisfied: joblib>=0.10 in /usr/local/lib/python3.6/dist-packages (from scikit-plot) (0.14.1)\n",
            "Requirement already satisfied: matplotlib>=1.4.0 in /usr/local/lib/python3.6/dist-packages (from scikit-plot) (3.2.0)\n",
            "Requirement already satisfied: scikit-learn>=0.18 in /usr/local/lib/python3.6/dist-packages (from scikit-plot) (0.22.2.post1)\n",
            "Requirement already satisfied: scipy>=0.9 in /usr/local/lib/python3.6/dist-packages (from scikit-plot) (1.4.1)\n",
            "Requirement already satisfied: kiwisolver>=1.0.1 in /usr/local/lib/python3.6/dist-packages (from matplotlib>=1.4.0->scikit-plot) (1.1.0)\n",
            "Requirement already satisfied: cycler>=0.10 in /usr/local/lib/python3.6/dist-packages (from matplotlib>=1.4.0->scikit-plot) (0.10.0)\n",
            "Requirement already satisfied: numpy>=1.11 in /usr/local/lib/python3.6/dist-packages (from matplotlib>=1.4.0->scikit-plot) (1.18.2)\n",
            "Requirement already satisfied: python-dateutil>=2.1 in /usr/local/lib/python3.6/dist-packages (from matplotlib>=1.4.0->scikit-plot) (2.8.1)\n",
            "Requirement already satisfied: pyparsing!=2.0.4,!=2.1.2,!=2.1.6,>=2.0.1 in /usr/local/lib/python3.6/dist-packages (from matplotlib>=1.4.0->scikit-plot) (2.4.6)\n",
            "Requirement already satisfied: setuptools in /usr/local/lib/python3.6/dist-packages (from kiwisolver>=1.0.1->matplotlib>=1.4.0->scikit-plot) (46.0.0)\n",
            "Requirement already satisfied: six in /usr/local/lib/python3.6/dist-packages (from cycler>=0.10->matplotlib>=1.4.0->scikit-plot) (1.12.0)\n"
          ],
          "name": "stdout"
        }
      ]
    },
    {
      "cell_type": "markdown",
      "metadata": {
        "id": "_ArdDjP4hCAU",
        "colab_type": "text"
      },
      "source": [
        "##Checking if data can be classified (checking for covariate shift)"
      ]
    },
    {
      "cell_type": "code",
      "metadata": {
        "id": "O1rRomw9cvyX",
        "colab_type": "code",
        "outputId": "c98f36d8-34f5-4e39-e686-70e9ef03c972",
        "colab": {
          "base_uri": "https://localhost:8080/",
          "height": 366
        }
      },
      "source": [
        "##Random Forest as Classifier\n",
        "rfc = RandomForestClassifier()\n",
        "rfc.fit(X_train, y_train)\n",
        "y_test_score = rfc.predict_proba(X_test)\n",
        "\n",
        "import scikitplot as skplt\n",
        "import matplotlib.pyplot as plt\n",
        "\n",
        "skplt.metrics.plot_roc_curve(y_test, y_test_score)\n",
        "plt.show()\n",
        "\n",
        "\n",
        "##AUC score shows heavy covariate data\n",
        "print('AUC score: ', round(roc_auc_score(y_true=y_test, y_score=y_test_score[:,1]), 4))"
      ],
      "execution_count": 119,
      "outputs": [
        {
          "output_type": "stream",
          "text": [
            "/usr/local/lib/python3.6/dist-packages/sklearn/utils/deprecation.py:87: FutureWarning: Function plot_roc_curve is deprecated; This will be removed in v0.5.0. Please use scikitplot.metrics.plot_roc instead.\n",
            "  warnings.warn(msg, category=FutureWarning)\n"
          ],
          "name": "stderr"
        },
        {
          "output_type": "display_data",
          "data": {
            "image/png": "[encoded data removed]",
            "text/plain": [
              "<Figure size 432x288 with 1 Axes>"
            ]
          },
          "metadata": {
            "tags": []
          }
        },
        {
          "output_type": "stream",
          "text": [
            "AUC score:  1.0\n"
          ],
          "name": "stdout"
        }
      ]
    },
    {
      "cell_type": "markdown",
      "metadata": {
        "id": "rWDegA_Ecoub",
        "colab_type": "text"
      },
      "source": [
        "##Finding Drifting Features"
      ]
    },
    {
      "cell_type": "code",
      "metadata": {
        "id": "2KXGg9rNcxpv",
        "colab_type": "code",
        "colab": {
          "base_uri": "https://localhost:8080/",
          "height": 119
        },
        "outputId": "2fd146a5-898c-4e34-b54e-545b4a48aa7c"
      },
      "source": [
        "from sklearn.model_selection import cross_val_score\n",
        "model = RandomForestClassifier(n_estimators = 50, max_depth = 5,min_samples_leaf = 5)\n",
        "drop_list = []\n",
        "for i in X.columns:\n",
        "    score = cross_val_score(model,pd.DataFrame(X[i]),y,cv=2,scoring='roc_auc')\n",
        "    if (np.mean(score) > 0.8):\n",
        "        drop_list.append(i)\n",
        "        print(i,np.mean(score))"
      ],
      "execution_count": 120,
      "outputs": [
        {
          "output_type": "stream",
          "text": [
            "life_sq 0.8054129930543164\n",
            "kitch_sq 0.8389152119292821\n",
            "hospital_beds_raion 0.8753171587405912\n",
            "cafe_sum_500_min_price_avg 0.830141498235835\n",
            "cafe_sum_500_max_price_avg 0.8308216682712257\n",
            "cafe_avg_price_500 0.8300597695390125\n"
          ],
          "name": "stdout"
        }
      ]
    },
    {
      "cell_type": "markdown",
      "metadata": {
        "id": "OJzu9Tw9e-l8",
        "colab_type": "text"
      },
      "source": [
        "##Dropping Drifting Features"
      ]
    },
    {
      "cell_type": "code",
      "metadata": {
        "id": "pY52xgn1fBsu",
        "colab_type": "code",
        "colab": {
          "base_uri": "https://localhost:8080/",
          "height": 255
        },
        "outputId": "1671edd7-d818-41f4-fe15-a45958e649f6"
      },
      "source": [
        "drop_list.append('is_test')\n",
        "X = df.drop(columns=drop_list)\n",
        "print(X)"
      ],
      "execution_count": 126,
      "outputs": [
        {
          "output_type": "stream",
          "text": [
            "     timestamp  full_sq  ...  sport_count_5000  market_count_5000\n",
            "0            0    43.00  ...                52                  4\n",
            "1            1    34.00  ...                66                 14\n",
            "2            2    43.00  ...                67                 10\n",
            "3            3    89.00  ...                26                  3\n",
            "4            4    77.00  ...               195                 14\n",
            "...        ...      ...  ...               ...                ...\n",
            "7657       271    52.20  ...                75                 12\n",
            "7658       272    54.09  ...                 0                  0\n",
            "7659       273    41.08  ...               203                 13\n",
            "7660       273    34.80  ...                43                 10\n",
            "7661       273    63.00  ...                42                 11\n",
            "\n",
            "[38133 rows x 284 columns]\n"
          ],
          "name": "stdout"
        }
      ]
    },
    {
      "cell_type": "markdown",
      "metadata": {
        "id": "M_dF5MmvgpGn",
        "colab_type": "text"
      },
      "source": [
        "##Randomising combines Data set"
      ]
    },
    {
      "cell_type": "code",
      "metadata": {
        "id": "nc3RdgApgxnl",
        "colab_type": "code",
        "colab": {
          "base_uri": "https://localhost:8080/",
          "height": 34
        },
        "outputId": "ef10e3b3-42f6-4c53-e36b-d233f49f4bc4"
      },
      "source": [
        "X_train, X_test, y_train, y_test = train_test_split(X, y, test_size=0.3, random_state=42, shuffle=True)\n",
        "print('train shape:', X_train.shape, 'test shape:', X_test.shape)"
      ],
      "execution_count": 127,
      "outputs": [
        {
          "output_type": "stream",
          "text": [
            "train shape: (26693, 284) test shape: (11440, 284)\n"
          ],
          "name": "stdout"
        }
      ]
    },
    {
      "cell_type": "markdown",
      "metadata": {
        "id": "epQkLwbTg-3k",
        "colab_type": "text"
      },
      "source": [
        "##Checking if data can be classified (checking for covariate shift)"
      ]
    },
    {
      "cell_type": "code",
      "metadata": {
        "id": "wiS-LirTg8QU",
        "colab_type": "code",
        "colab": {
          "base_uri": "https://localhost:8080/",
          "height": 366
        },
        "outputId": "ca1572d2-861c-4f02-f0f1-31b5f87e2716"
      },
      "source": [
        "##Random Forest as Classifier\n",
        "rfc = RandomForestClassifier()\n",
        "rfc.fit(X_train, y_train)\n",
        "y_test_score = rfc.predict_proba(X_test)\n",
        "\n",
        "import scikitplot as skplt\n",
        "import matplotlib.pyplot as plt\n",
        "\n",
        "skplt.metrics.plot_roc_curve(y_test, y_test_score)\n",
        "plt.show()\n",
        "\n",
        "\n",
        "##AUC score shows heavy covariate data\n",
        "print('AUC score: ', round(roc_auc_score(y_true=y_test, y_score=y_test_score[:,1]), 4))"
      ],
      "execution_count": 128,
      "outputs": [
        {
          "output_type": "stream",
          "text": [
            "/usr/local/lib/python3.6/dist-packages/sklearn/utils/deprecation.py:87: FutureWarning: Function plot_roc_curve is deprecated; This will be removed in v0.5.0. Please use scikitplot.metrics.plot_roc instead.\n",
            "  warnings.warn(msg, category=FutureWarning)\n"
          ],
          "name": "stderr"
        },
        {
          "output_type": "display_data",
          "data": {
            "image/png": "[encoded data removed]",
            "text/plain": [
              "<Figure size 432x288 with 1 Axes>"
            ]
          },
          "metadata": {
            "tags": []
          }
        },
        {
          "output_type": "stream",
          "text": [
            "AUC score:  1.0\n"
          ],
          "name": "stdout"
        }
      ]
    }
  ]
}