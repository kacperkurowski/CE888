{
  "nbformat": 4,
  "nbformat_minor": 0,
  "metadata": {
    "colab": {
      "name": "Assignment1.ipynb",
      "provenance": [],
      "toc_visible": true,
      "machine_shape": "hm",
      "include_colab_link": true
    },
    "kernelspec": {
      "name": "python3",
      "display_name": "Python 3"
    },
    "accelerator": "TPU"
  },
  "cells": [
    {
      "cell_type": "markdown",
      "metadata": {
        "id": "view-in-github",
        "colab_type": "text"
      },
      "source": [
        "<a href=\"https://colab.research.google.com/github/kacperkurowski/CE888/blob/master/Assignment/Santander-Customer-Transaction-Prediction.ipynb\" target=\"_parent\"><img src=\"https://colab.research.google.com/assets/colab-badge.svg\" alt=\"Open In Colab\"/></a>"
      ]
    },
    {
      "cell_type": "markdown",
      "metadata": {
        "id": "l6fbJUJzmZux",
        "colab_type": "text"
      },
      "source": [
        "#Assignment 1"
      ]
    },
    {
      "cell_type": "code",
      "metadata": {
        "id": "no2t2d4WwPCb",
        "colab_type": "code",
        "colab": {
          "base_uri": "https://localhost:8080/",
          "height": 51
        },
        "outputId": "2df9b842-3a1c-430a-bae8-f0f7f3a7bd98"
      },
      "source": [
        "import os\n",
        "import seaborn as sns"
      ],
      "execution_count": 1,
      "outputs": [
        {
          "output_type": "stream",
          "text": [
            "/usr/local/lib/python3.6/dist-packages/statsmodels/tools/_testing.py:19: FutureWarning: pandas.util.testing is deprecated. Use the functions in the public API at pandas.testing instead.\n",
            "  import pandas.util.testing as tm\n"
          ],
          "name": "stderr"
        }
      ]
    },
    {
      "cell_type": "code",
      "metadata": {
        "id": "aI0PLPGlmg0o",
        "colab_type": "code",
        "colab": {}
      },
      "source": [
        "os.environ['KAGGLE_USERNAME'] = \"kacperkurowski\" # username from the json file\n",
        "\n",
        "os.environ['KAGGLE_KEY'] = \"7c927dd985620db03df77b3804e71a95\" # key from the json file"
      ],
      "execution_count": 0,
      "outputs": []
    },
    {
      "cell_type": "markdown",
      "metadata": {
        "id": "KMlc0z9a8Zeb",
        "colab_type": "text"
      },
      "source": [
        "#Unzipping Function"
      ]
    },
    {
      "cell_type": "code",
      "metadata": {
        "id": "PT_5tbpE8cGw",
        "colab_type": "code",
        "colab": {}
      },
      "source": [
        "from zipfile import ZipFile\n",
        "\n",
        "def unzip(file_name):\n",
        "  with ZipFile(file_name, 'r') as zip:\n",
        "    zip.extractall()\n",
        "    print('extracted: ',file_name)\n"
      ],
      "execution_count": 0,
      "outputs": []
    },
    {
      "cell_type": "markdown",
      "metadata": {
        "id": "ibda9W-7htTd",
        "colab_type": "text"
      },
      "source": [
        "##1.Loading Data"
      ]
    },
    {
      "cell_type": "code",
      "metadata": {
        "id": "al-h0ys9hqIH",
        "colab_type": "code",
        "outputId": "91c4c4fc-9eb7-406a-8b07-49b69a30b3a4",
        "colab": {
          "base_uri": "https://localhost:8080/",
          "height": 119
        }
      },
      "source": [
        "!kaggle competitions download -c santander-customer-transaction-prediction # api copied from kaggle"
      ],
      "execution_count": 4,
      "outputs": [
        {
          "output_type": "stream",
          "text": [
            "Warning: Looks like you're using an outdated API Version, please consider updating (server 1.5.6 / client 1.5.4)\n",
            "Downloading sample_submission.csv.zip to /content\n",
            "  0% 0.00/462k [00:00<?, ?B/s]\n",
            "100% 462k/462k [00:00<00:00, 68.2MB/s]\n",
            "train.csv.zip: Skipping, found more recently modified local copy (use --force to force download)\n",
            "test.csv.zip: Skipping, found more recently modified local copy (use --force to force download)\n"
          ],
          "name": "stdout"
        }
      ]
    },
    {
      "cell_type": "markdown",
      "metadata": {
        "id": "ic6PAkRxiaEA",
        "colab_type": "text"
      },
      "source": [
        "##1.Removing Files that are not used"
      ]
    },
    {
      "cell_type": "code",
      "metadata": {
        "id": "HWMHX4d2ieLe",
        "colab_type": "code",
        "outputId": "f58aae31-e010-4a4c-b149-e586d611cde6",
        "colab": {
          "base_uri": "https://localhost:8080/",
          "height": 51
        }
      },
      "source": [
        "!rm sample_submission.csv.zip\n",
        "!ls"
      ],
      "execution_count": 5,
      "outputs": [
        {
          "output_type": "stream",
          "text": [
            "sample_data    test.csv.zip    train.csv\n",
            "test2.csv.zip  train2.csv.zip  train.csv.zip\n"
          ],
          "name": "stdout"
        }
      ]
    },
    {
      "cell_type": "markdown",
      "metadata": {
        "id": "HByKGqPaztLA",
        "colab_type": "text"
      },
      "source": [
        "#1.Unzipping The Files"
      ]
    },
    {
      "cell_type": "code",
      "metadata": {
        "id": "LxDDossE-7MX",
        "colab_type": "code",
        "colab": {
          "base_uri": "https://localhost:8080/",
          "height": 34
        },
        "outputId": "acb3f276-2db3-4e95-a419-d5c36acfae53"
      },
      "source": [
        "unzip(\"/content/train.csv.zip\")"
      ],
      "execution_count": 6,
      "outputs": [
        {
          "output_type": "stream",
          "text": [
            "extracted:  /content/train.csv.zip\n"
          ],
          "name": "stdout"
        }
      ]
    },
    {
      "cell_type": "markdown",
      "metadata": {
        "id": "KYK3bJw1nAx0",
        "colab_type": "text"
      },
      "source": [
        "##Loading the files"
      ]
    },
    {
      "cell_type": "code",
      "metadata": {
        "id": "ytECVtYqnFy7",
        "colab_type": "code",
        "outputId": "c3a38c98-a737-42c8-d507-cb8202715976",
        "colab": {
          "base_uri": "https://localhost:8080/",
          "height": 255
        }
      },
      "source": [
        "import pandas as pd\n",
        "\n",
        "#df_test_Orig = pd.read_csv(\"test.csv\", header = 0, sep = ',', quotechar = '\"')\n",
        "\n",
        "#print(df_test_Orig)\n",
        "\n",
        "df_train_Orig = pd.read_csv(\"train.csv\", header = 0, sep = ',', quotechar = '\"')\n",
        "\n",
        "print(df_train_Orig)"
      ],
      "execution_count": 7,
      "outputs": [
        {
          "output_type": "stream",
          "text": [
            "             ID_code  target    var_0  ...  var_197  var_198  var_199\n",
            "0            train_0       0   8.9255  ...   8.5635  12.7803  -1.0914\n",
            "1            train_1       0  11.5006  ...   8.7889  18.3560   1.9518\n",
            "2            train_2       0   8.6093  ...   8.2675  14.7222   0.3965\n",
            "3            train_3       0  11.0604  ...  10.2922  17.9697  -8.9996\n",
            "4            train_4       0   9.8369  ...   9.5031  17.9974  -8.8104\n",
            "...              ...     ...      ...  ...      ...      ...      ...\n",
            "199995  train_199995       0  11.4880  ...   8.5326  16.6660 -17.8661\n",
            "199996  train_199996       0   4.9149  ...   6.7419  15.9054   0.3388\n",
            "199997  train_199997       0  11.2232  ...   8.7155  13.8329   4.1995\n",
            "199998  train_199998       0   9.7148  ...  10.0342  15.5289 -13.9001\n",
            "199999  train_199999       0  10.8762  ...   8.1857  12.1284   0.1385\n",
            "\n",
            "[200000 rows x 202 columns]\n"
          ],
          "name": "stdout"
        }
      ]
    },
    {
      "cell_type": "markdown",
      "metadata": {
        "id": "9dad7Jh13ihk",
        "colab_type": "text"
      },
      "source": [
        "##Plotting Histogram of Santander-Customer-Transaction-Prediction Train Data"
      ]
    },
    {
      "cell_type": "code",
      "metadata": {
        "id": "aeYVPJRR4F3Q",
        "colab_type": "code",
        "outputId": "891b58f8-dbec-4ffc-de44-851f62fb3220",
        "colab": {
          "base_uri": "https://localhost:8080/",
          "height": 265
        }
      },
      "source": [
        "y_df = df_train_Orig[\"var_0\"].copy()\n",
        "y = y_df.values\n",
        "sns_plot = sns.distplot(y, kde=False, rug=True)"
      ],
      "execution_count": 8,
      "outputs": [
        {
          "output_type": "display_data",
          "data": {
            "image/png": "[encoded data removed]",
            "text/plain": [
              "<Figure size 432x288 with 1 Axes>"
            ]
          },
          "metadata": {
            "tags": [],
            "needs_background": "light"
          }
        }
      ]
    },
    {
      "cell_type": "markdown",
      "metadata": {
        "id": "JxoKCe8q4Bw9",
        "colab_type": "text"
      },
      "source": [
        "##Plotting Histogram of Santander-Customer-Transaction-Prediction Test Data"
      ]
    },
    {
      "cell_type": "code",
      "metadata": {
        "id": "89Owxs_R4LNw",
        "colab_type": "code",
        "colab": {}
      },
      "source": [
        "#y_df = df_test_Orig[\"var_0\"].copy()\n",
        "#y = y_df.values\n",
        "#sns_plot = sns.distplot(y, kde=False, rug=True)"
      ],
      "execution_count": 0,
      "outputs": []
    },
    {
      "cell_type": "markdown",
      "metadata": {
        "id": "o6sJ7Ufj_EwY",
        "colab_type": "text"
      },
      "source": [
        "##Adding Test Columns for testing Covariate Shift"
      ]
    },
    {
      "cell_type": "markdown",
      "metadata": {
        "id": "KLn_oaPbxe77",
        "colab_type": "text"
      },
      "source": [
        "Here i incorporate covariate shift, by placing all the data that is higher than 9.0 into the train column and everything below 9.0 into the test. \n",
        "This will cause there to be a covariate shift, as the train and test data use different data."
      ]
    },
    {
      "cell_type": "code",
      "metadata": {
        "id": "V3mAAsluUdgG",
        "colab_type": "code",
        "outputId": "cfe89dbd-00cb-4321-cdeb-fad5dab24a7d",
        "colab": {
          "base_uri": "https://localhost:8080/",
          "height": 493
        }
      },
      "source": [
        "target_var = \"target\"\n",
        "id_var = \"ID_code\"\n",
        "\n",
        "\n",
        "df_train = df_train_Orig.where(df_train_Orig[\"var_0\"]>9.0).dropna().drop(columns=[target_var,id_var])\n",
        "df_test = df_train_Orig.where(df_train_Orig[\"var_0\"]<=9.0).dropna().drop(columns=[target_var,id_var])\n",
        "#df_train.drop(columns=['ID_code', 'target'], inplace=True)\n",
        "#df_test.drop(columns=['ID_code'], inplace=True)\n",
        "df_train['is_test'] = 0\n",
        "df_test['is_test'] = 1\n",
        "print(df_train)\n",
        "print(df_test)"
      ],
      "execution_count": 10,
      "outputs": [
        {
          "output_type": "stream",
          "text": [
            "          var_0   var_1    var_2   var_3  ...  var_197  var_198  var_199  is_test\n",
            "1       11.5006 -4.1473  13.8588  5.3890  ...   8.7889  18.3560   1.9518        0\n",
            "3       11.0604 -2.1518   8.9522  7.1957  ...  10.2922  17.9697  -8.9996        0\n",
            "4        9.8369 -1.4834  12.8746  6.6375  ...   9.5031  17.9974  -8.8104        0\n",
            "5       11.4763 -2.3182  12.6080  8.6264  ...   9.7670  12.5809  -4.7602        0\n",
            "6       11.8091 -0.0832   9.3494  4.2916  ...   9.1143  10.8869  -3.2097        0\n",
            "...         ...     ...      ...     ...  ...      ...      ...      ...      ...\n",
            "199994  12.3925 -5.8821  11.2323  3.9237  ...   9.1164  16.3170  -7.5048        0\n",
            "199995  11.4880 -0.4956   8.2622  3.5142  ...   8.5326  16.6660 -17.8661        0\n",
            "199997  11.2232 -5.0518  10.5127  5.6456  ...   8.7155  13.8329   4.1995        0\n",
            "199998   9.7148 -8.6098  13.6104  5.7930  ...  10.0342  15.5289 -13.9001        0\n",
            "199999  10.8762 -5.7105  12.1183  8.0328  ...   8.1857  12.1284   0.1385        0\n",
            "\n",
            "[137385 rows x 201 columns]\n",
            "         var_0   var_1    var_2   var_3  ...  var_197  var_198  var_199  is_test\n",
            "0       8.9255 -6.7863  11.9081  5.0930  ...   8.5635  12.7803  -1.0914        1\n",
            "2       8.6093 -2.7457  12.0805  7.8928  ...   8.2675  14.7222   0.3965        1\n",
            "10      5.0702 -0.5447   9.5900  4.2987  ...   9.2553  14.2914  -7.6652        1\n",
            "12      8.7671 -4.6154   9.7242  7.4242  ...   8.4897  17.0938   4.6106        1\n",
            "15      3.9416  2.6562  13.3633  6.8895  ...   8.2899  12.9116  -4.9182        1\n",
            "...        ...     ...      ...     ...  ...      ...      ...      ...      ...\n",
            "199976  7.9663 -2.8485   9.0919  7.3298  ...   8.4627  14.3604  -1.6688        1\n",
            "199977  7.3884 -0.8093   8.9274  7.7227  ...   9.0411  15.8939   1.6908        1\n",
            "199980  7.9618  6.2271  13.3326  7.5345  ...   8.2107  14.5403  -8.7837        1\n",
            "199987  8.0438 -1.9184  13.1498  9.2027  ...   8.1765  19.5095 -13.3091        1\n",
            "199996  4.9149 -2.4484  16.7052  6.6345  ...   6.7419  15.9054   0.3388        1\n",
            "\n",
            "[62615 rows x 201 columns]\n"
          ],
          "name": "stdout"
        }
      ]
    },
    {
      "cell_type": "markdown",
      "metadata": {
        "id": "JyYNFjAiUWWH",
        "colab_type": "text"
      },
      "source": [
        "#Classifying to Obtain AUC "
      ]
    },
    {
      "cell_type": "code",
      "metadata": {
        "id": "7ZjhyG42U3Ay",
        "colab_type": "code",
        "colab": {
          "base_uri": "https://localhost:8080/",
          "height": 204
        },
        "outputId": "17c43d87-5f46-41d9-9063-643634714392"
      },
      "source": [
        "pip install scikit-plot"
      ],
      "execution_count": 11,
      "outputs": [
        {
          "output_type": "stream",
          "text": [
            "Requirement already satisfied: scikit-plot in /usr/local/lib/python3.6/dist-packages (0.3.7)\n",
            "Requirement already satisfied: scikit-learn>=0.18 in /usr/local/lib/python3.6/dist-packages (from scikit-plot) (0.22.2.post1)\n",
            "Requirement already satisfied: joblib>=0.10 in /usr/local/lib/python3.6/dist-packages (from scikit-plot) (0.14.1)\n",
            "Requirement already satisfied: scipy>=0.9 in /usr/local/lib/python3.6/dist-packages (from scikit-plot) (1.4.1)\n",
            "Requirement already satisfied: matplotlib>=1.4.0 in /usr/local/lib/python3.6/dist-packages (from scikit-plot) (3.2.1)\n",
            "Requirement already satisfied: numpy>=1.11.0 in /usr/local/lib/python3.6/dist-packages (from scikit-learn>=0.18->scikit-plot) (1.18.2)\n",
            "Requirement already satisfied: cycler>=0.10 in /usr/local/lib/python3.6/dist-packages (from matplotlib>=1.4.0->scikit-plot) (0.10.0)\n",
            "Requirement already satisfied: python-dateutil>=2.1 in /usr/local/lib/python3.6/dist-packages (from matplotlib>=1.4.0->scikit-plot) (2.8.1)\n",
            "Requirement already satisfied: pyparsing!=2.0.4,!=2.1.2,!=2.1.6,>=2.0.1 in /usr/local/lib/python3.6/dist-packages (from matplotlib>=1.4.0->scikit-plot) (2.4.7)\n",
            "Requirement already satisfied: kiwisolver>=1.0.1 in /usr/local/lib/python3.6/dist-packages (from matplotlib>=1.4.0->scikit-plot) (1.2.0)\n",
            "Requirement already satisfied: six in /usr/local/lib/python3.6/dist-packages (from cycler>=0.10->matplotlib>=1.4.0->scikit-plot) (1.12.0)\n"
          ],
          "name": "stdout"
        }
      ]
    },
    {
      "cell_type": "code",
      "metadata": {
        "id": "hOVEINx-UcPW",
        "colab_type": "code",
        "outputId": "7456d261-79eb-45d6-dea0-650d8e66047e",
        "colab": {
          "base_uri": "https://localhost:8080/",
          "height": 366
        }
      },
      "source": [
        "from sklearn.model_selection import train_test_split\n",
        "from sklearn.metrics import roc_auc_score\n",
        "from sklearn.ensemble import RandomForestClassifier\n",
        "import matplotlib.pyplot as plt\n",
        "import scikitplot as skplt\n",
        "\n",
        "#classifying to obtain AUC and ROC\n",
        "def classify(df, feature):\n",
        "  X = df.drop(columns=[feature]) \n",
        "  y = df[feature]\n",
        "\n",
        "  X_train, X_test, y_train, y_test = train_test_split(X, y, test_size=0.3, random_state=42, shuffle=True) #Randomising nad splitting before classification\n",
        "  \n",
        "  rfc = RandomForestClassifier()\n",
        "  rfc.fit(X_train, y_train)\n",
        "  y_test_score = rfc.predict_proba(X_test)\n",
        "  skplt.metrics.plot_roc_curve(y_test, y_test_score)\n",
        "  plt.show()\n",
        "  print('AUC score: ', round(roc_auc_score(y_true=y_test, y_score=y_test_score[:,1]), 4))\n",
        "  return X,y;\n",
        "\n",
        "Classified = pd.concat([df_train, df_test], axis = 0)\n",
        "X,y = classify(Classified, \"is_test\")"
      ],
      "execution_count": 28,
      "outputs": [
        {
          "output_type": "stream",
          "text": [
            "/usr/local/lib/python3.6/dist-packages/sklearn/utils/deprecation.py:87: FutureWarning: Function plot_roc_curve is deprecated; This will be removed in v0.5.0. Please use scikitplot.metrics.plot_roc instead.\n",
            "  warnings.warn(msg, category=FutureWarning)\n"
          ],
          "name": "stderr"
        },
        {
          "output_type": "display_data",
          "data": {
            "image/png": "[encoded data removed]",
            "text/plain": [
              "<Figure size 432x288 with 1 Axes>"
            ]
          },
          "metadata": {
            "tags": [],
            "needs_background": "light"
          }
        },
        {
          "output_type": "stream",
          "text": [
            "AUC score:  1.0\n"
          ],
          "name": "stdout"
        }
      ]
    },
    {
      "cell_type": "markdown",
      "metadata": {
        "id": "vSgadZykYlx0",
        "colab_type": "text"
      },
      "source": [
        "#Searching for columns casuing Covariate Shift"
      ]
    },
    {
      "cell_type": "code",
      "metadata": {
        "id": "7XjXaSqzYtih",
        "colab_type": "code",
        "colab": {
          "base_uri": "https://localhost:8080/",
          "height": 51
        },
        "outputId": "e46d63af-389b-4a3b-fdcf-f8c95d9fb1b4"
      },
      "source": [
        "from sklearn.model_selection import cross_val_score\n",
        "import numpy as np\n",
        "drop_list = []\n",
        "model = RandomForestClassifier(n_estimators = 50, max_depth = 5,min_samples_leaf = 5)\n",
        "for i in X.columns:\n",
        "    score = cross_val_score(model,pd.DataFrame(X[i]),y,cv=2,scoring='roc_auc')\n",
        "    if (np.mean(score) > 0.8):\n",
        "        drop_list.append(i)\n",
        "        print(i,np.mean(score))\n",
        "\n",
        "print(drop_list)\n"
      ],
      "execution_count": 29,
      "outputs": [
        {
          "output_type": "stream",
          "text": [
            "var_0 1.0\n",
            "['var_0']\n"
          ],
          "name": "stdout"
        }
      ]
    },
    {
      "cell_type": "markdown",
      "metadata": {
        "id": "Whlb1CVuaTLM",
        "colab_type": "text"
      },
      "source": [
        "#Removing Features Responsible for Covariate Shift"
      ]
    },
    {
      "cell_type": "code",
      "metadata": {
        "id": "aNCyZGeDabWA",
        "colab_type": "code",
        "colab": {
          "base_uri": "https://localhost:8080/",
          "height": 319
        },
        "outputId": "d0ee3ff2-a71a-4181-c619-6af05cace079"
      },
      "source": [
        "#Classified.drop(columns=[\"var_0\"],inplace=True)\n",
        "print(Classified.shape)\n",
        "\n",
        "def histo(df_test, df_train, feature):\n",
        "  print(\"Histogram of dataset on '\",feature,\"'\")\n",
        "  histo = sns.distplot(df_test[[feature]].values.T[0], color=\"blue\", kde=False, label=\"Testing data\")\n",
        "  histo = sns.distplot(df_train[[feature]].values.T[0], color=\"red\", kde=False, label=\"Training data\")\n",
        "  legend = histo.legend()\n",
        "\n",
        "df_orig = df_train_Orig.drop(columns=[target_var,id_var])\n",
        "normalized_test=(df_test-df_orig.min())/(df_orig.max()-df_orig.min())\n",
        "normalized_train=(df_train-df_orig.min())/(df_orig.max()-df_orig.min())\n",
        "\n",
        "histo(df_test, df_train,\"var_0\")\n",
        "# histo(normalized_test, normalized_train,\"var_0\")\n",
        "# histo(orig_df_train,orig_df_train,\"var_0\")\n",
        "\n",
        "#histo(normalized_test, normalized_train,\"var_0\")\n",
        "# histo(orig_df_train,orig_df_train,\"var_0\")\n"
      ],
      "execution_count": 19,
      "outputs": [
        {
          "output_type": "stream",
          "text": [
            "(200000, 200)\n",
            "Histogram of dataset on ' var_0 '\n",
            "Histogram of dataset on ' var_0 '\n"
          ],
          "name": "stdout"
        },
        {
          "output_type": "display_data",
          "data": {
            "image/png": "[encoded data removed]",
            "text/plain": [
              "<Figure size 432x288 with 1 Axes>"
            ]
          },
          "metadata": {
            "tags": [],
            "needs_background": "light"
          }
        }
      ]
    },
    {
      "cell_type": "markdown",
      "metadata": {
        "id": "HCB15tAyfBRL",
        "colab_type": "text"
      },
      "source": [
        "#Splitting and Classifying after the removal of covariate shift"
      ]
    },
    {
      "cell_type": "code",
      "metadata": {
        "id": "qoVYTcaDfJI8",
        "colab_type": "code",
        "colab": {
          "base_uri": "https://localhost:8080/",
          "height": 366
        },
        "outputId": "a948e203-bab8-432c-98bb-7db7a83b3047"
      },
      "source": [
        "unused,unused2 = classify(Classified,\"is_test\")"
      ],
      "execution_count": 22,
      "outputs": [
        {
          "output_type": "stream",
          "text": [
            "/usr/local/lib/python3.6/dist-packages/sklearn/utils/deprecation.py:87: FutureWarning: Function plot_roc_curve is deprecated; This will be removed in v0.5.0. Please use scikitplot.metrics.plot_roc instead.\n",
            "  warnings.warn(msg, category=FutureWarning)\n"
          ],
          "name": "stderr"
        },
        {
          "output_type": "display_data",
          "data": {
            "image/png": "[encoded data removed]",
            "text/plain": [
              "<Figure size 432x288 with 1 Axes>"
            ]
          },
          "metadata": {
            "tags": [],
            "needs_background": "light"
          }
        },
        {
          "output_type": "stream",
          "text": [
            "AUC score:  0.4989\n"
          ],
          "name": "stdout"
        }
      ]
    },
    {
      "cell_type": "markdown",
      "metadata": {
        "id": "qAdP0JAvpirP",
        "colab_type": "text"
      },
      "source": [
        "#Checking performance with covariate shift present"
      ]
    },
    {
      "cell_type": "code",
      "metadata": {
        "id": "0-Vk5MGuppzQ",
        "colab_type": "code",
        "colab": {}
      },
      "source": [
        "classify(df_train_Orig, \"target\")"
      ],
      "execution_count": 0,
      "outputs": []
    },
    {
      "cell_type": "markdown",
      "metadata": {
        "id": "m4Qo_CpHfjXU",
        "colab_type": "text"
      },
      "source": [
        "#Checking performance after the removal of covariate shift"
      ]
    },
    {
      "cell_type": "code",
      "metadata": {
        "id": "vHIq4L2sfl_C",
        "colab_type": "code",
        "colab": {
          "base_uri": "https://localhost:8080/",
          "height": 791
        },
        "outputId": "cacac882-2b43-47ec-c43d-2c92541f826e"
      },
      "source": [
        "df_no_covariate = df_train_Orig.drop(columns=[id_var,\"var_0\"])\n",
        "classify(df_no_covariate,\"target\")"
      ],
      "execution_count": 26,
      "outputs": [
        {
          "output_type": "stream",
          "text": [
            "/usr/local/lib/python3.6/dist-packages/sklearn/utils/deprecation.py:87: FutureWarning: Function plot_roc_curve is deprecated; This will be removed in v0.5.0. Please use scikitplot.metrics.plot_roc instead.\n",
            "  warnings.warn(msg, category=FutureWarning)\n"
          ],
          "name": "stderr"
        },
        {
          "output_type": "display_data",
          "data": {
            "image/png": "[encoded data removed]",
            "text/plain": [
              "<Figure size 432x288 with 1 Axes>"
            ]
          },
          "metadata": {
            "tags": [],
            "needs_background": "light"
          }
        },
        {
          "output_type": "stream",
          "text": [
            "AUC score:  0.8168\n"
          ],
          "name": "stdout"
        },
        {
          "output_type": "execute_result",
          "data": {
            "text/plain": [
              "(         var_1    var_2   var_3    var_4  ...  var_196  var_197  var_198  var_199\n",
              " 0      -6.7863  11.9081  5.0930  11.4607  ...   7.8784   8.5635  12.7803  -1.0914\n",
              " 1      -4.1473  13.8588  5.3890  12.3622  ...   8.1267   8.7889  18.3560   1.9518\n",
              " 2      -2.7457  12.0805  7.8928  10.5825  ...  -6.5213   8.2675  14.7222   0.3965\n",
              " 3      -2.1518   8.9522  7.1957  12.5846  ...  -2.9275  10.2922  17.9697  -8.9996\n",
              " 4      -1.4834  12.8746  6.6375  12.2772  ...   3.9267   9.5031  17.9974  -8.8104\n",
              " ...        ...      ...     ...      ...  ...      ...      ...      ...      ...\n",
              " 199995 -0.4956   8.2622  3.5142  10.3404  ...   2.1661   8.5326  16.6660 -17.8661\n",
              " 199996 -2.4484  16.7052  6.6345   8.3096  ...  -2.1651   6.7419  15.9054   0.3388\n",
              " 199997 -5.0518  10.5127  5.6456   9.3410  ...   1.2832   8.7155  13.8329   4.1995\n",
              " 199998 -8.6098  13.6104  5.7930  12.5173  ...   6.7980  10.0342  15.5289 -13.9001\n",
              " 199999 -5.7105  12.1183  8.0328  11.5577  ...  -2.2342   8.1857  12.1284   0.1385\n",
              " \n",
              " [200000 rows x 199 columns], 0         0\n",
              " 1         0\n",
              " 2         0\n",
              " 3         0\n",
              " 4         0\n",
              "          ..\n",
              " 199995    0\n",
              " 199996    0\n",
              " 199997    0\n",
              " 199998    0\n",
              " 199999    0\n",
              " Name: target, Length: 200000, dtype: int64)"
            ]
          },
          "metadata": {
            "tags": []
          },
          "execution_count": 26
        }
      ]
    },
    {
      "cell_type": "code",
      "metadata": {
        "id": "O1rRomw9cvyX",
        "colab_type": "code",
        "colab": {}
      },
      "source": [
        "##Let's use simple Random Forest as Classifier\n",
        "#rfc = RandomForestClassifier()\n",
        "#rfc.fit(X_train, y_train)\n",
        "#y_test_score = rfc.predict_proba(X_test)\n",
        "\n",
        "#import matplotlib.pyplot as plt\n",
        "\n",
        "#skplt.metrics.plot_roc_curve(y_test, y_test_score)\n",
        "#plt.show()\n",
        "\n",
        "\n",
        "##AUC score is about 0.5\n",
        "#print('AUC score: ', round(roc_auc_score(y_true=y_test, y_score=y_test_score[:,1]), 4))"
      ],
      "execution_count": 0,
      "outputs": []
    }
  ]
}