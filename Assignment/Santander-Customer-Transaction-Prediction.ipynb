{
  "nbformat": 4,
  "nbformat_minor": 0,
  "metadata": {
    "colab": {
      "name": "Assignment1.ipynb",
      "provenance": [],
      "toc_visible": true,
      "machine_shape": "hm",
      "include_colab_link": true
    },
    "kernelspec": {
      "name": "python3",
      "display_name": "Python 3"
    },
    "accelerator": "TPU"
  },
  "cells": [
    {
      "cell_type": "markdown",
      "metadata": {
        "id": "view-in-github",
        "colab_type": "text"
      },
      "source": [
        "<a href=\"https://colab.research.google.com/github/kacperkurowski/CE888/blob/master/Assignment/Santander-Customer-Transaction-Prediction.ipynb\" target=\"_parent\"><img src=\"https://colab.research.google.com/assets/colab-badge.svg\" alt=\"Open In Colab\"/></a>"
      ]
    },
    {
      "cell_type": "markdown",
      "metadata": {
        "id": "l6fbJUJzmZux",
        "colab_type": "text"
      },
      "source": [
        "#Assignment 1"
      ]
    },
    {
      "cell_type": "code",
      "metadata": {
        "id": "no2t2d4WwPCb",
        "colab_type": "code",
        "outputId": "6406faaa-5910-4e39-ea34-15f17b4a2596",
        "colab": {
          "base_uri": "https://localhost:8080/",
          "height": 129
        }
      },
      "source": [
        "pip install scikit-plot\n",
        "\n",
        "import os\n",
        "import seaborn as sns\n",
        "from zipfile import ZipFile\n",
        "import pandas as pd\n",
        "from sklearn.model_selection import train_test_split\n",
        "from sklearn.metrics import roc_auc_score\n",
        "from sklearn.ensemble import RandomForestClassifier\n",
        "import matplotlib.pyplot as plt\n",
        "import scikitplot as skplt\n",
        "from sklearn.model_selection import cross_val_score\n",
        "import numpy as np"
      ],
      "execution_count": 3,
      "outputs": [
        {
          "output_type": "error",
          "ename": "SyntaxError",
          "evalue": "ignored",
          "traceback": [
            "\u001b[0;36m  File \u001b[0;32m\"<ipython-input-3-1bf1f76e2144>\"\u001b[0;36m, line \u001b[0;32m1\u001b[0m\n\u001b[0;31m    pip install scikit-plot\u001b[0m\n\u001b[0m              ^\u001b[0m\n\u001b[0;31mSyntaxError\u001b[0m\u001b[0;31m:\u001b[0m invalid syntax\n"
          ]
        }
      ]
    },
    {
      "cell_type": "code",
      "metadata": {
        "id": "aI0PLPGlmg0o",
        "colab_type": "code",
        "colab": {
          "base_uri": "https://localhost:8080/",
          "height": 197
        },
        "outputId": "308586c6-880e-4d30-fc26-78fb8a6e8a03"
      },
      "source": [
        "os.environ['KAGGLE_USERNAME'] = \"kacperkurowski\" # username from the json file\n",
        "\n",
        "os.environ['KAGGLE_KEY'] = \"7c927dd985620db03df77b3804e71a95\" # key from the json file"
      ],
      "execution_count": 4,
      "outputs": [
        {
          "output_type": "error",
          "ename": "NameError",
          "evalue": "ignored",
          "traceback": [
            "\u001b[0;31m---------------------------------------------------------------------------\u001b[0m",
            "\u001b[0;31mNameError\u001b[0m                                 Traceback (most recent call last)",
            "\u001b[0;32m<ipython-input-4-09187bfb5374>\u001b[0m in \u001b[0;36m<module>\u001b[0;34m()\u001b[0m\n\u001b[0;32m----> 1\u001b[0;31m \u001b[0mos\u001b[0m\u001b[0;34m.\u001b[0m\u001b[0menviron\u001b[0m\u001b[0;34m[\u001b[0m\u001b[0;34m'KAGGLE_USERNAME'\u001b[0m\u001b[0;34m]\u001b[0m \u001b[0;34m=\u001b[0m \u001b[0;34m\"kacperkurowski\"\u001b[0m \u001b[0;31m# username from the json file\u001b[0m\u001b[0;34m\u001b[0m\u001b[0;34m\u001b[0m\u001b[0m\n\u001b[0m\u001b[1;32m      2\u001b[0m \u001b[0;34m\u001b[0m\u001b[0m\n\u001b[1;32m      3\u001b[0m \u001b[0mos\u001b[0m\u001b[0;34m.\u001b[0m\u001b[0menviron\u001b[0m\u001b[0;34m[\u001b[0m\u001b[0;34m'KAGGLE_KEY'\u001b[0m\u001b[0;34m]\u001b[0m \u001b[0;34m=\u001b[0m \u001b[0;34m\"7c927dd985620db03df77b3804e71a95\"\u001b[0m \u001b[0;31m# key from the json file\u001b[0m\u001b[0;34m\u001b[0m\u001b[0;34m\u001b[0m\u001b[0m\n",
            "\u001b[0;31mNameError\u001b[0m: name 'os' is not defined"
          ]
        }
      ]
    },
    {
      "cell_type": "markdown",
      "metadata": {
        "id": "KMlc0z9a8Zeb",
        "colab_type": "text"
      },
      "source": [
        "#Unzipping Function"
      ]
    },
    {
      "cell_type": "code",
      "metadata": {
        "id": "PT_5tbpE8cGw",
        "colab_type": "code",
        "colab": {}
      },
      "source": [
        "def unzip(file):\n",
        "  with ZipFile(file, 'r') as zip:\n",
        "    zip.extractall()\n",
        "    print('extracted: ',file)"
      ],
      "execution_count": 0,
      "outputs": []
    },
    {
      "cell_type": "markdown",
      "metadata": {
        "id": "ibda9W-7htTd",
        "colab_type": "text"
      },
      "source": [
        "##1.Loading Data"
      ]
    },
    {
      "cell_type": "code",
      "metadata": {
        "id": "al-h0ys9hqIH",
        "colab_type": "code",
        "colab": {}
      },
      "source": [
        "!kaggle competitions download -c santander-customer-transaction-prediction # api copied from kaggle"
      ],
      "execution_count": 0,
      "outputs": []
    },
    {
      "cell_type": "markdown",
      "metadata": {
        "id": "ic6PAkRxiaEA",
        "colab_type": "text"
      },
      "source": [
        "##1.Removing Files that are not used"
      ]
    },
    {
      "cell_type": "code",
      "metadata": {
        "id": "HWMHX4d2ieLe",
        "colab_type": "code",
        "colab": {}
      },
      "source": [
        "!rm sample_submission.csv.zip\n",
        "!ls"
      ],
      "execution_count": 0,
      "outputs": []
    },
    {
      "cell_type": "markdown",
      "metadata": {
        "id": "HByKGqPaztLA",
        "colab_type": "text"
      },
      "source": [
        "#1.Unzipping The Files"
      ]
    },
    {
      "cell_type": "code",
      "metadata": {
        "id": "LxDDossE-7MX",
        "colab_type": "code",
        "colab": {}
      },
      "source": [
        "unzip(\"/content/train.csv.zip\")"
      ],
      "execution_count": 0,
      "outputs": []
    },
    {
      "cell_type": "markdown",
      "metadata": {
        "id": "KYK3bJw1nAx0",
        "colab_type": "text"
      },
      "source": [
        "##Loading the files"
      ]
    },
    {
      "cell_type": "code",
      "metadata": {
        "id": "ytECVtYqnFy7",
        "colab_type": "code",
        "colab": {}
      },
      "source": [
        "df_train_Orig = pd.read_csv(\"train.csv\", header = 0, sep = ',', quotechar = '\"')\n",
        "\n",
        "print(df_train_Orig)"
      ],
      "execution_count": 0,
      "outputs": []
    },
    {
      "cell_type": "markdown",
      "metadata": {
        "id": "9dad7Jh13ihk",
        "colab_type": "text"
      },
      "source": [
        "##Plotting Histogram of Santander-Customer-Transaction-Prediction Train Data"
      ]
    },
    {
      "cell_type": "code",
      "metadata": {
        "id": "aeYVPJRR4F3Q",
        "colab_type": "code",
        "colab": {}
      },
      "source": [
        "y_df = df_train_Orig[\"var_0\"].copy()\n",
        "y = y_df.values\n",
        "sns_plot = sns.distplot(y, kde=False, rug=True)"
      ],
      "execution_count": 0,
      "outputs": []
    },
    {
      "cell_type": "markdown",
      "metadata": {
        "id": "o6sJ7Ufj_EwY",
        "colab_type": "text"
      },
      "source": [
        "##Adding Test Columns for testing Covariate Shift"
      ]
    },
    {
      "cell_type": "markdown",
      "metadata": {
        "id": "KLn_oaPbxe77",
        "colab_type": "text"
      },
      "source": [
        "Here i incorporate covariate shift, by placing all the data that is higher than 9.0 into the train column and everything below 9.0 into the test. \n",
        "This will cause there to be a covariate shift, as the train and test data use different data."
      ]
    },
    {
      "cell_type": "code",
      "metadata": {
        "id": "V3mAAsluUdgG",
        "colab_type": "code",
        "colab": {}
      },
      "source": [
        "target_var = \"target\"\n",
        "id_var = \"ID_code\"\n",
        "\n",
        "\n",
        "df_train = df_train_Orig.where(df_train_Orig[\"var_0\"]>9.0).dropna().drop(columns=[target_var,id_var])\n",
        "df_test = df_train_Orig.where(df_train_Orig[\"var_0\"]<=9.0).dropna().drop(columns=[target_var,id_var])\n",
        "df_train['is_test'] = 0\n",
        "df_test['is_test'] = 1\n",
        "print(df_train)\n",
        "print(df_test)"
      ],
      "execution_count": 0,
      "outputs": []
    },
    {
      "cell_type": "markdown",
      "metadata": {
        "id": "J_wK9KgqpBZw",
        "colab_type": "text"
      },
      "source": [
        "I have implemented covariate shift in the 'var_0' variable by removing it into another array if it is smaller than 9.0. This will allow me to test for the present covariate shift later.\n",
        "\n",
        "The test and train data is labelled with a 'is_test' variable so that after merging and training on the data is complete, the accuracy can be deduced (AUC score)."
      ]
    },
    {
      "cell_type": "markdown",
      "metadata": {
        "id": "JyYNFjAiUWWH",
        "colab_type": "text"
      },
      "source": [
        "#Classifying to Obtain AUC "
      ]
    },
    {
      "cell_type": "code",
      "metadata": {
        "id": "hOVEINx-UcPW",
        "colab_type": "code",
        "colab": {}
      },
      "source": [
        "def classify(MergedData, feature):\n",
        "  X = MergedData.drop(columns=[feature]) \n",
        "  y = MergedData[feature]\n",
        "\n",
        "  X_train, X_test, y_train, y_test = train_test_split(X, y, test_size=0.3, random_state=42, shuffle=True)\n",
        "  \n",
        "  rfc = RandomForestClassifier()\n",
        "  rfc.fit(X_train, y_train)\n",
        "  y_test_score = rfc.predict_proba(X_test)\n",
        "  skplt.metrics.plot_roc_curve(y_test, y_test_score)\n",
        "  plt.show()\n",
        "  print('AUC score: ', round(roc_auc_score(y_true=y_test, y_score=y_test_score[:,1]), 4))\n",
        "  return X,y;\n",
        "\n",
        "Classified = pd.concat([df_train, df_test], axis = 0)\n",
        "X,y = classify(Classified, \"is_test\")"
      ],
      "execution_count": 0,
      "outputs": []
    },
    {
      "cell_type": "markdown",
      "metadata": {
        "id": "QOEDGlrNol1S",
        "colab_type": "text"
      },
      "source": [
        "The score is above approximately 0.75, signifying the there is covariate shift present in the data. This is done by testing if the testing data and training data can be differentiated from one another. A result os 1.0 means that the data is very easy to differentiate and therefore isnt similar."
      ]
    },
    {
      "cell_type": "markdown",
      "metadata": {
        "id": "vSgadZykYlx0",
        "colab_type": "text"
      },
      "source": [
        "#Searching for columns causing Covariate Shift"
      ]
    },
    {
      "cell_type": "code",
      "metadata": {
        "id": "7XjXaSqzYtih",
        "colab_type": "code",
        "colab": {}
      },
      "source": [
        "dropped_columns = []\n",
        "model = RandomForestClassifier(n_estimators = 100, max_depth = 8,min_samples_leaf = 5)\n",
        "for n in X.columns:\n",
        "    score = cross_val_score(model,pd.DataFrame(X[i]),y,cv=2,scoring='roc_auc')\n",
        "    if (np.mean(score) > 0.8):\n",
        "        dropped_columns.append(n)\n",
        "        print(n,np.mean(score))\n",
        "\n",
        "print(dropped_columns)\n"
      ],
      "execution_count": 0,
      "outputs": []
    },
    {
      "cell_type": "markdown",
      "metadata": {
        "id": "GPfxLbqeqPhs",
        "colab_type": "text"
      },
      "source": [
        "Variables with covariate shift are detected, as removing them can influence the covariate shift of the data. (this is one method for doing this, however it also usually effect the data depending on how key the removed variables were)."
      ]
    },
    {
      "cell_type": "markdown",
      "metadata": {
        "id": "Whlb1CVuaTLM",
        "colab_type": "text"
      },
      "source": [
        "#Removing Features Responsible for Covariate Shift"
      ]
    },
    {
      "cell_type": "code",
      "metadata": {
        "id": "aNCyZGeDabWA",
        "colab_type": "code",
        "colab": {}
      },
      "source": [
        "print(Classified.shape)\n",
        "\n",
        "def histogram(df_test, df_train, data):\n",
        "  print(\"Histogram of dataset on '\",data,\"'\")\n",
        "  histo = sns.distplot(df_test[[data]].values.T[0], color=\"blue\", kde=False, label=\"Testing data\")\n",
        "  histo = sns.distplot(df_train[[data]].values.T[0], color=\"red\", kde=False, label=\"Training data\")\n",
        "  legend = histo.legend()\n",
        "\n",
        "df_orig = df_train_Orig.drop(columns=[target_var,id_var])\n",
        "normalized_test=(df_test-df_orig.min())/(df_orig.max()-df_orig.min())\n",
        "normalized_train=(df_train-df_orig.min())/(df_orig.max()-df_orig.min())\n",
        "\n",
        "histogram(df_test, df_train,\"var_0\")"
      ],
      "execution_count": 0,
      "outputs": []
    },
    {
      "cell_type": "markdown",
      "metadata": {
        "id": "deWM8lInquLJ",
        "colab_type": "text"
      },
      "source": [
        "A Histogram of the Training and Testing data can be seen. The testing data is made from the training data as the result column wasnt present in both the training and testing data and it made it difficult to test the accuracy of the classification."
      ]
    },
    {
      "cell_type": "markdown",
      "metadata": {
        "id": "HCB15tAyfBRL",
        "colab_type": "text"
      },
      "source": [
        "#Splitting and Classifying after the removal of covariate shift"
      ]
    },
    {
      "cell_type": "code",
      "metadata": {
        "id": "qoVYTcaDfJI8",
        "colab_type": "code",
        "colab": {}
      },
      "source": [
        "unused,unused2 = classify(Classified,\"is_test\")"
      ],
      "execution_count": 0,
      "outputs": []
    },
    {
      "cell_type": "markdown",
      "metadata": {
        "id": "vcotkbm0sMWl",
        "colab_type": "text"
      },
      "source": [
        "After the covariate shift was completely removed from the data it can be seen that the result of the classifier is approximately 0.5. This signifiies that the classifier coul;dnt differentiate between testing and training data, meaning that covariate shift was succesfully removed."
      ]
    },
    {
      "cell_type": "markdown",
      "metadata": {
        "id": "qAdP0JAvpirP",
        "colab_type": "text"
      },
      "source": [
        "#Checking performance with covariate shift present"
      ]
    },
    {
      "cell_type": "code",
      "metadata": {
        "id": "0-Vk5MGuppzQ",
        "colab_type": "code",
        "colab": {}
      },
      "source": [
        "classify(df_train_Orig, \"target\")"
      ],
      "execution_count": 0,
      "outputs": []
    },
    {
      "cell_type": "markdown",
      "metadata": {
        "id": "m4Qo_CpHfjXU",
        "colab_type": "text"
      },
      "source": [
        "#Checking performance after the removal of covariate shift"
      ]
    },
    {
      "cell_type": "code",
      "metadata": {
        "id": "vHIq4L2sfl_C",
        "colab_type": "code",
        "colab": {}
      },
      "source": [
        "df_no_covariate = df_train_Orig.drop(columns=[id_var,\"var_0\"])\n",
        "classify(df_no_covariate,\"target\")"
      ],
      "execution_count": 0,
      "outputs": []
    },
    {
      "cell_type": "code",
      "metadata": {
        "id": "O1rRomw9cvyX",
        "colab_type": "code",
        "colab": {}
      },
      "source": [
        "##Let's use simple Random Forest as Classifier\n",
        "#rfc = RandomForestClassifier()\n",
        "#rfc.fit(X_train, y_train)\n",
        "#y_test_score = rfc.predict_proba(X_test)\n",
        "\n",
        "#import matplotlib.pyplot as plt\n",
        "\n",
        "#skplt.metrics.plot_roc_curve(y_test, y_test_score)\n",
        "#plt.show()\n",
        "\n",
        "\n",
        "##AUC score is about 0.5\n",
        "#print('AUC score: ', round(roc_auc_score(y_true=y_test, y_score=y_test_score[:,1]), 4))"
      ],
      "execution_count": 0,
      "outputs": []
    }
  ]
}