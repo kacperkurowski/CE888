{
  "nbformat": 4,
  "nbformat_minor": 0,
  "metadata": {
    "colab": {
      "name": "Assignment1.ipynb",
      "provenance": [],
      "machine_shape": "hm",
      "include_colab_link": true
    },
    "kernelspec": {
      "name": "python3",
      "display_name": "Python 3"
    },
    "accelerator": "TPU"
  },
  "cells": [
    {
      "cell_type": "markdown",
      "metadata": {
        "id": "view-in-github",
        "colab_type": "text"
      },
      "source": [
        "<a href=\"https://colab.research.google.com/github/kacperkurowski/CE888/blob/master/Assignment/Microsoft-Malware-Prediction.ipynb\" target=\"_parent\"><img src=\"https://colab.research.google.com/assets/colab-badge.svg\" alt=\"Open In Colab\"/></a>"
      ]
    },
    {
      "cell_type": "markdown",
      "metadata": {
        "id": "l6fbJUJzmZux",
        "colab_type": "text"
      },
      "source": [
        "#Assignment 1"
      ]
    },
    {
      "cell_type": "code",
      "metadata": {
        "id": "no2t2d4WwPCb",
        "colab_type": "code",
        "colab": {}
      },
      "source": [
        "import os\n",
        "import seaborn as sns"
      ],
      "execution_count": 0,
      "outputs": []
    },
    {
      "cell_type": "markdown",
      "metadata": {
        "id": "K-rpz9mmmdm4",
        "colab_type": "text"
      },
      "source": [
        "##1.Loading Data"
      ]
    },
    {
      "cell_type": "code",
      "metadata": {
        "id": "aI0PLPGlmg0o",
        "colab_type": "code",
        "outputId": "2ed67d17-5009-452d-a021-81e593f7b8f2",
        "colab": {
          "base_uri": "https://localhost:8080/",
          "height": 187
        }
      },
      "source": [
        "os.environ['KAGGLE_USERNAME'] = \"kacperkurowski\" # username from the json file\n",
        "\n",
        "os.environ['KAGGLE_KEY'] = \"7c927dd985620db03df77b3804e71a95\" # key from the json file\n",
        "\n",
        "!kaggle competitions download -c microsoft-malware-prediction # api copied from kaggle"
      ],
      "execution_count": 2,
      "outputs": [
        {
          "output_type": "stream",
          "text": [
            "Warning: Looks like you're using an outdated API Version, please consider updating (server 1.5.6 / client 1.5.4)\n",
            "Downloading sample_submission.csv.zip to /content\n",
            " 95% 127M/134M [00:08<00:00, 17.4MB/s]\n",
            "100% 134M/134M [00:08<00:00, 17.2MB/s]\n",
            "Downloading test.csv.zip to /content\n",
            "100% 669M/672M [00:30<00:00, 30.2MB/s]\n",
            "100% 672M/672M [00:30<00:00, 23.4MB/s]\n",
            "Downloading train.csv.zip to /content\n",
            "100% 768M/768M [00:17<00:00, 52.1MB/s]\n",
            "100% 768M/768M [00:17<00:00, 45.4MB/s]\n"
          ],
          "name": "stdout"
        }
      ]
    },
    {
      "cell_type": "markdown",
      "metadata": {
        "id": "mQoVlofWhM5-",
        "colab_type": "text"
      },
      "source": [
        "##1.Renaming Files as data downloaded causes overwrite due to same file names"
      ]
    },
    {
      "cell_type": "code",
      "metadata": {
        "id": "U13bC_cifI2P",
        "colab_type": "code",
        "outputId": "3892b3cd-8f98-4b20-fe85-a4fab0bdd841",
        "colab": {
          "base_uri": "https://localhost:8080/",
          "height": 34
        }
      },
      "source": [
        "!rename 's/test.csv.zip/test1.csv.zip/' test.csv.zip\n",
        "!rename 's/train.csv.zip/train1.csv.zip/' train.csv.zip\n",
        "!ls"
      ],
      "execution_count": 3,
      "outputs": [
        {
          "output_type": "stream",
          "text": [
            "sample_data  sample_submission.csv.zip\ttest1.csv.zip  train1.csv.zip\n"
          ],
          "name": "stdout"
        }
      ]
    },
    {
      "cell_type": "markdown",
      "metadata": {
        "id": "5HouYc3lhIPt",
        "colab_type": "text"
      },
      "source": [
        "##1.Removing Files that are not used"
      ]
    },
    {
      "cell_type": "code",
      "metadata": {
        "id": "oVcnta3Ag0Xv",
        "colab_type": "code",
        "outputId": "243541d8-6522-40b1-b6e5-86edf2d484c3",
        "colab": {
          "base_uri": "https://localhost:8080/",
          "height": 34
        }
      },
      "source": [
        "!rm sample_submission.csv.zip\n",
        "!rm -r sample_data\n",
        "!ls"
      ],
      "execution_count": 4,
      "outputs": [
        {
          "output_type": "stream",
          "text": [
            "test1.csv.zip  train1.csv.zip\n"
          ],
          "name": "stdout"
        }
      ]
    },
    {
      "cell_type": "markdown",
      "metadata": {
        "id": "KYK3bJw1nAx0",
        "colab_type": "text"
      },
      "source": [
        "##Loading the files"
      ]
    },
    {
      "cell_type": "code",
      "metadata": {
        "id": "ytECVtYqnFy7",
        "colab_type": "code",
        "outputId": "e18007e9-8d5b-48ba-b125-2ed5bf5c6200",
        "colab": {
          "base_uri": "https://localhost:8080/",
          "height": 527
        }
      },
      "source": [
        "import pandas as pd\n",
        "\n",
        "df_test1 = pd.read_csv(\"test1.csv.zip\", compression = 'zip', header = 0, sep = ',', quotechar = '\"')\n",
        "\n",
        "print(df_test1)\n",
        "\n",
        "df_train1 = pd.read_csv(\"train1.csv.zip\", compression = 'zip', header = 0, sep = ',', quotechar = '\"')\n",
        "\n",
        "print(df_train1)"
      ],
      "execution_count": 5,
      "outputs": [
        {
          "output_type": "stream",
          "text": [
            "/usr/local/lib/python3.6/dist-packages/IPython/core/interactiveshell.py:2718: DtypeWarning: Columns (28) have mixed types. Specify dtype option on import or set low_memory=False.\n",
            "  interactivity=interactivity, compiler=compiler, result=result)\n"
          ],
          "name": "stderr"
        },
        {
          "output_type": "stream",
          "text": [
            "                        MachineIdentifier  ... Wdft_RegionIdentifier\n",
            "0        0000010489e3af074adeac69c53e555e  ...                   7.0\n",
            "1        00000176ac758d54827acd545b6315a5  ...                  12.0\n",
            "2        0000019dcefc128c2d4387c1273dae1d  ...                  11.0\n",
            "3        0000055553dc51b1295785415f1a224d  ...                  10.0\n",
            "4        00000574cefffeca83ec8adf9285b2bf  ...                   3.0\n",
            "...                                   ...  ...                   ...\n",
            "7853248  fffff8c0e065c468a2373f7afd5e7674  ...                  10.0\n",
            "7853249  fffff90b27a1248b6fffc7a535bd736c  ...                  11.0\n",
            "7853250  fffffa6a956c17ddbabca53d4ab708ae  ...                   7.0\n",
            "7853251  fffffad7b6c8196ec5cae634406c0d4f  ...                  11.0\n",
            "7853252  fffffbd305a90eb0f93ee4f30a39c736  ...                  10.0\n",
            "\n",
            "[7853253 rows x 82 columns]\n",
            "                        MachineIdentifier  ... HasDetections\n",
            "0        0000028988387b115f69f31a3bf04f09  ...             0\n",
            "1        000007535c3f730efa9ea0b7ef1bd645  ...             0\n",
            "2        000007905a28d863f6d0d597892cd692  ...             0\n",
            "3        00000b11598a75ea8ba1beea8459149f  ...             1\n",
            "4        000014a5f00daa18e76b81417eeb99fc  ...             1\n",
            "...                                   ...  ...           ...\n",
            "8921478  ffffedfe8fcc46e6d36ab39953589fee  ...             1\n",
            "8921479  ffffef606490b2970873ec0a27ebd24b  ...             0\n",
            "8921480  fffff8a40070d2d8379bb7fa2ed2fa66  ...             1\n",
            "8921481  fffffbbaaf5969ae4b93e7f3f6d7132f  ...             1\n",
            "8921482  ffffff75ba4f33d938ccfdb148b8ea16  ...             0\n",
            "\n",
            "[8921483 rows x 83 columns]\n"
          ],
          "name": "stdout"
        }
      ]
    },
    {
      "cell_type": "markdown",
      "metadata": {
        "id": "ByT_sFTY2xBV",
        "colab_type": "text"
      },
      "source": [
        "##Plotting Histogram of Microsoft-Malware-Prediction Train Data"
      ]
    },
    {
      "cell_type": "code",
      "metadata": {
        "id": "Zm43a5K_qLKc",
        "colab_type": "code",
        "outputId": "e50f612e-b948-45f7-8a87-78b4ac65af90",
        "colab": {
          "base_uri": "https://localhost:8080/",
          "height": 276
        }
      },
      "source": [
        "y_df = df_train1[\"Census_InternalPrimaryDisplayResolutionVertical\"].copy()\n",
        "y = y_df.values\n",
        "sns_plot = sns.distplot(y, kde=False, rug=True)"
      ],
      "execution_count": 6,
      "outputs": [
        {
          "output_type": "display_data",
          "data": {
            "image/png": "[encoded data removed]",
            "text/plain": [
              "<Figure size 432x288 with 1 Axes>"
            ]
          },
          "metadata": {
            "tags": []
          }
        }
      ]
    },
    {
      "cell_type": "markdown",
      "metadata": {
        "id": "6e2tgEgy3AR0",
        "colab_type": "text"
      },
      "source": [
        "##Plotting Histogram of Microsoft-Malware-Prediction Test Data"
      ]
    },
    {
      "cell_type": "code",
      "metadata": {
        "id": "RDdcLgY73EcU",
        "colab_type": "code",
        "outputId": "36b94b12-b9a1-4963-eab2-f5262bfb5a2f",
        "colab": {
          "base_uri": "https://localhost:8080/",
          "height": 276
        }
      },
      "source": [
        "y_df = df_test1[\"Census_InternalPrimaryDisplayResolutionVertical\"].copy()\n",
        "y = y_df.values\n",
        "sns_plot = sns.distplot(y, kde=False, rug=True)"
      ],
      "execution_count": 7,
      "outputs": [
        {
          "output_type": "display_data",
          "data": {
            "image/png": "[encoded data removed]",
            "text/plain": [
              "<Figure size 432x288 with 1 Axes>"
            ]
          },
          "metadata": {
            "tags": []
          }
        }
      ]
    },
    {
      "cell_type": "markdown",
      "metadata": {
        "id": "o6sJ7Ufj_EwY",
        "colab_type": "text"
      },
      "source": [
        "##Adding Test Columns for testing Covariate Shift"
      ]
    },
    {
      "cell_type": "code",
      "metadata": {
        "id": "fsLNzBNg_IXl",
        "colab_type": "code",
        "outputId": "93a626b2-2a7e-4d93-d197-deec81f351d4",
        "colab": {
          "base_uri": "https://localhost:8080/",
          "height": 289
        }
      },
      "source": [
        "df_train1['is_test'] = 0\n",
        "df_test1['is_test'] = 1\n",
        "print(df_train1.head())\n",
        "print(df_test1.head())\n"
      ],
      "execution_count": 8,
      "outputs": [
        {
          "output_type": "stream",
          "text": [
            "                  MachineIdentifier   ProductName  ... HasDetections is_test\n",
            "0  0000028988387b115f69f31a3bf04f09  win8defender  ...             0       0\n",
            "1  000007535c3f730efa9ea0b7ef1bd645  win8defender  ...             0       0\n",
            "2  000007905a28d863f6d0d597892cd692  win8defender  ...             0       0\n",
            "3  00000b11598a75ea8ba1beea8459149f  win8defender  ...             1       0\n",
            "4  000014a5f00daa18e76b81417eeb99fc  win8defender  ...             1       0\n",
            "\n",
            "[5 rows x 84 columns]\n",
            "                  MachineIdentifier  ... is_test\n",
            "0  0000010489e3af074adeac69c53e555e  ...       1\n",
            "1  00000176ac758d54827acd545b6315a5  ...       1\n",
            "2  0000019dcefc128c2d4387c1273dae1d  ...       1\n",
            "3  0000055553dc51b1295785415f1a224d  ...       1\n",
            "4  00000574cefffeca83ec8adf9285b2bf  ...       1\n",
            "\n",
            "[5 rows x 83 columns]\n"
          ],
          "name": "stdout"
        }
      ]
    },
    {
      "cell_type": "markdown",
      "metadata": {
        "id": "JyYNFjAiUWWH",
        "colab_type": "text"
      },
      "source": [
        "##Randomising Test and Train Data Sets"
      ]
    },
    {
      "cell_type": "code",
      "metadata": {
        "id": "hOVEINx-UcPW",
        "colab_type": "code",
        "outputId": "0e34a3d7-635a-4129-835d-b6021eb99536",
        "colab": {
          "base_uri": "https://localhost:8080/",
          "height": 153
        }
      },
      "source": [
        "from sklearn.model_selection import train_test_split\n",
        "from sklearn.metrics import roc_auc_score\n",
        "from sklearn.ensemble import RandomForestClassifier\n",
        "\n",
        "df = pd.concat([df_train1, df_test1], axis = 0)\n",
        "X = df.drop(columns=['is_test'])\n",
        "y = df['is_test']\n",
        "\n",
        "X_train, X_test, y_train, y_test = train_test_split(X, y, test_size=0.3, random_state=42, shuffle=True)\n",
        "print('train1 shape:', X_train.shape, 'test1 shape:', X_test.shape)\n",
        "\n",
        "\n",
        "\n",
        "##Let's use simple Random Forest as Classifier\n",
        "#rfc = RandomForestClassifier()\n",
        "#rfc.fit(X_train, y_train)\n",
        "#y_test_score = rfc.predict_proba(X_test)\n",
        "\n",
        "\n",
        "\n",
        "#import scikitplot as skplt\n",
        "#import matplotlib.pyplot as plt\n",
        "\n",
        "#skplt.metrics.plot_roc_curve(y_test, y_test_score)\n",
        "#plt.show()\n",
        "\n",
        "\n",
        "##AUC score is about 0.5\n",
        "#print('AUC score: ', round(roc_auc_score(y_true=y_test, y_score=y_test_score[:,1]), 4))"
      ],
      "execution_count": 0,
      "outputs": [
        {
          "output_type": "stream",
          "text": [
            "/usr/local/lib/python3.6/dist-packages/ipykernel_launcher.py:5: FutureWarning: Sorting because non-concatenation axis is not aligned. A future version\n",
            "of pandas will change to not sort by default.\n",
            "\n",
            "To accept the future behavior, pass 'sort=False'.\n",
            "\n",
            "To retain the current behavior and silence the warning, pass 'sort=True'.\n",
            "\n",
            "  \"\"\"\n"
          ],
          "name": "stderr"
        }
      ]
    },
    {
      "cell_type": "code",
      "metadata": {
        "id": "x4jyqOIJl-RS",
        "colab_type": "code",
        "colab": {}
      },
      "source": [
        "pip install scikit-plot"
      ],
      "execution_count": 0,
      "outputs": []
    },
    {
      "cell_type": "code",
      "metadata": {
        "id": "O1rRomw9cvyX",
        "colab_type": "code",
        "colab": {}
      },
      "source": [
        "##Let's use simple Random Forest as Classifier\n",
        "rfc = RandomForestClassifier()\n",
        "rfc.fit(X_train, y_train)\n",
        "y_test_score = rfc.predict_proba(X_test)\n",
        "\n",
        "import scikitplot as skplt\n",
        "import matplotlib.pyplot as plt\n",
        "\n",
        "skplt.metrics.plot_roc_curve(y_test, y_test_score)\n",
        "plt.show()\n",
        "\n",
        "\n",
        "##AUC score is about 0.5\n",
        "print('AUC score: ', round(roc_auc_score(y_true=y_test, y_score=y_test_score[:,1]), 4))"
      ],
      "execution_count": 0,
      "outputs": []
    }
  ]
}