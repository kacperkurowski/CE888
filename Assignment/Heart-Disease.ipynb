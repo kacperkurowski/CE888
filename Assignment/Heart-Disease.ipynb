{
  "nbformat": 4,
  "nbformat_minor": 0,
  "metadata": {
    "colab": {
      "name": "Assignment1.ipynb",
      "provenance": [],
      "machine_shape": "hm",
      "include_colab_link": true
    },
    "kernelspec": {
      "name": "python3",
      "display_name": "Python 3"
    },
    "accelerator": "TPU"
  },
  "cells": [
    {
      "cell_type": "markdown",
      "metadata": {
        "id": "view-in-github",
        "colab_type": "text"
      },
      "source": [
        "<a href=\"https://colab.research.google.com/github/kacperkurowski/CE888/blob/master/Assignment/Heart-Disease.ipynb\" target=\"_parent\"><img src=\"https://colab.research.google.com/assets/colab-badge.svg\" alt=\"Open In Colab\"/></a>"
      ]
    },
    {
      "cell_type": "markdown",
      "metadata": {
        "id": "l6fbJUJzmZux",
        "colab_type": "text"
      },
      "source": [
        "#Assignment 2"
      ]
    },
    {
      "cell_type": "markdown",
      "metadata": {
        "id": "-gDTl3LmqA1l",
        "colab_type": "text"
      },
      "source": [
        "#Declaring Libraries"
      ]
    },
    {
      "cell_type": "code",
      "metadata": {
        "id": "GK8pK73fBRWl",
        "colab_type": "code",
        "colab": {
          "base_uri": "https://localhost:8080/",
          "height": 204
        },
        "outputId": "e6c9cfa6-30e8-477b-af5b-3517f0d8538c"
      },
      "source": [
        "pip install scikit-plot"
      ],
      "execution_count": 28,
      "outputs": [
        {
          "output_type": "stream",
          "text": [
            "Requirement already satisfied: scikit-plot in /usr/local/lib/python3.6/dist-packages (0.3.7)\n",
            "Requirement already satisfied: scipy>=0.9 in /usr/local/lib/python3.6/dist-packages (from scikit-plot) (1.4.1)\n",
            "Requirement already satisfied: matplotlib>=1.4.0 in /usr/local/lib/python3.6/dist-packages (from scikit-plot) (3.2.1)\n",
            "Requirement already satisfied: joblib>=0.10 in /usr/local/lib/python3.6/dist-packages (from scikit-plot) (0.14.1)\n",
            "Requirement already satisfied: scikit-learn>=0.18 in /usr/local/lib/python3.6/dist-packages (from scikit-plot) (0.22.2.post1)\n",
            "Requirement already satisfied: numpy>=1.13.3 in /usr/local/lib/python3.6/dist-packages (from scipy>=0.9->scikit-plot) (1.18.2)\n",
            "Requirement already satisfied: kiwisolver>=1.0.1 in /usr/local/lib/python3.6/dist-packages (from matplotlib>=1.4.0->scikit-plot) (1.2.0)\n",
            "Requirement already satisfied: cycler>=0.10 in /usr/local/lib/python3.6/dist-packages (from matplotlib>=1.4.0->scikit-plot) (0.10.0)\n",
            "Requirement already satisfied: pyparsing!=2.0.4,!=2.1.2,!=2.1.6,>=2.0.1 in /usr/local/lib/python3.6/dist-packages (from matplotlib>=1.4.0->scikit-plot) (2.4.7)\n",
            "Requirement already satisfied: python-dateutil>=2.1 in /usr/local/lib/python3.6/dist-packages (from matplotlib>=1.4.0->scikit-plot) (2.8.1)\n",
            "Requirement already satisfied: six in /usr/local/lib/python3.6/dist-packages (from cycler>=0.10->matplotlib>=1.4.0->scikit-plot) (1.12.0)\n"
          ],
          "name": "stdout"
        }
      ]
    },
    {
      "cell_type": "code",
      "metadata": {
        "id": "no2t2d4WwPCb",
        "colab_type": "code",
        "colab": {}
      },
      "source": [
        "from sklearn.model_selection import cross_val_score\n",
        "from sklearn.ensemble import RandomForestClassifier\n",
        "from zipfile import ZipFile\n",
        "from sklearn.model_selection import train_test_split\n",
        "from sklearn.preprocessing import LabelEncoder\n",
        "from sklearn.preprocessing import MinMaxScaler \n",
        "from sklearn.metrics import roc_auc_score\n",
        "import os\n",
        "import pandas as pd\n",
        "import numpy as np\n",
        "import matplotlib.pyplot as plt\n",
        "import seaborn as sns\n",
        "import scikitplot as skplt"
      ],
      "execution_count": 0,
      "outputs": []
    },
    {
      "cell_type": "markdown",
      "metadata": {
        "id": "K-rpz9mmmdm4",
        "colab_type": "text"
      },
      "source": [
        "#Loading Data"
      ]
    },
    {
      "cell_type": "code",
      "metadata": {
        "id": "aI0PLPGlmg0o",
        "colab_type": "code",
        "outputId": "9dfc5c51-c4fd-4333-b066-9904cee2177e",
        "colab": {
          "base_uri": "https://localhost:8080/",
          "height": 255
        }
      },
      "source": [
        "data = \"https://raw.githubusercontent.com/kacperkurowski/CE888/master/Assignment/heart.csv\"\n",
        "df_Original_Data = pd.read_csv(data, header=0, sep=',', quotechar='\"')\n",
        "print(df_Original_Data)"
      ],
      "execution_count": 30,
      "outputs": [
        {
          "output_type": "stream",
          "text": [
            "     age  sex  cp  trestbps  chol  fbs  ...  exang  oldpeak  slope  ca  thal  target\n",
            "0     63    1   3       145   233    1  ...      0      2.3      0   0     1       1\n",
            "1     37    1   2       130   250    0  ...      0      3.5      0   0     2       1\n",
            "2     41    0   1       130   204    0  ...      0      1.4      2   0     2       1\n",
            "3     56    1   1       120   236    0  ...      0      0.8      2   0     2       1\n",
            "4     57    0   0       120   354    0  ...      1      0.6      2   0     2       1\n",
            "..   ...  ...  ..       ...   ...  ...  ...    ...      ...    ...  ..   ...     ...\n",
            "298   57    0   0       140   241    0  ...      1      0.2      1   0     3       0\n",
            "299   45    1   3       110   264    0  ...      0      1.2      1   0     3       0\n",
            "300   68    1   0       144   193    1  ...      0      3.4      1   2     3       0\n",
            "301   57    1   0       130   131    0  ...      1      1.2      1   1     3       0\n",
            "302   57    0   1       130   236    0  ...      0      0.0      1   1     2       0\n",
            "\n",
            "[303 rows x 14 columns]\n"
          ],
          "name": "stdout"
        }
      ]
    },
    {
      "cell_type": "markdown",
      "metadata": {
        "id": "-DJsMYBcOJIQ",
        "colab_type": "text"
      },
      "source": [
        "The data used was taken from kaggle and analysed. Its small, and multiple columns can be used to control the amount of covariate shift. I focused on the cholesterol in the blood vs heart disease."
      ]
    },
    {
      "cell_type": "markdown",
      "metadata": {
        "id": "mQoVlofWhM5-",
        "colab_type": "text"
      },
      "source": [
        "#Creating the test & train datasets from Original dataset"
      ]
    },
    {
      "cell_type": "code",
      "metadata": {
        "id": "Lz8zjOdiKT7G",
        "colab_type": "code",
        "colab": {}
      },
      "source": [
        "target_var = \"target\"\n",
        "cholesterol = 225\n",
        "\n",
        "df_training = df_Original_Data.where(df_Original_Data[\"chol\"]<=cholesterol).dropna().drop(columns=[target_var])\n",
        "df_testing = df_Original_Data.where(df_Original_Data[\"chol\"]>cholesterol).dropna().drop(columns=[target_var])\n"
      ],
      "execution_count": 0,
      "outputs": []
    },
    {
      "cell_type": "markdown",
      "metadata": {
        "id": "ZZUMG1YfKWeF",
        "colab_type": "text"
      },
      "source": [
        "The Data has covariate shift implemented into it, also, using a cholesterol value of 225 seperates the testing and training data into roughtly 30:70 ratio."
      ]
    },
    {
      "cell_type": "markdown",
      "metadata": {
        "id": "AtV0sfXjKX9O",
        "colab_type": "text"
      },
      "source": [
        "#Detecting Covariate shift in data"
      ]
    },
    {
      "cell_type": "code",
      "metadata": {
        "id": "UP8fQGM0KZ2l",
        "colab_type": "code",
        "colab": {}
      },
      "source": [
        "def classify(MergedData, feature):\n",
        "  X = MergedData.drop(columns=[feature]) \n",
        "  y = MergedData[feature]\n",
        "\n",
        "  X_train, X_test, y_train, y_test = train_test_split(X, y, test_size=0.3, random_state=42, shuffle=True)\n",
        "  \n",
        "  rfc = RandomForestClassifier()\n",
        "  rfc.fit(X_train, y_train)\n",
        "  y_test_score = rfc.predict_proba(X_test)\n",
        "  skplt.metrics.plot_roc_curve(y_test, y_test_score)\n",
        "  plt.show()\n",
        "  print('AUC score: ', round(roc_auc_score(y_true=y_test, y_score=y_test_score[:,1]), 4))\n",
        "  return X,y;\n"
      ],
      "execution_count": 0,
      "outputs": []
    },
    {
      "cell_type": "markdown",
      "metadata": {
        "id": "MuaPlfC9ObwQ",
        "colab_type": "text"
      },
      "source": [
        "The classifier function is above and it detects if covariate shift is present based on the output score. a score of 1.0 means there is certainly covariate shift, a score of approximately 0.8 is when is starts to decrease and become uuncertain."
      ]
    },
    {
      "cell_type": "markdown",
      "metadata": {
        "id": "sm0JPpAoKch9",
        "colab_type": "text"
      },
      "source": [
        "Test Column is added to differentiate between the test and train data when checking for covariate shift"
      ]
    },
    {
      "cell_type": "code",
      "metadata": {
        "id": "OoyyHJ5PKd77",
        "colab_type": "code",
        "colab": {
          "base_uri": "https://localhost:8080/",
          "height": 346
        },
        "outputId": "2a44a6d3-0e5a-4d87-ca02-5744403ed71d"
      },
      "source": [
        "df_training['test'] = 0\n",
        "df_testing['test'] = 1\n",
        "df = pd.concat([df_training, df_testing], axis = 0)\n",
        "X,y = classify(df,\"test\")\n"
      ],
      "execution_count": 33,
      "outputs": [
        {
          "output_type": "stream",
          "text": [
            "/usr/local/lib/python3.6/dist-packages/sklearn/utils/deprecation.py:87: FutureWarning: Function plot_roc_curve is deprecated; This will be removed in v0.5.0. Please use scikitplot.metrics.plot_roc instead.\n",
            "  warnings.warn(msg, category=FutureWarning)\n"
          ],
          "name": "stderr"
        },
        {
          "output_type": "display_data",
          "data": {
            "image/png": "[encoded data removed]",
            "text/plain": [
              "<Figure size 432x288 with 1 Axes>"
            ]
          },
          "metadata": {
            "tags": [],
            "needs_background": "light"
          }
        },
        {
          "output_type": "stream",
          "text": [
            "AUC score:  1.0\n"
          ],
          "name": "stdout"
        }
      ]
    },
    {
      "cell_type": "markdown",
      "metadata": {
        "id": "jnVUfNLRL7Sg",
        "colab_type": "text"
      },
      "source": [
        "The Value of 1.0 implies that there is certainly covariate shift present, as the classifier can deduce whether data is from the testing or training data. This shows how the classifier works, and it will be used randomly on the data later."
      ]
    },
    {
      "cell_type": "markdown",
      "metadata": {
        "id": "nmD2gmBoL-6I",
        "colab_type": "text"
      },
      "source": [
        "#Searching for variables that are causing covariant shift and dropping them"
      ]
    },
    {
      "cell_type": "code",
      "metadata": {
        "id": "soEyynmsMGa1",
        "colab_type": "code",
        "colab": {
          "base_uri": "https://localhost:8080/",
          "height": 34
        },
        "outputId": "3d541145-c37d-47cc-87fd-e5aaf53f1db6"
      },
      "source": [
        "dropped_variables = []\n",
        "RFCClassifier = RandomForestClassifier(n_estimators = 50, max_depth = 5,min_samples_leaf = 5)\n",
        "for n in X.columns:\n",
        "    value = cross_val_score(RFCClassifier,pd.DataFrame(X[n]),y,cv=2,scoring='roc_auc')\n",
        "    if (np.mean(value) > 0.8):\n",
        "        dropped_variables.append(n)\n",
        "        print(n,np.mean(value))\n"
      ],
      "execution_count": 34,
      "outputs": [
        {
          "output_type": "stream",
          "text": [
            "chol 0.9907407407407407\n"
          ],
          "name": "stdout"
        }
      ]
    },
    {
      "cell_type": "markdown",
      "metadata": {
        "id": "31S1lqheUtgE",
        "colab_type": "text"
      },
      "source": [
        "The Cholesterol variable was detected to be causing the covariate shift, hence the value being increadibly close to 1"
      ]
    },
    {
      "cell_type": "markdown",
      "metadata": {
        "id": "ybMH5Y1rUyyK",
        "colab_type": "text"
      },
      "source": [
        "#Reducing covariate shift in the data by dropping"
      ]
    },
    {
      "cell_type": "code",
      "metadata": {
        "id": "YV9JA6T7U0vg",
        "colab_type": "code",
        "colab": {
          "base_uri": "https://localhost:8080/",
          "height": 346
        },
        "outputId": "49d8e1b0-7fd5-4279-b6cd-0e63fc2b08e8"
      },
      "source": [
        "df.drop(columns=dropped_variables,inplace=True)\n",
        "unused,unused2 = classify(df,\"test\")\n"
      ],
      "execution_count": 35,
      "outputs": [
        {
          "output_type": "stream",
          "text": [
            "/usr/local/lib/python3.6/dist-packages/sklearn/utils/deprecation.py:87: FutureWarning: Function plot_roc_curve is deprecated; This will be removed in v0.5.0. Please use scikitplot.metrics.plot_roc instead.\n",
            "  warnings.warn(msg, category=FutureWarning)\n"
          ],
          "name": "stderr"
        },
        {
          "output_type": "display_data",
          "data": {
            "image/png": "[encoded data removed]",
            "text/plain": [
              "<Figure size 432x288 with 1 Axes>"
            ]
          },
          "metadata": {
            "tags": [],
            "needs_background": "light"
          }
        },
        {
          "output_type": "stream",
          "text": [
            "AUC score:  0.6351\n"
          ],
          "name": "stdout"
        }
      ]
    },
    {
      "cell_type": "markdown",
      "metadata": {
        "id": "pFv1H_CEU7oy",
        "colab_type": "text"
      },
      "source": [
        "The classifier output a value of approximately 0.65, meaning that the covariate shift has been reduced and it is difficult to differentiate between testing and training data. This is all because the column with covariate shift present was dropped."
      ]
    },
    {
      "cell_type": "markdown",
      "metadata": {
        "id": "6vaTioXwVAI2",
        "colab_type": "text"
      },
      "source": [
        "#Testing performance of classifier under co-variate shift in data"
      ]
    },
    {
      "cell_type": "markdown",
      "metadata": {
        "id": "1pj28DZVXInW",
        "colab_type": "text"
      },
      "source": [
        "The data used below is taken directly from the original data as the covariate shift was implemented already and it doesnt need to be randomised by the RandomForestClassifier any more."
      ]
    },
    {
      "cell_type": "code",
      "metadata": {
        "id": "cfaBGWUjXUiV",
        "colab_type": "code",
        "colab": {}
      },
      "source": [
        "def classify_multiple(training_df, testing_df, feature):\n",
        "\n",
        "  X_training = training_df.drop(columns=[feature])\n",
        "  y_training = training_df[feature]\n",
        "\n",
        "  X_testing = testing_df.drop(columns=[feature])\n",
        "  y_testing = testing_df[feature]\n",
        "  \n",
        "  Randomised = RandomForestClassifier()\n",
        "  Randomised.fit(X_training, y_training)\n",
        "  y_testing_score = Randomised.predict_proba(X_testing)\n",
        "  skplt.metrics.plot_roc(y_testing, y_testing_score)\n",
        "  plt.show()\n",
        "  print('AUC score: ', round(roc_auc_score(y_true=y_testing, y_score=y_testing_score[:,1]), 4))\n"
      ],
      "execution_count": 0,
      "outputs": []
    }
  ]
}