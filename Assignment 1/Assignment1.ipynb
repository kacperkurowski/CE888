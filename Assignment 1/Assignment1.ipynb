{
  "nbformat": 4,
  "nbformat_minor": 0,
  "metadata": {
    "colab": {
      "name": "Assignment1.ipynb",
      "provenance": [],
      "machine_shape": "hm",
      "authorship_tag": "ABX9TyMuCzzKR5uMYNdcHCrvygjC",
      "include_colab_link": true
    },
    "kernelspec": {
      "name": "python3",
      "display_name": "Python 3"
    },
    "accelerator": "GPU"
  },
  "cells": [
    {
      "cell_type": "markdown",
      "metadata": {
        "id": "view-in-github",
        "colab_type": "text"
      },
      "source": [
        "<a href=\"https://colab.research.google.com/github/kacperkurowski/CE888/blob/master/Assignment%201/Assignment1.ipynb\" target=\"_parent\"><img src=\"https://colab.research.google.com/assets/colab-badge.svg\" alt=\"Open In Colab\"/></a>"
      ]
    },
    {
      "cell_type": "markdown",
      "metadata": {
        "id": "l6fbJUJzmZux",
        "colab_type": "text"
      },
      "source": [
        "#Assignment 1"
      ]
    },
    {
      "cell_type": "code",
      "metadata": {
        "id": "no2t2d4WwPCb",
        "colab_type": "code",
        "colab": {}
      },
      "source": [
        "import os\n",
        "import seaborn as sns"
      ],
      "execution_count": 0,
      "outputs": []
    },
    {
      "cell_type": "markdown",
      "metadata": {
        "id": "K-rpz9mmmdm4",
        "colab_type": "text"
      },
      "source": [
        "##1.Loading Data"
      ]
    },
    {
      "cell_type": "code",
      "metadata": {
        "id": "aI0PLPGlmg0o",
        "colab_type": "code",
        "outputId": "a33511ea-c0cf-4d2b-e473-c481c481bd4d",
        "colab": {
          "base_uri": "https://localhost:8080/",
          "height": 119
        }
      },
      "source": [
        "os.environ['KAGGLE_USERNAME'] = \"kacperkurowski\" # username from the json file\n",
        "\n",
        "os.environ['KAGGLE_KEY'] = \"7c927dd985620db03df77b3804e71a95\" # key from the json file\n",
        "\n",
        "!kaggle competitions download -c microsoft-malware-prediction # api copied from kaggle"
      ],
      "execution_count": 2,
      "outputs": [
        {
          "output_type": "stream",
          "text": [
            "Warning: Looks like you're using an outdated API Version, please consider updating (server 1.5.6 / client 1.5.4)\n",
            "Downloading sample_submission.csv.zip to /content\n",
            " 87% 117M/134M [00:00<00:00, 129MB/s] \n",
            "100% 134M/134M [00:00<00:00, 173MB/s]\n",
            "train.csv.zip: Skipping, found more recently modified local copy (use --force to force download)\n",
            "test.csv.zip: Skipping, found more recently modified local copy (use --force to force download)\n"
          ],
          "name": "stdout"
        }
      ]
    },
    {
      "cell_type": "markdown",
      "metadata": {
        "id": "mQoVlofWhM5-",
        "colab_type": "text"
      },
      "source": [
        "##1.Renaming Files as data downloaded causes overwrite due to same file names"
      ]
    },
    {
      "cell_type": "code",
      "metadata": {
        "id": "U13bC_cifI2P",
        "colab_type": "code",
        "colab": {
          "base_uri": "https://localhost:8080/",
          "height": 85
        },
        "outputId": "c30c64fd-68e7-4f51-f332-45ce89a7dc05"
      },
      "source": [
        "!rename 's/test.csv.zip/test1.csv.zip/' test.csv.zip\n",
        "!rename 's/train.csv.zip/train1.csv.zip/' train.csv.zip\n",
        "!ls"
      ],
      "execution_count": 3,
      "outputs": [
        {
          "output_type": "stream",
          "text": [
            "test.csv.zip not renamed: test1.csv.zip already exists\n",
            "train.csv.zip not renamed: train1.csv.zip already exists\n",
            "sample_submission.csv.zip  test2.csv.zip  train1.csv.zip  train.csv.zip\n",
            "test1.csv.zip\t\t   test.csv.zip   train2.csv.zip\n"
          ],
          "name": "stdout"
        }
      ]
    },
    {
      "cell_type": "markdown",
      "metadata": {
        "id": "5HouYc3lhIPt",
        "colab_type": "text"
      },
      "source": [
        "##1.Removing Files that are not used"
      ]
    },
    {
      "cell_type": "code",
      "metadata": {
        "id": "oVcnta3Ag0Xv",
        "colab_type": "code",
        "colab": {
          "base_uri": "https://localhost:8080/",
          "height": 68
        },
        "outputId": "31f303a5-7636-4697-90a6-d4d7b0c9f6b9"
      },
      "source": [
        "!rm sample_submission.csv.zip\n",
        "!rm -r sample_data\n",
        "!ls"
      ],
      "execution_count": 4,
      "outputs": [
        {
          "output_type": "stream",
          "text": [
            "rm: cannot remove 'sample_data': No such file or directory\n",
            "test1.csv.zip  test.csv.zip    train2.csv.zip\n",
            "test2.csv.zip  train1.csv.zip  train.csv.zip\n"
          ],
          "name": "stdout"
        }
      ]
    },
    {
      "cell_type": "markdown",
      "metadata": {
        "id": "ibda9W-7htTd",
        "colab_type": "text"
      },
      "source": [
        "##2.Loading Data"
      ]
    },
    {
      "cell_type": "code",
      "metadata": {
        "id": "al-h0ys9hqIH",
        "colab_type": "code",
        "colab": {
          "base_uri": "https://localhost:8080/",
          "height": 119
        },
        "outputId": "ab4db163-6978-47c0-cb60-e35685c27e61"
      },
      "source": [
        "!kaggle competitions download -c santander-customer-transaction-prediction # api copied from kaggle"
      ],
      "execution_count": 5,
      "outputs": [
        {
          "output_type": "stream",
          "text": [
            "Warning: Looks like you're using an outdated API Version, please consider updating (server 1.5.6 / client 1.5.4)\n",
            "Downloading sample_submission.csv.zip to /content\n",
            "  0% 0.00/462k [00:00<?, ?B/s]\n",
            "100% 462k/462k [00:00<00:00, 69.5MB/s]\n",
            "test.csv.zip: Skipping, found more recently modified local copy (use --force to force download)\n",
            "train.csv.zip: Skipping, found more recently modified local copy (use --force to force download)\n"
          ],
          "name": "stdout"
        }
      ]
    },
    {
      "cell_type": "markdown",
      "metadata": {
        "id": "3t_1TdPFh4fN",
        "colab_type": "text"
      },
      "source": [
        "##2.Renaming Files as data downloaded causes overwrite due to same file names"
      ]
    },
    {
      "cell_type": "code",
      "metadata": {
        "id": "D_lVGKAHh_Gu",
        "colab_type": "code",
        "colab": {
          "base_uri": "https://localhost:8080/",
          "height": 85
        },
        "outputId": "0f1cb71f-c9d4-402c-f84e-7d4f90d9a7fa"
      },
      "source": [
        "!rename 's/test.csv.zip/test2.csv.zip/' test.csv.zip\n",
        "!rename 's/train.csv.zip/train2.csv.zip/' train.csv.zip\n",
        "!ls"
      ],
      "execution_count": 6,
      "outputs": [
        {
          "output_type": "stream",
          "text": [
            "test.csv.zip not renamed: test2.csv.zip already exists\n",
            "train.csv.zip not renamed: train2.csv.zip already exists\n",
            "sample_submission.csv.zip  test2.csv.zip  train1.csv.zip  train.csv.zip\n",
            "test1.csv.zip\t\t   test.csv.zip   train2.csv.zip\n"
          ],
          "name": "stdout"
        }
      ]
    },
    {
      "cell_type": "markdown",
      "metadata": {
        "id": "ic6PAkRxiaEA",
        "colab_type": "text"
      },
      "source": [
        "##2.Removing Files that are not used"
      ]
    },
    {
      "cell_type": "code",
      "metadata": {
        "id": "HWMHX4d2ieLe",
        "colab_type": "code",
        "colab": {
          "base_uri": "https://localhost:8080/",
          "height": 51
        },
        "outputId": "754531d0-0559-41c0-a173-4740e32baaf2"
      },
      "source": [
        "!rm sample_submission.csv.zip\n",
        "!ls"
      ],
      "execution_count": 7,
      "outputs": [
        {
          "output_type": "stream",
          "text": [
            "test1.csv.zip  test.csv.zip    train2.csv.zip\n",
            "test2.csv.zip  train1.csv.zip  train.csv.zip\n"
          ],
          "name": "stdout"
        }
      ]
    },
    {
      "cell_type": "markdown",
      "metadata": {
        "id": "KYK3bJw1nAx0",
        "colab_type": "text"
      },
      "source": [
        "##Loading the files"
      ]
    },
    {
      "cell_type": "code",
      "metadata": {
        "id": "ytECVtYqnFy7",
        "colab_type": "code",
        "outputId": "c6e5ec75-1db1-4bbd-8a17-8664c114b890",
        "colab": {
          "base_uri": "https://localhost:8080/",
          "height": 1000
        }
      },
      "source": [
        "import pandas as pd\n",
        "\n",
        "df_test1 = pd.read_csv(\"test1.csv.zip\", compression = 'zip', header = 0, sep = ',', quotechar = '\"')\n",
        "\n",
        "print(df_test1)\n",
        "\n",
        "df_test2 = pd.read_csv(\"test2.csv.zip\", compression = 'zip', header = 0, sep = ',', quotechar = '\"')\n",
        "\n",
        "print(df_test2)\n",
        "\n",
        "df_train1 = pd.read_csv(\"train1.csv.zip\", compression = 'zip', header = 0, sep = ',', quotechar = '\"')\n",
        "\n",
        "print(df_train1)\n",
        "\n",
        "df_train2 = pd.read_csv(\"train2.csv.zip\", compression = 'zip', header = 0, sep = ',', quotechar = '\"')\n",
        "\n",
        "print(df_train2)"
      ],
      "execution_count": 8,
      "outputs": [
        {
          "output_type": "stream",
          "text": [
            "/usr/local/lib/python3.6/dist-packages/IPython/core/interactiveshell.py:2718: DtypeWarning: Columns (28) have mixed types. Specify dtype option on import or set low_memory=False.\n",
            "  interactivity=interactivity, compiler=compiler, result=result)\n"
          ],
          "name": "stderr"
        },
        {
          "output_type": "stream",
          "text": [
            "                        MachineIdentifier  ... Wdft_RegionIdentifier\n",
            "0        0000010489e3af074adeac69c53e555e  ...                   7.0\n",
            "1        00000176ac758d54827acd545b6315a5  ...                  12.0\n",
            "2        0000019dcefc128c2d4387c1273dae1d  ...                  11.0\n",
            "3        0000055553dc51b1295785415f1a224d  ...                  10.0\n",
            "4        00000574cefffeca83ec8adf9285b2bf  ...                   3.0\n",
            "...                                   ...  ...                   ...\n",
            "7853248  fffff8c0e065c468a2373f7afd5e7674  ...                  10.0\n",
            "7853249  fffff90b27a1248b6fffc7a535bd736c  ...                  11.0\n",
            "7853250  fffffa6a956c17ddbabca53d4ab708ae  ...                   7.0\n",
            "7853251  fffffad7b6c8196ec5cae634406c0d4f  ...                  11.0\n",
            "7853252  fffffbd305a90eb0f93ee4f30a39c736  ...                  10.0\n",
            "\n",
            "[7853253 rows x 82 columns]\n",
            "            ID_code    var_0    var_1  ...  var_197  var_198  var_199\n",
            "0            test_0  11.0656   7.7798  ...  10.7200  15.4722  -8.7197\n",
            "1            test_1   8.5304   1.2543  ...   9.8714  19.1293 -20.9760\n",
            "2            test_2   5.4827 -10.3581  ...   7.0618  19.8956 -23.1794\n",
            "3            test_3   8.5374  -1.3222  ...   9.2295  13.0168  -4.2108\n",
            "4            test_4  11.7058  -0.1327  ...   7.2882  13.9260  -9.1846\n",
            "...             ...      ...      ...  ...      ...      ...      ...\n",
            "199995  test_199995  13.1678   1.0136  ...   9.1568  18.2102   4.8801\n",
            "199996  test_199996   9.7171  -9.1462  ...   9.1112  18.1740 -20.7689\n",
            "199997  test_199997  11.6360   2.2769  ...   9.1933  11.7905 -22.2762\n",
            "199998  test_199998  13.5745  -0.5134  ...   8.1079   8.7735  -0.2122\n",
            "199999  test_199999  10.4664   1.8070  ...  10.3378  14.3340  -7.7094\n",
            "\n",
            "[200000 rows x 201 columns]\n",
            "                        MachineIdentifier  ... HasDetections\n",
            "0        0000028988387b115f69f31a3bf04f09  ...             0\n",
            "1        000007535c3f730efa9ea0b7ef1bd645  ...             0\n",
            "2        000007905a28d863f6d0d597892cd692  ...             0\n",
            "3        00000b11598a75ea8ba1beea8459149f  ...             1\n",
            "4        000014a5f00daa18e76b81417eeb99fc  ...             1\n",
            "...                                   ...  ...           ...\n",
            "8921478  ffffedfe8fcc46e6d36ab39953589fee  ...             1\n",
            "8921479  ffffef606490b2970873ec0a27ebd24b  ...             0\n",
            "8921480  fffff8a40070d2d8379bb7fa2ed2fa66  ...             1\n",
            "8921481  fffffbbaaf5969ae4b93e7f3f6d7132f  ...             1\n",
            "8921482  ffffff75ba4f33d938ccfdb148b8ea16  ...             0\n",
            "\n",
            "[8921483 rows x 83 columns]\n",
            "             ID_code  target    var_0  ...  var_197  var_198  var_199\n",
            "0            train_0       0   8.9255  ...   8.5635  12.7803  -1.0914\n",
            "1            train_1       0  11.5006  ...   8.7889  18.3560   1.9518\n",
            "2            train_2       0   8.6093  ...   8.2675  14.7222   0.3965\n",
            "3            train_3       0  11.0604  ...  10.2922  17.9697  -8.9996\n",
            "4            train_4       0   9.8369  ...   9.5031  17.9974  -8.8104\n",
            "...              ...     ...      ...  ...      ...      ...      ...\n",
            "199995  train_199995       0  11.4880  ...   8.5326  16.6660 -17.8661\n",
            "199996  train_199996       0   4.9149  ...   6.7419  15.9054   0.3388\n",
            "199997  train_199997       0  11.2232  ...   8.7155  13.8329   4.1995\n",
            "199998  train_199998       0   9.7148  ...  10.0342  15.5289 -13.9001\n",
            "199999  train_199999       0  10.8762  ...   8.1857  12.1284   0.1385\n",
            "\n",
            "[200000 rows x 202 columns]\n"
          ],
          "name": "stdout"
        }
      ]
    },
    {
      "cell_type": "markdown",
      "metadata": {
        "id": "ByT_sFTY2xBV",
        "colab_type": "text"
      },
      "source": [
        "##Plotting Histogram of Microsoft-Malware-Prediction Train Data"
      ]
    },
    {
      "cell_type": "code",
      "metadata": {
        "id": "Zm43a5K_qLKc",
        "colab_type": "code",
        "colab": {
          "base_uri": "https://localhost:8080/",
          "height": 265
        },
        "outputId": "2f86ade7-d9e8-4f48-d6b5-dc358bc1e107"
      },
      "source": [
        "y_df = df_train1[\"Census_InternalPrimaryDisplayResolutionVertical\"].copy()\n",
        "y = y_df.values\n",
        "sns_plot = sns.distplot(y, kde=False, rug=True)"
      ],
      "execution_count": 13,
      "outputs": [
        {
          "output_type": "display_data",
          "data": {
            "image/png": "[encoded data removed]",
            "text/plain": [
              "<Figure size 432x288 with 1 Axes>"
            ]
          },
          "metadata": {
            "tags": []
          }
        }
      ]
    },
    {
      "cell_type": "markdown",
      "metadata": {
        "id": "6e2tgEgy3AR0",
        "colab_type": "text"
      },
      "source": [
        "##Plotting Histogram of Microsoft-Malware-Prediction Test Data"
      ]
    },
    {
      "cell_type": "code",
      "metadata": {
        "id": "RDdcLgY73EcU",
        "colab_type": "code",
        "colab": {
          "base_uri": "https://localhost:8080/",
          "height": 265
        },
        "outputId": "fed2c89a-85d0-4cbd-f705-c6f33663c196"
      },
      "source": [
        "y_df = df_test1[\"Census_InternalPrimaryDisplayResolutionVertical\"].copy()\n",
        "y = y_df.values\n",
        "sns_plot = sns.distplot(y, kde=False, rug=True)"
      ],
      "execution_count": 14,
      "outputs": [
        {
          "output_type": "display_data",
          "data": {
            "image/png": "[encoded data removed]",
            "text/plain": [
              "<Figure size 432x288 with 1 Axes>"
            ]
          },
          "metadata": {
            "tags": []
          }
        }
      ]
    },
    {
      "cell_type": "markdown",
      "metadata": {
        "id": "9dad7Jh13ihk",
        "colab_type": "text"
      },
      "source": [
        "##Plotting Histogram of Santander-Customer-Transaction-Prediction Train Data"
      ]
    },
    {
      "cell_type": "code",
      "metadata": {
        "id": "aeYVPJRR4F3Q",
        "colab_type": "code",
        "colab": {
          "base_uri": "https://localhost:8080/",
          "height": 265
        },
        "outputId": "5fb1a35f-b992-4c54-9db8-d3bde19e2aa6"
      },
      "source": [
        "y_df = df_train2[\"var_0\"].copy()\n",
        "y = y_df.values\n",
        "sns_plot = sns.distplot(y, kde=False, rug=True)"
      ],
      "execution_count": 16,
      "outputs": [
        {
          "output_type": "display_data",
          "data": {
            "image/png": "[encoded data removed]",
            "text/plain": [
              "<Figure size 432x288 with 1 Axes>"
            ]
          },
          "metadata": {
            "tags": []
          }
        }
      ]
    },
    {
      "cell_type": "markdown",
      "metadata": {
        "id": "JxoKCe8q4Bw9",
        "colab_type": "text"
      },
      "source": [
        "##Plotting Histogram of Santander-Customer-Transaction-Prediction Test Data"
      ]
    },
    {
      "cell_type": "code",
      "metadata": {
        "id": "89Owxs_R4LNw",
        "colab_type": "code",
        "colab": {
          "base_uri": "https://localhost:8080/",
          "height": 265
        },
        "outputId": "6fd37d3c-1c9f-4683-ccff-34852ce72836"
      },
      "source": [
        "y_df = df_test2[\"var_0\"].copy()\n",
        "y = y_df.values\n",
        "sns_plot = sns.distplot(y, kde=False, rug=True)"
      ],
      "execution_count": 17,
      "outputs": [
        {
          "output_type": "display_data",
          "data": {
            "image/png": "[encoded data removed]",
            "text/plain": [
              "<Figure size 432x288 with 1 Axes>"
            ]
          },
          "metadata": {
            "tags": []
          }
        }
      ]
    }
  ]
}