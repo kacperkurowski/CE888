{
  "nbformat": 4,
  "nbformat_minor": 0,
  "metadata": {
    "colab": {
      "name": "Assignment1.ipynb",
      "provenance": [],
      "machine_shape": "hm",
      "include_colab_link": true
    },
    "kernelspec": {
      "name": "python3",
      "display_name": "Python 3"
    },
    "accelerator": "TPU"
  },
  "cells": [
    {
      "cell_type": "markdown",
      "metadata": {
        "id": "view-in-github",
        "colab_type": "text"
      },
      "source": [
        "<a href=\"https://colab.research.google.com/github/kacperkurowski/CE888/blob/master/Assignment%201/Assignment1.ipynb\" target=\"_parent\"><img src=\"https://colab.research.google.com/assets/colab-badge.svg\" alt=\"Open In Colab\"/></a>"
      ]
    },
    {
      "cell_type": "markdown",
      "metadata": {
        "id": "l6fbJUJzmZux",
        "colab_type": "text"
      },
      "source": [
        "#Assignment 1"
      ]
    },
    {
      "cell_type": "code",
      "metadata": {
        "id": "no2t2d4WwPCb",
        "colab_type": "code",
        "colab": {}
      },
      "source": [
        "import os\n",
        "import seaborn as sns"
      ],
      "execution_count": 0,
      "outputs": []
    },
    {
      "cell_type": "markdown",
      "metadata": {
        "id": "K-rpz9mmmdm4",
        "colab_type": "text"
      },
      "source": [
        "##1.Loading Data"
      ]
    },
    {
      "cell_type": "code",
      "metadata": {
        "id": "aI0PLPGlmg0o",
        "colab_type": "code",
        "outputId": "15a96f10-4275-431b-8989-288ab88a086a",
        "colab": {
          "base_uri": "https://localhost:8080/",
          "height": 187
        }
      },
      "source": [
        "os.environ['KAGGLE_USERNAME'] = \"kacperkurowski\" # username from the json file\n",
        "\n",
        "os.environ['KAGGLE_KEY'] = \"7c927dd985620db03df77b3804e71a95\" # key from the json file\n",
        "\n",
        "!kaggle competitions download -c microsoft-malware-prediction # api copied from kaggle"
      ],
      "execution_count": 0,
      "outputs": [
        {
          "output_type": "stream",
          "text": [
            "Warning: Looks like you're using an outdated API Version, please consider updating (server 1.5.6 / client 1.5.4)\n",
            "Downloading train.csv.zip to /content\n",
            " 99% 761M/768M [00:19<00:00, 30.4MB/s]\n",
            "100% 768M/768M [00:19<00:00, 41.9MB/s]\n",
            "Downloading sample_submission.csv.zip to /content\n",
            " 92% 123M/134M [00:00<00:00, 102MB/s]  \n",
            "100% 134M/134M [00:01<00:00, 126MB/s]\n",
            "Downloading test.csv.zip to /content\n",
            " 98% 657M/672M [00:06<00:00, 85.8MB/s]\n",
            "100% 672M/672M [00:06<00:00, 103MB/s] \n"
          ],
          "name": "stdout"
        }
      ]
    },
    {
      "cell_type": "markdown",
      "metadata": {
        "id": "mQoVlofWhM5-",
        "colab_type": "text"
      },
      "source": [
        "##1.Renaming Files as data downloaded causes overwrite due to same file names"
      ]
    },
    {
      "cell_type": "code",
      "metadata": {
        "id": "U13bC_cifI2P",
        "colab_type": "code",
        "outputId": "055ba441-e49c-40b9-9d72-1dd7c05cb8c7",
        "colab": {
          "base_uri": "https://localhost:8080/",
          "height": 85
        }
      },
      "source": [
        "!rename 's/test.csv.zip/test1.csv.zip/' test.csv.zip\n",
        "!rename 's/train.csv.zip/train1.csv.zip/' train.csv.zip\n",
        "!ls"
      ],
      "execution_count": 0,
      "outputs": [
        {
          "output_type": "stream",
          "text": [
            "test.csv.zip not renamed: test1.csv.zip already exists\n",
            "train.csv.zip not renamed: train1.csv.zip already exists\n",
            "sample_submission.csv.zip  test2.csv.zip  train1.csv.zip  train.csv.zip\n",
            "test1.csv.zip\t\t   test.csv.zip   train2.csv.zip\n"
          ],
          "name": "stdout"
        }
      ]
    },
    {
      "cell_type": "markdown",
      "metadata": {
        "id": "5HouYc3lhIPt",
        "colab_type": "text"
      },
      "source": [
        "##1.Removing Files that are not used"
      ]
    },
    {
      "cell_type": "code",
      "metadata": {
        "id": "oVcnta3Ag0Xv",
        "colab_type": "code",
        "outputId": "c34b9bbd-f6ef-49d9-fc9d-d66c63b76904",
        "colab": {
          "base_uri": "https://localhost:8080/",
          "height": 68
        }
      },
      "source": [
        "!rm sample_submission.csv.zip\n",
        "!rm -r sample_data\n",
        "!ls"
      ],
      "execution_count": 0,
      "outputs": [
        {
          "output_type": "stream",
          "text": [
            "rm: cannot remove 'sample_data': No such file or directory\n",
            "test1.csv.zip  test.csv.zip    train2.csv.zip\n",
            "test2.csv.zip  train1.csv.zip  train.csv.zip\n"
          ],
          "name": "stdout"
        }
      ]
    },
    {
      "cell_type": "markdown",
      "metadata": {
        "id": "ibda9W-7htTd",
        "colab_type": "text"
      },
      "source": [
        "##2.Loading Data"
      ]
    },
    {
      "cell_type": "code",
      "metadata": {
        "id": "al-h0ys9hqIH",
        "colab_type": "code",
        "outputId": "b973bf63-b5af-471c-d9b5-60cb856dc904",
        "colab": {
          "base_uri": "https://localhost:8080/",
          "height": 119
        }
      },
      "source": [
        "!kaggle competitions download -c santander-customer-transaction-prediction # api copied from kaggle"
      ],
      "execution_count": 0,
      "outputs": [
        {
          "output_type": "stream",
          "text": [
            "Warning: Looks like you're using an outdated API Version, please consider updating (server 1.5.6 / client 1.5.4)\n",
            "train.csv.zip: Skipping, found more recently modified local copy (use --force to force download)\n",
            "test.csv.zip: Skipping, found more recently modified local copy (use --force to force download)\n",
            "Downloading sample_submission.csv.zip to /content\n",
            "  0% 0.00/462k [00:00<?, ?B/s]\n",
            "100% 462k/462k [00:00<00:00, 68.3MB/s]\n"
          ],
          "name": "stdout"
        }
      ]
    },
    {
      "cell_type": "markdown",
      "metadata": {
        "id": "3t_1TdPFh4fN",
        "colab_type": "text"
      },
      "source": [
        "##2.Renaming Files as data downloaded causes overwrite due to same file names"
      ]
    },
    {
      "cell_type": "code",
      "metadata": {
        "id": "D_lVGKAHh_Gu",
        "colab_type": "code",
        "outputId": "9880a425-4009-44c1-c8a6-74c7b2c804e2",
        "colab": {
          "base_uri": "https://localhost:8080/",
          "height": 85
        }
      },
      "source": [
        "!rename 's/test.csv.zip/test2.csv.zip/' test.csv.zip\n",
        "!rename 's/train.csv.zip/train2.csv.zip/' train.csv.zip\n",
        "!ls"
      ],
      "execution_count": 0,
      "outputs": [
        {
          "output_type": "stream",
          "text": [
            "test.csv.zip not renamed: test2.csv.zip already exists\n",
            "train.csv.zip not renamed: train2.csv.zip already exists\n",
            "sample_submission.csv.zip  test2.csv.zip  train1.csv.zip  train.csv.zip\n",
            "test1.csv.zip\t\t   test.csv.zip   train2.csv.zip\n"
          ],
          "name": "stdout"
        }
      ]
    },
    {
      "cell_type": "markdown",
      "metadata": {
        "id": "ic6PAkRxiaEA",
        "colab_type": "text"
      },
      "source": [
        "##2.Removing Files that are not used"
      ]
    },
    {
      "cell_type": "code",
      "metadata": {
        "id": "HWMHX4d2ieLe",
        "colab_type": "code",
        "outputId": "305be01b-603c-4a9a-9f1e-ee4716128ee0",
        "colab": {
          "base_uri": "https://localhost:8080/",
          "height": 51
        }
      },
      "source": [
        "!rm sample_submission.csv.zip\n",
        "!ls"
      ],
      "execution_count": 0,
      "outputs": [
        {
          "output_type": "stream",
          "text": [
            "test1.csv.zip  test.csv.zip    train2.csv.zip\n",
            "test2.csv.zip  train1.csv.zip  train.csv.zip\n"
          ],
          "name": "stdout"
        }
      ]
    },
    {
      "cell_type": "markdown",
      "metadata": {
        "id": "KYK3bJw1nAx0",
        "colab_type": "text"
      },
      "source": [
        "##Loading the files"
      ]
    },
    {
      "cell_type": "code",
      "metadata": {
        "id": "ytECVtYqnFy7",
        "colab_type": "code",
        "outputId": "30236677-201c-4b7e-b498-f55717e4d990",
        "colab": {
          "base_uri": "https://localhost:8080/",
          "height": 1000
        }
      },
      "source": [
        "import pandas as pd\n",
        "\n",
        "df_test1 = pd.read_csv(\"test1.csv.zip\", compression = 'zip', header = 0, sep = ',', quotechar = '\"')\n",
        "\n",
        "print(df_test1)\n",
        "\n",
        "df_test2 = pd.read_csv(\"test2.csv.zip\", compression = 'zip', header = 0, sep = ',', quotechar = '\"')\n",
        "\n",
        "print(df_test2)\n",
        "\n",
        "df_train1 = pd.read_csv(\"train1.csv.zip\", compression = 'zip', header = 0, sep = ',', quotechar = '\"')\n",
        "\n",
        "print(df_train1)\n",
        "\n",
        "df_train2 = pd.read_csv(\"train2.csv.zip\", compression = 'zip', header = 0, sep = ',', quotechar = '\"')\n",
        "\n",
        "print(df_train2)"
      ],
      "execution_count": 0,
      "outputs": [
        {
          "output_type": "stream",
          "text": [
            "/usr/local/lib/python3.6/dist-packages/IPython/core/interactiveshell.py:2718: DtypeWarning: Columns (28) have mixed types. Specify dtype option on import or set low_memory=False.\n",
            "  interactivity=interactivity, compiler=compiler, result=result)\n"
          ],
          "name": "stderr"
        },
        {
          "output_type": "stream",
          "text": [
            "                        MachineIdentifier  ... Wdft_RegionIdentifier\n",
            "0        0000010489e3af074adeac69c53e555e  ...                   7.0\n",
            "1        00000176ac758d54827acd545b6315a5  ...                  12.0\n",
            "2        0000019dcefc128c2d4387c1273dae1d  ...                  11.0\n",
            "3        0000055553dc51b1295785415f1a224d  ...                  10.0\n",
            "4        00000574cefffeca83ec8adf9285b2bf  ...                   3.0\n",
            "...                                   ...  ...                   ...\n",
            "7853248  fffff8c0e065c468a2373f7afd5e7674  ...                  10.0\n",
            "7853249  fffff90b27a1248b6fffc7a535bd736c  ...                  11.0\n",
            "7853250  fffffa6a956c17ddbabca53d4ab708ae  ...                   7.0\n",
            "7853251  fffffad7b6c8196ec5cae634406c0d4f  ...                  11.0\n",
            "7853252  fffffbd305a90eb0f93ee4f30a39c736  ...                  10.0\n",
            "\n",
            "[7853253 rows x 82 columns]\n",
            "            ID_code    var_0    var_1  ...  var_197  var_198  var_199\n",
            "0            test_0  11.0656   7.7798  ...  10.7200  15.4722  -8.7197\n",
            "1            test_1   8.5304   1.2543  ...   9.8714  19.1293 -20.9760\n",
            "2            test_2   5.4827 -10.3581  ...   7.0618  19.8956 -23.1794\n",
            "3            test_3   8.5374  -1.3222  ...   9.2295  13.0168  -4.2108\n",
            "4            test_4  11.7058  -0.1327  ...   7.2882  13.9260  -9.1846\n",
            "...             ...      ...      ...  ...      ...      ...      ...\n",
            "199995  test_199995  13.1678   1.0136  ...   9.1568  18.2102   4.8801\n",
            "199996  test_199996   9.7171  -9.1462  ...   9.1112  18.1740 -20.7689\n",
            "199997  test_199997  11.6360   2.2769  ...   9.1933  11.7905 -22.2762\n",
            "199998  test_199998  13.5745  -0.5134  ...   8.1079   8.7735  -0.2122\n",
            "199999  test_199999  10.4664   1.8070  ...  10.3378  14.3340  -7.7094\n",
            "\n",
            "[200000 rows x 201 columns]\n",
            "                        MachineIdentifier  ... HasDetections\n",
            "0        0000028988387b115f69f31a3bf04f09  ...             0\n",
            "1        000007535c3f730efa9ea0b7ef1bd645  ...             0\n",
            "2        000007905a28d863f6d0d597892cd692  ...             0\n",
            "3        00000b11598a75ea8ba1beea8459149f  ...             1\n",
            "4        000014a5f00daa18e76b81417eeb99fc  ...             1\n",
            "...                                   ...  ...           ...\n",
            "8921478  ffffedfe8fcc46e6d36ab39953589fee  ...             1\n",
            "8921479  ffffef606490b2970873ec0a27ebd24b  ...             0\n",
            "8921480  fffff8a40070d2d8379bb7fa2ed2fa66  ...             1\n",
            "8921481  fffffbbaaf5969ae4b93e7f3f6d7132f  ...             1\n",
            "8921482  ffffff75ba4f33d938ccfdb148b8ea16  ...             0\n",
            "\n",
            "[8921483 rows x 83 columns]\n",
            "             ID_code  target    var_0  ...  var_197  var_198  var_199\n",
            "0            train_0       0   8.9255  ...   8.5635  12.7803  -1.0914\n",
            "1            train_1       0  11.5006  ...   8.7889  18.3560   1.9518\n",
            "2            train_2       0   8.6093  ...   8.2675  14.7222   0.3965\n",
            "3            train_3       0  11.0604  ...  10.2922  17.9697  -8.9996\n",
            "4            train_4       0   9.8369  ...   9.5031  17.9974  -8.8104\n",
            "...              ...     ...      ...  ...      ...      ...      ...\n",
            "199995  train_199995       0  11.4880  ...   8.5326  16.6660 -17.8661\n",
            "199996  train_199996       0   4.9149  ...   6.7419  15.9054   0.3388\n",
            "199997  train_199997       0  11.2232  ...   8.7155  13.8329   4.1995\n",
            "199998  train_199998       0   9.7148  ...  10.0342  15.5289 -13.9001\n",
            "199999  train_199999       0  10.8762  ...   8.1857  12.1284   0.1385\n",
            "\n",
            "[200000 rows x 202 columns]\n"
          ],
          "name": "stdout"
        }
      ]
    },
    {
      "cell_type": "markdown",
      "metadata": {
        "id": "ByT_sFTY2xBV",
        "colab_type": "text"
      },
      "source": [
        "##Plotting Histogram of Microsoft-Malware-Prediction Train Data"
      ]
    },
    {
      "cell_type": "code",
      "metadata": {
        "id": "Zm43a5K_qLKc",
        "colab_type": "code",
        "outputId": "689054d7-9d99-4959-f649-2d3ce064e567",
        "colab": {
          "base_uri": "https://localhost:8080/",
          "height": 265
        }
      },
      "source": [
        "y_df = df_train1[\"Census_InternalPrimaryDisplayResolutionVertical\"].copy()\n",
        "y = y_df.values\n",
        "sns_plot = sns.distplot(y, kde=False, rug=True)"
      ],
      "execution_count": 0,
      "outputs": [
        {
          "output_type": "display_data",
          "data": {
            "image/png": "[encoded data removed]",
            "text/plain": [
              "<Figure size 432x288 with 1 Axes>"
            ]
          },
          "metadata": {
            "tags": []
          }
        }
      ]
    },
    {
      "cell_type": "markdown",
      "metadata": {
        "id": "6e2tgEgy3AR0",
        "colab_type": "text"
      },
      "source": [
        "##Plotting Histogram of Microsoft-Malware-Prediction Test Data"
      ]
    },
    {
      "cell_type": "code",
      "metadata": {
        "id": "RDdcLgY73EcU",
        "colab_type": "code",
        "outputId": "a0fdcb97-22a3-432f-ec71-3662375d7745",
        "colab": {
          "base_uri": "https://localhost:8080/",
          "height": 265
        }
      },
      "source": [
        "y_df = df_test1[\"Census_InternalPrimaryDisplayResolutionVertical\"].copy()\n",
        "y = y_df.values\n",
        "sns_plot = sns.distplot(y, kde=False, rug=True)"
      ],
      "execution_count": 0,
      "outputs": [
        {
          "output_type": "display_data",
          "data": {
            "image/png": "[encoded data removed]",
            "text/plain": [
              "<Figure size 432x288 with 1 Axes>"
            ]
          },
          "metadata": {
            "tags": []
          }
        }
      ]
    },
    {
      "cell_type": "markdown",
      "metadata": {
        "id": "9dad7Jh13ihk",
        "colab_type": "text"
      },
      "source": [
        "##Plotting Histogram of Santander-Customer-Transaction-Prediction Train Data"
      ]
    },
    {
      "cell_type": "code",
      "metadata": {
        "id": "aeYVPJRR4F3Q",
        "colab_type": "code",
        "outputId": "9b3f3ead-6b5e-4c7b-b12c-b233e7c013dc",
        "colab": {
          "base_uri": "https://localhost:8080/",
          "height": 265
        }
      },
      "source": [
        "y_df = df_train2[\"var_0\"].copy()\n",
        "y = y_df.values\n",
        "sns_plot = sns.distplot(y, kde=False, rug=True)"
      ],
      "execution_count": 0,
      "outputs": [
        {
          "output_type": "display_data",
          "data": {
            "image/png": "[encoded data removed]",
            "text/plain": [
              "<Figure size 432x288 with 1 Axes>"
            ]
          },
          "metadata": {
            "tags": []
          }
        }
      ]
    },
    {
      "cell_type": "markdown",
      "metadata": {
        "id": "JxoKCe8q4Bw9",
        "colab_type": "text"
      },
      "source": [
        "##Plotting Histogram of Santander-Customer-Transaction-Prediction Test Data"
      ]
    },
    {
      "cell_type": "code",
      "metadata": {
        "id": "89Owxs_R4LNw",
        "colab_type": "code",
        "outputId": "7c225cbe-ac5b-4b62-b6dd-c2673be771ad",
        "colab": {
          "base_uri": "https://localhost:8080/",
          "height": 265
        }
      },
      "source": [
        "y_df = df_test2[\"var_0\"].copy()\n",
        "y = y_df.values\n",
        "sns_plot = sns.distplot(y, kde=False, rug=True)"
      ],
      "execution_count": 0,
      "outputs": [
        {
          "output_type": "display_data",
          "data": {
            "image/png": "[encoded data removed]",
            "text/plain": [
              "<Figure size 432x288 with 1 Axes>"
            ]
          },
          "metadata": {
            "tags": []
          }
        }
      ]
    },
    {
      "cell_type": "markdown",
      "metadata": {
        "id": "o6sJ7Ufj_EwY",
        "colab_type": "text"
      },
      "source": [
        "##Adding Test Columns for testing Covariate Shift"
      ]
    },
    {
      "cell_type": "code",
      "metadata": {
        "id": "fsLNzBNg_IXl",
        "colab_type": "code",
        "outputId": "0b57f79e-0a0e-427d-ad0e-48ea65723287",
        "colab": {
          "base_uri": "https://localhost:8080/",
          "height": 289
        }
      },
      "source": [
        "df_train1['is_test'] = 0\n",
        "df_test1['is_test'] = 1\n",
        "print(df_train1.head())\n",
        "print(df_test1.head())\n"
      ],
      "execution_count": 0,
      "outputs": [
        {
          "output_type": "stream",
          "text": [
            "                  MachineIdentifier   ProductName  ... HasDetections is_test\n",
            "0  0000028988387b115f69f31a3bf04f09  win8defender  ...             0       0\n",
            "1  000007535c3f730efa9ea0b7ef1bd645  win8defender  ...             0       0\n",
            "2  000007905a28d863f6d0d597892cd692  win8defender  ...             0       0\n",
            "3  00000b11598a75ea8ba1beea8459149f  win8defender  ...             1       0\n",
            "4  000014a5f00daa18e76b81417eeb99fc  win8defender  ...             1       0\n",
            "\n",
            "[5 rows x 84 columns]\n",
            "                  MachineIdentifier  ... is_test\n",
            "0  0000010489e3af074adeac69c53e555e  ...       1\n",
            "1  00000176ac758d54827acd545b6315a5  ...       1\n",
            "2  0000019dcefc128c2d4387c1273dae1d  ...       1\n",
            "3  0000055553dc51b1295785415f1a224d  ...       1\n",
            "4  00000574cefffeca83ec8adf9285b2bf  ...       1\n",
            "\n",
            "[5 rows x 83 columns]\n"
          ],
          "name": "stdout"
        }
      ]
    },
    {
      "cell_type": "code",
      "metadata": {
        "id": "V3mAAsluUdgG",
        "colab_type": "code",
        "outputId": "855c1e71-3386-4162-fb0f-bf69fafd42b7",
        "colab": {
          "base_uri": "https://localhost:8080/",
          "height": 289
        }
      },
      "source": [
        "df_train2.drop(columns=['ID_code', 'target'], inplace=True)\n",
        "df_test2.drop(columns=['ID_code'], inplace=True)\n",
        "df_train2['is_test'] = 0\n",
        "df_test2['is_test'] = 1\n",
        "print(df_train2.head())\n",
        "print(df_test2.head())"
      ],
      "execution_count": 0,
      "outputs": [
        {
          "output_type": "stream",
          "text": [
            "     var_0   var_1    var_2   var_3  ...  var_197  var_198  var_199  is_test\n",
            "0   8.9255 -6.7863  11.9081  5.0930  ...   8.5635  12.7803  -1.0914        0\n",
            "1  11.5006 -4.1473  13.8588  5.3890  ...   8.7889  18.3560   1.9518        0\n",
            "2   8.6093 -2.7457  12.0805  7.8928  ...   8.2675  14.7222   0.3965        0\n",
            "3  11.0604 -2.1518   8.9522  7.1957  ...  10.2922  17.9697  -8.9996        0\n",
            "4   9.8369 -1.4834  12.8746  6.6375  ...   9.5031  17.9974  -8.8104        0\n",
            "\n",
            "[5 rows x 201 columns]\n",
            "     var_0    var_1    var_2   var_3  ...  var_197  var_198  var_199  is_test\n",
            "0  11.0656   7.7798  12.9536  9.4292  ...  10.7200  15.4722  -8.7197        1\n",
            "1   8.5304   1.2543  11.3047  5.1858  ...   9.8714  19.1293 -20.9760        1\n",
            "2   5.4827 -10.3581  10.1407  7.0479  ...   7.0618  19.8956 -23.1794        1\n",
            "3   8.5374  -1.3222  12.0220  6.5749  ...   9.2295  13.0168  -4.2108        1\n",
            "4  11.7058  -0.1327  14.1295  7.7506  ...   7.2882  13.9260  -9.1846        1\n",
            "\n",
            "[5 rows x 201 columns]\n"
          ],
          "name": "stdout"
        }
      ]
    },
    {
      "cell_type": "markdown",
      "metadata": {
        "id": "JyYNFjAiUWWH",
        "colab_type": "text"
      },
      "source": [
        "##Randomising Test and Train Data Sets"
      ]
    },
    {
      "cell_type": "code",
      "metadata": {
        "id": "hOVEINx-UcPW",
        "colab_type": "code",
        "outputId": "a5e20c41-d6df-4656-9782-f36ec9cfa6a8",
        "colab": {
          "base_uri": "https://localhost:8080/",
          "height": 34
        }
      },
      "source": [
        "from sklearn.model_selection import train_test_split\n",
        "from sklearn.metrics import roc_auc_score\n",
        "from sklearn.ensemble import RandomForestClassifier\n",
        "\n",
        "df = pd.concat([df_train2, df_test2], axis = 0)\n",
        "X = df.drop(columns=['is_test'])\n",
        "y = df['is_test']\n",
        "\n",
        "X_train, X_test, y_train, y_test = train_test_split(X, y, test_size=0.3, random_state=42, shuffle=True)\n",
        "print('train2 shape:', X_train.shape, 'test2 shape:', X_test.shape)\n",
        "\n",
        "\n",
        "\n",
        "##Let's use simple Random Forest as Classifier\n",
        "#rfc = RandomForestClassifier()\n",
        "#rfc.fit(X_train, y_train)\n",
        "#y_test_score = rfc.predict_proba(X_test)\n",
        "\n",
        "\n",
        "\n",
        "#import scikitplot as skplt\n",
        "#import matplotlib.pyplot as plt\n",
        "\n",
        "#skplt.metrics.plot_roc_curve(y_test, y_test_score)\n",
        "#plt.show()\n",
        "\n",
        "\n",
        "##AUC score is about 0.5\n",
        "#print('AUC score: ', round(roc_auc_score(y_true=y_test, y_score=y_test_score[:,1]), 4))"
      ],
      "execution_count": 0,
      "outputs": [
        {
          "output_type": "stream",
          "text": [
            "train2 shape: (280000, 200) test2 shape: (120000, 200)\n"
          ],
          "name": "stdout"
        }
      ]
    },
    {
      "cell_type": "code",
      "metadata": {
        "id": "x4jyqOIJl-RS",
        "colab_type": "code",
        "outputId": "e767876d-9148-46cc-82d2-74cae82191e4",
        "colab": {
          "base_uri": "https://localhost:8080/",
          "height": 272
        }
      },
      "source": [
        "pip install scikit-plot"
      ],
      "execution_count": 0,
      "outputs": [
        {
          "output_type": "stream",
          "text": [
            "Collecting scikit-plot\n",
            "  Downloading https://files.pythonhosted.org/packages/7c/47/32520e259340c140a4ad27c1b97050dd3254fdc517b1d59974d47037510e/scikit_plot-0.3.7-py3-none-any.whl\n",
            "Requirement already satisfied: joblib>=0.10 in /usr/local/lib/python3.6/dist-packages (from scikit-plot) (0.14.1)\n",
            "Requirement already satisfied: scipy>=0.9 in /usr/local/lib/python3.6/dist-packages (from scikit-plot) (1.4.1)\n",
            "Requirement already satisfied: matplotlib>=1.4.0 in /usr/local/lib/python3.6/dist-packages (from scikit-plot) (3.1.3)\n",
            "Requirement already satisfied: scikit-learn>=0.18 in /usr/local/lib/python3.6/dist-packages (from scikit-plot) (0.22.1)\n",
            "Requirement already satisfied: numpy>=1.13.3 in /usr/local/lib/python3.6/dist-packages (from scipy>=0.9->scikit-plot) (1.17.5)\n",
            "Requirement already satisfied: pyparsing!=2.0.4,!=2.1.2,!=2.1.6,>=2.0.1 in /usr/local/lib/python3.6/dist-packages (from matplotlib>=1.4.0->scikit-plot) (2.4.6)\n",
            "Requirement already satisfied: cycler>=0.10 in /usr/local/lib/python3.6/dist-packages (from matplotlib>=1.4.0->scikit-plot) (0.10.0)\n",
            "Requirement already satisfied: kiwisolver>=1.0.1 in /usr/local/lib/python3.6/dist-packages (from matplotlib>=1.4.0->scikit-plot) (1.1.0)\n",
            "Requirement already satisfied: python-dateutil>=2.1 in /usr/local/lib/python3.6/dist-packages (from matplotlib>=1.4.0->scikit-plot) (2.6.1)\n",
            "Requirement already satisfied: six in /usr/local/lib/python3.6/dist-packages (from cycler>=0.10->matplotlib>=1.4.0->scikit-plot) (1.12.0)\n",
            "Requirement already satisfied: setuptools in /usr/local/lib/python3.6/dist-packages (from kiwisolver>=1.0.1->matplotlib>=1.4.0->scikit-plot) (45.1.0)\n",
            "Installing collected packages: scikit-plot\n",
            "Successfully installed scikit-plot-0.3.7\n"
          ],
          "name": "stdout"
        }
      ]
    },
    {
      "cell_type": "code",
      "metadata": {
        "id": "O1rRomw9cvyX",
        "colab_type": "code",
        "outputId": "c0e14ab2-4ac4-4c04-d7a6-f54eda87e458",
        "colab": {
          "base_uri": "https://localhost:8080/",
          "height": 346
        }
      },
      "source": [
        "##Let's use simple Random Forest as Classifier\n",
        "rfc = RandomForestClassifier()\n",
        "rfc.fit(X_train, y_train)\n",
        "y_test_score = rfc.predict_proba(X_test)\n",
        "\n",
        "import scikitplot as skplt\n",
        "import matplotlib.pyplot as plt\n",
        "\n",
        "skplt.metrics.plot_roc_curve(y_test, y_test_score)\n",
        "plt.show()\n",
        "\n",
        "\n",
        "##AUC score is about 0.5\n",
        "print('AUC score: ', round(roc_auc_score(y_true=y_test, y_score=y_test_score[:,1]), 4))"
      ],
      "execution_count": 0,
      "outputs": [
        {
          "output_type": "stream",
          "text": [
            "/usr/local/lib/python3.6/dist-packages/sklearn/utils/deprecation.py:87: FutureWarning: Function plot_roc_curve is deprecated; This will be removed in v0.5.0. Please use scikitplot.metrics.plot_roc instead.\n",
            "  warnings.warn(msg, category=FutureWarning)\n"
          ],
          "name": "stderr"
        },
        {
          "output_type": "display_data",
          "data": {
            "image/png": "[encoded data removed]",
            "text/plain": [
              "<Figure size 432x288 with 1 Axes>"
            ]
          },
          "metadata": {
            "tags": []
          }
        },
        {
          "output_type": "stream",
          "text": [
            "AUC score:  0.5027\n"
          ],
          "name": "stdout"
        }
      ]
    }
  ]
}