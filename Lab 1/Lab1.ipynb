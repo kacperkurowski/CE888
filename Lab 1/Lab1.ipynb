{
  "nbformat": 4,
  "nbformat_minor": 0,
  "metadata": {
    "colab": {
      "name": "Lab1.ipynb",
      "provenance": [],
      "authorship_tag": "ABX9TyOYUqvKMsaGrnDqvljBXtkq",
      "include_colab_link": true
    },
    "kernelspec": {
      "name": "python3",
      "display_name": "Python 3"
    },
    "accelerator": "GPU"
  },
  "cells": [
    {
      "cell_type": "markdown",
      "metadata": {
        "id": "view-in-github",
        "colab_type": "text"
      },
      "source": [
        "<a href=\"https://colab.research.google.com/github/kacperkurowski/CE888/blob/master/Lab1.ipynb\" target=\"_parent\"><img src=\"https://colab.research.google.com/assets/colab-badge.svg\" alt=\"Open In Colab\"/></a>"
      ]
    },
    {
      "cell_type": "code",
      "metadata": {
        "id": "QLYezzaM1BqT",
        "colab_type": "code",
        "colab": {}
      },
      "source": [
        ""
      ],
      "execution_count": 0,
      "outputs": []
    },
    {
      "cell_type": "markdown",
      "metadata": {
        "id": "0j2k-30A1jkc",
        "colab_type": "text"
      },
      "source": [
        "# Exercises for Lab1"
      ]
    },
    {
      "cell_type": "markdown",
      "metadata": {
        "id": "LrWpUq-v1ht1",
        "colab_type": "text"
      },
      "source": [
        "## Exercise 1\n",
        "###importing libraries\n"
      ]
    },
    {
      "cell_type": "code",
      "metadata": {
        "id": "dBLjZsxj1tK8",
        "colab_type": "code",
        "colab": {}
      },
      "source": [
        "import matplotlib.pyplot as plt\n",
        "import numpy as np\n",
        "\n",
        "t = np.linspace(0, 2*np.pi, 50)\n",
        "x = np.sin(t)\n",
        "y = np.cos(t)"
      ],
      "execution_count": 0,
      "outputs": []
    },
    {
      "cell_type": "markdown",
      "metadata": {
        "id": "4q9zbDXm4toX",
        "colab_type": "text"
      },
      "source": [
        "### Creating a Sin(x) and Cos(x) plot\n"
      ]
    },
    {
      "cell_type": "code",
      "metadata": {
        "id": "lWXKdv6j428-",
        "colab_type": "code",
        "colab": {
          "base_uri": "https://localhost:8080/",
          "height": 298
        },
        "outputId": "4e61623d-b105-44e0-825d-bacaf5aff1d5"
      },
      "source": [
        "# Now create a figure by using plt.plot()\n",
        "# and plot x and y inside it\n",
        "plt.plot(x)\n",
        "# Add a title\n",
        "plt.title(\"Sin\")"
      ],
      "execution_count": 543,
      "outputs": [
        {
          "output_type": "execute_result",
          "data": {
            "text/plain": [
              "Text(0.5, 1.0, 'Sin')"
            ]
          },
          "metadata": {
            "tags": []
          },
          "execution_count": 543
        },
        {
          "output_type": "display_data",
          "data": {
            "image/png": "[encoded data removed]",
            "text/plain": [
              "<Figure size 432x288 with 1 Axes>"
            ]
          },
          "metadata": {
            "tags": []
          }
        }
      ]
    },
    {
      "cell_type": "code",
      "metadata": {
        "id": "AiKGhQ1y5czH",
        "colab_type": "code",
        "colab": {
          "base_uri": "https://localhost:8080/",
          "height": 298
        },
        "outputId": "25a948e5-555f-4f14-c88f-9a1100ec784f"
      },
      "source": [
        "plt.plot(y)\n",
        "# Add a title\n",
        "plt.title(\"Cos\")"
      ],
      "execution_count": 544,
      "outputs": [
        {
          "output_type": "execute_result",
          "data": {
            "text/plain": [
              "Text(0.5, 1.0, 'Cos')"
            ]
          },
          "metadata": {
            "tags": []
          },
          "execution_count": 544
        },
        {
          "output_type": "display_data",
          "data": {
            "image/png": "[encoded data removed]",
            "text/plain": [
              "<Figure size 432x288 with 1 Axes>"
            ]
          },
          "metadata": {
            "tags": []
          }
        }
      ]
    },
    {
      "cell_type": "markdown",
      "metadata": {
        "id": "gl9Q04155yKG",
        "colab_type": "text"
      },
      "source": [
        "### Creating a Line Plot"
      ]
    },
    {
      "cell_type": "code",
      "metadata": {
        "id": "Zv7mxJc_51ru",
        "colab_type": "code",
        "colab": {
          "base_uri": "https://localhost:8080/",
          "height": 282
        },
        "outputId": "09f6fab1-23c3-43f6-f3bb-423a4419cf78"
      },
      "source": [
        "x = np.linspace(0, 2*np.pi, 50) # '0' is the starting point, the middle part controls how many cycles, '50' is the number of plots in the time frame\n",
        "y1 = np.sin(x)\n",
        "y2 = np.sin(2*x)\n",
        "plt.figure() # Create figure\n",
        "#plt.plot(y1) #treats the '50' as a single cycle, and not 2pi\n",
        "#plt.plot(x, y1)\n",
        "\n",
        "# red dot-dash circle, changes colour of the plot\n",
        "#plt.plot(x, y1, 'r')\n",
        "\n",
        "# red marker only circle, changes the colour and the shape of the plot marker\n",
        "plt.plot(x, y1, 'r-o')\n",
        "\n",
        "# clear figure then plot 2 curves\n",
        "plt.clf()\n",
        "plt.plot(x, y1, 'g-o', x, y2, 'b-+')\n",
        "plt.legend(['sin(x)','sin(2x)']) # adds a label to each graph"
      ],
      "execution_count": 545,
      "outputs": [
        {
          "output_type": "execute_result",
          "data": {
            "text/plain": [
              "<matplotlib.legend.Legend at 0x7f42d8c169e8>"
            ]
          },
          "metadata": {
            "tags": []
          },
          "execution_count": 545
        },
        {
          "output_type": "display_data",
          "data": {
            "image/png": "[encoded data removed]",
            "text/plain": [
              "<Figure size 432x288 with 1 Axes>"
            ]
          },
          "metadata": {
            "tags": []
          }
        }
      ]
    },
    {
      "cell_type": "markdown",
      "metadata": {
        "id": "-7zFNQpR9w-H",
        "colab_type": "text"
      },
      "source": [
        "### Creating a Scater Plot"
      ]
    },
    {
      "cell_type": "code",
      "metadata": {
        "id": "EKxk0Lcg9zGl",
        "colab_type": "code",
        "colab": {
          "base_uri": "https://localhost:8080/",
          "height": 298
        },
        "outputId": "221aab89-c0c9-420c-c30f-613b7c9c4022"
      },
      "source": [
        "N = 50 # no. of points\n",
        "x = np.linspace(0, 10, N) #creates the 50 desired x coordinates from 0 to 10\n",
        "#print(x)\n",
        "from numpy.random import rand\n",
        "e = rand(N)*5.0 # noise\n",
        "y1 = x + e # adds noise to each coordinate\n",
        "areas = rand(N)*300 # controls the area of the 'dots' that represent the points plotted\n",
        "plt.scatter(x, y1, s=areas)\n",
        "colors = rand(N) # changes the colours of each plot to a random value\n",
        "plt.scatter(x, y1, s=areas,c=colors)\n",
        "plt.colorbar()\n",
        "plt.title(\"Random scatter\") # adds title"
      ],
      "execution_count": 546,
      "outputs": [
        {
          "output_type": "execute_result",
          "data": {
            "text/plain": [
              "Text(0.5, 1.0, 'Random scatter')"
            ]
          },
          "metadata": {
            "tags": []
          },
          "execution_count": 546
        },
        {
          "output_type": "display_data",
          "data": {
            "image/png": "[encoded data removed]",
            "text/plain": [
              "<Figure size 432x288 with 2 Axes>"
            ]
          },
          "metadata": {
            "tags": []
          }
        }
      ]
    },
    {
      "cell_type": "markdown",
      "metadata": {
        "id": "xlx_IWGSCAtn",
        "colab_type": "text"
      },
      "source": [
        "###Image Plot - Correlation Plot"
      ]
    },
    {
      "cell_type": "code",
      "metadata": {
        "id": "upWStIW6CF-1",
        "colab_type": "code",
        "colab": {
          "base_uri": "https://localhost:8080/",
          "height": 354
        },
        "outputId": "e5604989-549d-46b8-eeb3-14965411bab4"
      },
      "source": [
        "# Create some data\n",
        "e1 = rand(100)\n",
        "e2 = rand(100)*2\n",
        "e3 = rand(100)*50\n",
        "e4 = rand(100)*100\n",
        "corrmatrix = np.corrcoef([e1, e2, e3, e4])\n",
        "print(corrmatrix)\n",
        "# Plot corr matrix as image\n",
        "plt.imshow(corrmatrix, cmap='GnBu')\n",
        "plt.colorbar()"
      ],
      "execution_count": 547,
      "outputs": [
        {
          "output_type": "stream",
          "text": [
            "[[ 1.          0.26331121 -0.14955643  0.01311402]\n",
            " [ 0.26331121  1.          0.07087027  0.08492716]\n",
            " [-0.14955643  0.07087027  1.          0.07072552]\n",
            " [ 0.01311402  0.08492716  0.07072552  1.        ]]\n"
          ],
          "name": "stdout"
        },
        {
          "output_type": "execute_result",
          "data": {
            "text/plain": [
              "<matplotlib.colorbar.Colorbar at 0x7f42d8a4f2b0>"
            ]
          },
          "metadata": {
            "tags": []
          },
          "execution_count": 547
        },
        {
          "output_type": "display_data",
          "data": {
            "image/png": "[encoded data removed]",
            "text/plain": [
              "<Figure size 432x288 with 2 Axes>"
            ]
          },
          "metadata": {
            "tags": []
          }
        }
      ]
    },
    {
      "cell_type": "markdown",
      "metadata": {
        "id": "nOTW6WgkCtu6",
        "colab_type": "text"
      },
      "source": [
        "### Multiple Plots Using Subplot"
      ]
    },
    {
      "cell_type": "code",
      "metadata": {
        "id": "BwKrD0C5Cxyx",
        "colab_type": "code",
        "colab": {
          "base_uri": "https://localhost:8080/",
          "height": 282
        },
        "outputId": "a7971062-3e7b-40af-a867-2a9fc7081377"
      },
      "source": [
        "t = np.linspace(0, 2*np.pi)\n",
        "x = np.sin(t)\n",
        "y = np.cos(t)\n",
        "# To divide the plotting area\n",
        "plt.subplot(2, 1, 1)\n",
        "plt.plot(x)\n",
        "# Now activate a new plot\n",
        "# area.\n",
        "plt.subplot(2, 1, 2)\n",
        "plt.plot(y)"
      ],
      "execution_count": 548,
      "outputs": [
        {
          "output_type": "execute_result",
          "data": {
            "text/plain": [
              "[<matplotlib.lines.Line2D at 0x7f42d8972438>]"
            ]
          },
          "metadata": {
            "tags": []
          },
          "execution_count": 548
        },
        {
          "output_type": "display_data",
          "data": {
            "image/png": "[encoded data removed]",
            "text/plain": [
              "<Figure size 432x288 with 2 Axes>"
            ]
          },
          "metadata": {
            "tags": []
          }
        }
      ]
    },
    {
      "cell_type": "markdown",
      "metadata": {
        "id": "op_tMlV0C1TZ",
        "colab_type": "text"
      },
      "source": [
        "### Histogram Plot\n"
      ]
    },
    {
      "cell_type": "code",
      "metadata": {
        "id": "n8slnYzNC7TR",
        "colab_type": "code",
        "colab": {
          "base_uri": "https://localhost:8080/",
          "height": 350
        },
        "outputId": "b544bb8e-b32e-4f4e-921e-f79fde208077"
      },
      "source": [
        "# Create array of data\n",
        "from numpy.random import randint\n",
        "data = randint(10000, size=(10,1000))\n",
        "# Approx norm distribution\n",
        "x = np.sum(data, axis=0)\n",
        "# Set up for stacked plots\n",
        "plt.subplot(2,1,1)\n",
        "plt.hist(x, color='r')\n",
        "# Plot cumulative dist\n",
        "plt.subplot(2,1,2)\n",
        "plt.hist(x, cumulative=True)"
      ],
      "execution_count": 549,
      "outputs": [
        {
          "output_type": "execute_result",
          "data": {
            "text/plain": [
              "(array([   8.,   34.,  111.,  273.,  491.,  712.,  876.,  960.,  991.,\n",
              "        1000.]),\n",
              " array([22045. , 27665.7, 33286.4, 38907.1, 44527.8, 50148.5, 55769.2,\n",
              "        61389.9, 67010.6, 72631.3, 78252. ]),\n",
              " <a list of 10 Patch objects>)"
            ]
          },
          "metadata": {
            "tags": []
          },
          "execution_count": 549
        },
        {
          "output_type": "display_data",
          "data": {
            "image/png": "[encoded data removed]",
            "text/plain": [
              "<Figure size 432x288 with 2 Axes>"
            ]
          },
          "metadata": {
            "tags": []
          }
        }
      ]
    },
    {
      "cell_type": "markdown",
      "metadata": {
        "id": "czvUdQWYDBaB",
        "colab_type": "text"
      },
      "source": [
        "### Legend, Title, and Label Axis"
      ]
    },
    {
      "cell_type": "code",
      "metadata": {
        "id": "YWWnWCHbDEQy",
        "colab_type": "code",
        "colab": {
          "base_uri": "https://localhost:8080/",
          "height": 282
        },
        "outputId": "9939de4c-78c5-4b78-8a03-951ad8f606f3"
      },
      "source": [
        "# Add labels in plot command.\n",
        "plt.plot(np.sin(t), label='sin')\n",
        "plt.plot(np.cos(t), label='cos')\n",
        "plt.legend()"
      ],
      "execution_count": 550,
      "outputs": [
        {
          "output_type": "execute_result",
          "data": {
            "text/plain": [
              "<matplotlib.legend.Legend at 0x7f42d8838ba8>"
            ]
          },
          "metadata": {
            "tags": []
          },
          "execution_count": 550
        },
        {
          "output_type": "display_data",
          "data": {
            "image/png": "[encoded data removed]",
            "text/plain": [
              "<Figure size 432x288 with 1 Axes>"
            ]
          },
          "metadata": {
            "tags": []
          }
        }
      ]
    },
    {
      "cell_type": "code",
      "metadata": {
        "id": "42F-Fq4ZDJ9q",
        "colab_type": "code",
        "colab": {
          "base_uri": "https://localhost:8080/",
          "height": 312
        },
        "outputId": "f733c22f-030e-4163-8e99-c4122dc3aa21"
      },
      "source": [
        "plt.plot(t, np.sin(t))\n",
        "plt.xlabel('radians')\n",
        "# Keywords set text properties.\n",
        "plt.ylabel('amplitude',fontsize='large')\n",
        "plt.title('Sin(x)')"
      ],
      "execution_count": 551,
      "outputs": [
        {
          "output_type": "execute_result",
          "data": {
            "text/plain": [
              "Text(0.5, 1.0, 'Sin(x)')"
            ]
          },
          "metadata": {
            "tags": []
          },
          "execution_count": 551
        },
        {
          "output_type": "display_data",
          "data": {
            "image/png": "[encoded data removed]",
            "text/plain": [
              "<Figure size 432x288 with 1 Axes>"
            ]
          },
          "metadata": {
            "tags": []
          }
        }
      ]
    },
    {
      "cell_type": "markdown",
      "metadata": {
        "id": "qtcmOjahDUCL",
        "colab_type": "text"
      },
      "source": [
        "## NumPy Arrays"
      ]
    },
    {
      "cell_type": "code",
      "metadata": {
        "id": "cR6HNSKSDY2r",
        "colab_type": "code",
        "colab": {
          "base_uri": "https://localhost:8080/",
          "height": 34
        },
        "outputId": "bff197d0-6277-4937-e8c6-0fffe8583efb"
      },
      "source": [
        "import numpy as np\n",
        "\n",
        "# Simple array creation\n",
        "a = np.array([0, 1, 2, 3, 4, 5])\n",
        "print(a)"
      ],
      "execution_count": 552,
      "outputs": [
        {
          "output_type": "stream",
          "text": [
            "[0 1 2 3 4 5]\n"
          ],
          "name": "stdout"
        }
      ]
    },
    {
      "cell_type": "code",
      "metadata": {
        "id": "VyjcCPbPDeY7",
        "colab_type": "code",
        "colab": {
          "base_uri": "https://localhost:8080/",
          "height": 51
        },
        "outputId": "e344ead7-a33e-4eb5-953a-f5e6ab543b34"
      },
      "source": [
        "# Checking the type and type of elements\n",
        "print(type(a))\n",
        "print(a.dtype)"
      ],
      "execution_count": 553,
      "outputs": [
        {
          "output_type": "stream",
          "text": [
            "<class 'numpy.ndarray'>\n",
            "int64\n"
          ],
          "name": "stdout"
        }
      ]
    },
    {
      "cell_type": "code",
      "metadata": {
        "id": "AXezyTPhDjOF",
        "colab_type": "code",
        "colab": {
          "base_uri": "https://localhost:8080/",
          "height": 51
        },
        "outputId": "460c2e06-b5a2-4489-dabd-ce964811d574"
      },
      "source": [
        "# Check dimensions and shape\n",
        "print(a.ndim)\n",
        "print(a.shape)"
      ],
      "execution_count": 554,
      "outputs": [
        {
          "output_type": "stream",
          "text": [
            "1\n",
            "(6,)\n"
          ],
          "name": "stdout"
        }
      ]
    },
    {
      "cell_type": "code",
      "metadata": {
        "id": "SkkbMwv5DmIU",
        "colab_type": "code",
        "colab": {
          "base_uri": "https://localhost:8080/",
          "height": 51
        },
        "outputId": "b2af0d8e-29e9-4c7f-b086-cdc79deb1964"
      },
      "source": [
        "# Check Bytes per element and Bytes of memory use\n",
        "print(a.itemsize)\n",
        "print(a.nbytes)"
      ],
      "execution_count": 555,
      "outputs": [
        {
          "output_type": "stream",
          "text": [
            "8\n",
            "48\n"
          ],
          "name": "stdout"
        }
      ]
    },
    {
      "cell_type": "markdown",
      "metadata": {
        "id": "nwErbwubDo6E",
        "colab_type": "text"
      },
      "source": [
        "Array Operations"
      ]
    },
    {
      "cell_type": "code",
      "metadata": {
        "id": "WXSMJmpbDsnc",
        "colab_type": "code",
        "colab": {
          "base_uri": "https://localhost:8080/",
          "height": 85
        },
        "outputId": "ebdd6ee0-2bcf-4ae0-9938-702e0de0fe89"
      },
      "source": [
        "a = np.array([1, 2, 3, 4])\n",
        "b = np.array([2, 3, 4, 5])\n",
        "\n",
        "print(a*b)\n",
        "print(a**b)\n",
        "print(a+b)\n",
        "print(a/b)"
      ],
      "execution_count": 556,
      "outputs": [
        {
          "output_type": "stream",
          "text": [
            "[ 2  6 12 20]\n",
            "[   1    8   81 1024]\n",
            "[3 5 7 9]\n",
            "[0.5        0.66666667 0.75       0.8       ]\n"
          ],
          "name": "stdout"
        }
      ]
    },
    {
      "cell_type": "code",
      "metadata": {
        "id": "Xfv_xLpnDucL",
        "colab_type": "code",
        "colab": {
          "base_uri": "https://localhost:8080/",
          "height": 68
        },
        "outputId": "0b39790a-93a1-4b72-a4ff-17b29854ee75"
      },
      "source": [
        "# Setting array elements\n",
        "print(a[0])\n",
        "a[0] = 10\n",
        "print(a[0])\n",
        "print(a)"
      ],
      "execution_count": 557,
      "outputs": [
        {
          "output_type": "stream",
          "text": [
            "1\n",
            "10\n",
            "[10  2  3  4]\n"
          ],
          "name": "stdout"
        }
      ]
    },
    {
      "cell_type": "code",
      "metadata": {
        "id": "MsXRkOxtDwQs",
        "colab_type": "code",
        "colab": {
          "base_uri": "https://localhost:8080/",
          "height": 51
        },
        "outputId": "f702b3f9-66cb-4051-de1b-dd28b73bfa5b"
      },
      "source": [
        "# Multi-dimensional array\n",
        "\n",
        "a = np.array([[ 0, 1, 2, 3],\n",
        "              [10,11,12,13]])\n",
        "print(a)"
      ],
      "execution_count": 558,
      "outputs": [
        {
          "output_type": "stream",
          "text": [
            "[[ 0  1  2  3]\n",
            " [10 11 12 13]]\n"
          ],
          "name": "stdout"
        }
      ]
    },
    {
      "cell_type": "code",
      "metadata": {
        "id": "SDnvaGvWEJZ9",
        "colab_type": "code",
        "colab": {
          "base_uri": "https://localhost:8080/",
          "height": 68
        },
        "outputId": "78d0f392-88b4-441b-bac2-bd428768caed"
      },
      "source": [
        "print(a.shape)\n",
        "print(a.size)\n",
        "print(a.ndim)"
      ],
      "execution_count": 559,
      "outputs": [
        {
          "output_type": "stream",
          "text": [
            "(2, 4)\n",
            "8\n",
            "2\n"
          ],
          "name": "stdout"
        }
      ]
    },
    {
      "cell_type": "code",
      "metadata": {
        "id": "7xyadyVaEKC0",
        "colab_type": "code",
        "colab": {
          "base_uri": "https://localhost:8080/",
          "height": 51
        },
        "outputId": "12a5ef50-52ce-45d7-ad82-94b03dbfcd9f"
      },
      "source": [
        "# Get and set elements in Multi-dimensional array\n",
        "print(a[1, 3])\n",
        "a[1, 3] = -1\n",
        "print(a[1, 3])"
      ],
      "execution_count": 560,
      "outputs": [
        {
          "output_type": "stream",
          "text": [
            "13\n",
            "-1\n"
          ],
          "name": "stdout"
        }
      ]
    },
    {
      "cell_type": "code",
      "metadata": {
        "id": "RVZQDFWUEL_U",
        "colab_type": "code",
        "colab": {
          "base_uri": "https://localhost:8080/",
          "height": 34
        },
        "outputId": "b78947ca-4969-4a25-a3cd-1336fc3a3744"
      },
      "source": [
        "print(a[1])"
      ],
      "execution_count": 561,
      "outputs": [
        {
          "output_type": "stream",
          "text": [
            "[10 11 12 -1]\n"
          ],
          "name": "stdout"
        }
      ]
    },
    {
      "cell_type": "code",
      "metadata": {
        "id": "ISBNIRxnEVWn",
        "colab_type": "code",
        "colab": {
          "base_uri": "https://localhost:8080/",
          "height": 153
        },
        "outputId": "6815a44c-28d5-469b-9288-74c9b3aad16b"
      },
      "source": [
        "# Slicing array\n",
        "print(a)\n",
        "\n",
        "# print all row and 3rd column\n",
        "print(a[:,2])\n",
        "\n",
        "# print first row and all column \n",
        "print(a[0,:])\n",
        "\n",
        "# negative indices work also\n",
        "print(a)\n",
        "print(a[:,:-2])"
      ],
      "execution_count": 562,
      "outputs": [
        {
          "output_type": "stream",
          "text": [
            "[[ 0  1  2  3]\n",
            " [10 11 12 -1]]\n",
            "[ 2 12]\n",
            "[0 1 2 3]\n",
            "[[ 0  1  2  3]\n",
            " [10 11 12 -1]]\n",
            "[[ 0  1]\n",
            " [10 11]]\n"
          ],
          "name": "stdout"
        }
      ]
    },
    {
      "cell_type": "markdown",
      "metadata": {
        "id": "QwuXEvfJEZr9",
        "colab_type": "text"
      },
      "source": [
        "## Tasks For Lab 1\n",
        "Question 1"
      ]
    },
    {
      "cell_type": "code",
      "metadata": {
        "id": "flXGzIaIEcG1",
        "colab_type": "code",
        "colab": {
          "base_uri": "https://localhost:8080/",
          "height": 85
        },
        "outputId": "f12d2b96-148a-42da-9809-4e7884b1c79c"
      },
      "source": [
        "Array = np.arange(8).reshape(4,2)\n",
        "print(Array)"
      ],
      "execution_count": 563,
      "outputs": [
        {
          "output_type": "stream",
          "text": [
            "[[0 1]\n",
            " [2 3]\n",
            " [4 5]\n",
            " [6 7]]\n"
          ],
          "name": "stdout"
        }
      ]
    },
    {
      "cell_type": "markdown",
      "metadata": {
        "id": "ORlAOFOuF2qI",
        "colab_type": "text"
      },
      "source": [
        "Question 2"
      ]
    },
    {
      "cell_type": "code",
      "metadata": {
        "id": "Fw_mkmLPF35B",
        "colab_type": "code",
        "colab": {
          "base_uri": "https://localhost:8080/",
          "height": 68
        },
        "outputId": "4f0cdc4f-fa1d-4586-8bc7-35b561f21ffc"
      },
      "source": [
        "AscDesc = np.arange(10).reshape(1,10)\n",
        "print(AscDesc)\n",
        "AscArray = np.sort(AscDesc)\n",
        "print(AscArray)\n",
        "DescArray = -np.sort(-AscArray)\n",
        "print(DescArray)\n"
      ],
      "execution_count": 564,
      "outputs": [
        {
          "output_type": "stream",
          "text": [
            "[[0 1 2 3 4 5 6 7 8 9]]\n",
            "[[0 1 2 3 4 5 6 7 8 9]]\n",
            "[[9 8 7 6 5 4 3 2 1 0]]\n"
          ],
          "name": "stdout"
        }
      ]
    },
    {
      "cell_type": "markdown",
      "metadata": {
        "id": "C67J4smPJRrW",
        "colab_type": "text"
      },
      "source": [
        "Question 3"
      ]
    },
    {
      "cell_type": "code",
      "metadata": {
        "id": "fBXcuN6BJS50",
        "colab_type": "code",
        "colab": {
          "base_uri": "https://localhost:8080/",
          "height": 85
        },
        "outputId": "711fb7d1-b955-4c49-e95b-79d62f2afb19"
      },
      "source": [
        "D1 = np.array([1, 2, 3, 4, 5, 6, 7, 8, 9])\n",
        "D2 = np.reshape(D1,(3,3))\n",
        "print(D1)\n",
        "print(D2)"
      ],
      "execution_count": 565,
      "outputs": [
        {
          "output_type": "stream",
          "text": [
            "[1 2 3 4 5 6 7 8 9]\n",
            "[[1 2 3]\n",
            " [4 5 6]\n",
            " [7 8 9]]\n"
          ],
          "name": "stdout"
        }
      ]
    },
    {
      "cell_type": "markdown",
      "metadata": {
        "id": "MMrmwthfLzJN",
        "colab_type": "text"
      },
      "source": [
        "Question 4"
      ]
    },
    {
      "cell_type": "code",
      "metadata": {
        "id": "OaPlD-tiL0Vd",
        "colab_type": "code",
        "colab": {
          "base_uri": "https://localhost:8080/",
          "height": 68
        },
        "outputId": "464f0b55-aad7-4c67-b224-6a95a147377c"
      },
      "source": [
        "A = np.array([1,2,3,4,5])\n",
        "B = np.array([6,7,8,9,10])\n",
        "Horizontal = np.hstack((A,B))\n",
        "print(Horizontal)\n",
        "Vertical = np.vstack((A,B))\n",
        "print(Vertical)\n"
      ],
      "execution_count": 566,
      "outputs": [
        {
          "output_type": "stream",
          "text": [
            "[ 1  2  3  4  5  6  7  8  9 10]\n",
            "[[ 1  2  3  4  5]\n",
            " [ 6  7  8  9 10]]\n"
          ],
          "name": "stdout"
        }
      ]
    },
    {
      "cell_type": "markdown",
      "metadata": {
        "id": "rdAEdYFINGf-",
        "colab_type": "text"
      },
      "source": [
        "Question 5"
      ]
    },
    {
      "cell_type": "code",
      "metadata": {
        "id": "KQe5JLqgNHzd",
        "colab_type": "code",
        "colab": {
          "base_uri": "https://localhost:8080/",
          "height": 34
        },
        "outputId": "58428d1d-86f8-43b9-ae96-5dda29d547d8"
      },
      "source": [
        "Element1 = np.array([1,2,3,4,5,6,7,8,9,10])\n",
        "Element2 = np.array([2,4,6,8,10])\n",
        "print(np.intersect1d(Element1, Element2))"
      ],
      "execution_count": 567,
      "outputs": [
        {
          "output_type": "stream",
          "text": [
            "[ 2  4  6  8 10]\n"
          ],
          "name": "stdout"
        }
      ]
    },
    {
      "cell_type": "markdown",
      "metadata": {
        "id": "OcbshlpENuQj",
        "colab_type": "text"
      },
      "source": [
        "Question 6"
      ]
    },
    {
      "cell_type": "code",
      "metadata": {
        "id": "nfobmiWXNvp5",
        "colab_type": "code",
        "colab": {
          "base_uri": "https://localhost:8080/",
          "height": 170
        },
        "outputId": "01653c55-db6b-44e9-cff7-6c0d2f1b6a64"
      },
      "source": [
        "MinMax = np.arange(25).reshape(5,5)\n",
        "print(MinMax)\n",
        "MaxInColumns = np.amax(MinMax, axis = 0)\n",
        "MinInColumns = np.amin(MinMax, axis = 0)\n",
        "MaxInRows = np.amax(MinMax, axis = 1)\n",
        "MinInRows = np.amin(MinMax, axis = 1)\n",
        "print(MaxInColumns)\n",
        "print(MinInColumns)\n",
        "print(MaxInRows)\n",
        "print(MinInRows)\n"
      ],
      "execution_count": 568,
      "outputs": [
        {
          "output_type": "stream",
          "text": [
            "[[ 0  1  2  3  4]\n",
            " [ 5  6  7  8  9]\n",
            " [10 11 12 13 14]\n",
            " [15 16 17 18 19]\n",
            " [20 21 22 23 24]]\n",
            "[20 21 22 23 24]\n",
            "[0 1 2 3 4]\n",
            "[ 4  9 14 19 24]\n",
            "[ 0  5 10 15 20]\n"
          ],
          "name": "stdout"
        }
      ]
    },
    {
      "cell_type": "markdown",
      "metadata": {
        "id": "quoGcTD_RUrH",
        "colab_type": "text"
      },
      "source": [
        "Question 7"
      ]
    },
    {
      "cell_type": "code",
      "metadata": {
        "id": "6DUKkHD3RWXy",
        "colab_type": "code",
        "colab": {
          "base_uri": "https://localhost:8080/",
          "height": 153
        },
        "outputId": "e6d2318d-3dbf-4714-f71e-181119495020"
      },
      "source": [
        "Array100 = np.arange(100).reshape(1,100)\n",
        "print(Array100)\n",
        "Mean = np.mean(Array100)\n",
        "print(Mean)\n",
        "Median = np.median(Array100)\n",
        "print(Median)\n",
        "StdDev = np.std(Array100)\n",
        "print(StdDev)"
      ],
      "execution_count": 569,
      "outputs": [
        {
          "output_type": "stream",
          "text": [
            "[[ 0  1  2  3  4  5  6  7  8  9 10 11 12 13 14 15 16 17 18 19 20 21 22 23\n",
            "  24 25 26 27 28 29 30 31 32 33 34 35 36 37 38 39 40 41 42 43 44 45 46 47\n",
            "  48 49 50 51 52 53 54 55 56 57 58 59 60 61 62 63 64 65 66 67 68 69 70 71\n",
            "  72 73 74 75 76 77 78 79 80 81 82 83 84 85 86 87 88 89 90 91 92 93 94 95\n",
            "  96 97 98 99]]\n",
            "49.5\n",
            "49.5\n",
            "28.86607004772212\n"
          ],
          "name": "stdout"
        }
      ]
    },
    {
      "cell_type": "markdown",
      "metadata": {
        "id": "S4UyoWCCSH7w",
        "colab_type": "text"
      },
      "source": [
        "Question 8"
      ]
    },
    {
      "cell_type": "code",
      "metadata": {
        "id": "OduM3BpMSKBW",
        "colab_type": "code",
        "colab": {
          "base_uri": "https://localhost:8080/",
          "height": 204
        },
        "outputId": "9f8c68e6-47af-476e-dfc9-cccf25b42062"
      },
      "source": [
        "NormArray = np.random.random((5,5))\n",
        "Max = NormArray.max()\n",
        "Min = NormArray.min()\n",
        "print(NormArray)\n",
        "print(Max, Min)\n",
        "NormArray = (NormArray - Min)/(Max-Min)\n",
        "print(NormArray)\n"
      ],
      "execution_count": 574,
      "outputs": [
        {
          "output_type": "stream",
          "text": [
            "[[0.88323055 0.45149847 0.91633814 0.48339397 0.64683517]\n",
            " [0.0066808  0.80650688 0.22059793 0.06254046 0.25732791]\n",
            " [0.14114368 0.43676676 0.48419279 0.08560861 0.78895527]\n",
            " [0.51115287 0.23003098 0.97965896 0.25248209 0.94749887]\n",
            " [0.29139797 0.76510098 0.52426941 0.65392659 0.64197592]]\n",
            "0.9796589562335988 0.0066807974629988776\n",
            "[[0.90089356 0.45717128 0.93492062 0.48995259 0.65793293]\n",
            " [0.         0.82203909 0.2198581  0.05741101 0.25760816]\n",
            " [0.13819722 0.44203044 0.4907736  0.08111982 0.80400004]\n",
            " [0.51848242 0.22955313 1.         0.25262776 0.96694676]\n",
            " [0.29262442 0.77948326 0.53196324 0.6652213  0.65293873]]\n"
          ],
          "name": "stdout"
        }
      ]
    },
    {
      "cell_type": "markdown",
      "metadata": {
        "id": "cJoTdxIzT8tA",
        "colab_type": "text"
      },
      "source": [
        "Question 9"
      ]
    },
    {
      "cell_type": "code",
      "metadata": {
        "id": "ER5we0xNT932",
        "colab_type": "code",
        "colab": {
          "base_uri": "https://localhost:8080/",
          "height": 340
        },
        "outputId": "5a20150c-6fa9-4074-e871-8ebc30d55153"
      },
      "source": [
        "ArrayA = np.arange(48).reshape(4,4,3)\n",
        "#print(ArrayA)\n",
        "ArrayB = np.arange(16).reshape(4,4,1)\n",
        "#print(ArrayB)\n",
        "Sum = np.multiply(ArrayA, ArrayB)\n",
        "print(Sum)"
      ],
      "execution_count": 582,
      "outputs": [
        {
          "output_type": "stream",
          "text": [
            "[[[  0   0   0]\n",
            "  [  3   4   5]\n",
            "  [ 12  14  16]\n",
            "  [ 27  30  33]]\n",
            "\n",
            " [[ 48  52  56]\n",
            "  [ 75  80  85]\n",
            "  [108 114 120]\n",
            "  [147 154 161]]\n",
            "\n",
            " [[192 200 208]\n",
            "  [243 252 261]\n",
            "  [300 310 320]\n",
            "  [363 374 385]]\n",
            "\n",
            " [[432 444 456]\n",
            "  [507 520 533]\n",
            "  [588 602 616]\n",
            "  [675 690 705]]]\n"
          ],
          "name": "stdout"
        }
      ]
    }
  ]
}