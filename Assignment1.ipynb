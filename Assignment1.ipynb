{
  "nbformat": 4,
  "nbformat_minor": 0,
  "metadata": {
    "colab": {
      "name": "Assignment1.ipynb",
      "provenance": [],
      "machine_shape": "hm",
      "authorship_tag": "ABX9TyO5SBlu7C6ozFMYU831XxBX",
      "include_colab_link": true
    },
    "kernelspec": {
      "name": "python3",
      "display_name": "Python 3"
    },
    "accelerator": "GPU"
  },
  "cells": [
    {
      "cell_type": "markdown",
      "metadata": {
        "id": "view-in-github",
        "colab_type": "text"
      },
      "source": [
        "<a href=\"https://colab.research.google.com/github/kacperkurowski/CE888/blob/master/Assignment1.ipynb\" target=\"_parent\"><img src=\"https://colab.research.google.com/assets/colab-badge.svg\" alt=\"Open In Colab\"/></a>"
      ]
    },
    {
      "cell_type": "markdown",
      "metadata": {
        "id": "l6fbJUJzmZux",
        "colab_type": "text"
      },
      "source": [
        "#Assignment 1"
      ]
    },
    {
      "cell_type": "markdown",
      "metadata": {
        "id": "K-rpz9mmmdm4",
        "colab_type": "text"
      },
      "source": [
        "##Loading Data"
      ]
    },
    {
      "cell_type": "code",
      "metadata": {
        "id": "aI0PLPGlmg0o",
        "colab_type": "code",
        "colab": {
          "base_uri": "https://localhost:8080/",
          "height": 408
        },
        "outputId": "adfde6aa-2f97-462b-e4ee-10e7e177b6c4"
      },
      "source": [
        "import os\n",
        "\n",
        "os.environ['KAGGLE_USERNAME'] = \"kacperkurowski\" # username from the json file\n",
        "\n",
        "os.environ['KAGGLE_KEY'] = \"497bb0d143febd746eac8954f44bd092\" # key from the json file\n",
        "\n",
        "!kaggle competitions download -c ga-customer-revenue-prediction # api copied from kaggle\n",
        "\n",
        "!kaggle competitions download -c santander-customer-transaction-prediction # api copied from kaggle"
      ],
      "execution_count": 1,
      "outputs": [
        {
          "output_type": "stream",
          "text": [
            "Warning: Looks like you're using an outdated API Version, please consider updating (server 1.5.6 / client 1.5.4)\n",
            "Downloading sample_submission_v2.csv.zip to /content\n",
            "  0% 0.00/2.55M [00:00<?, ?B/s]\n",
            "100% 2.55M/2.55M [00:00<00:00, 85.2MB/s]\n",
            "Downloading test.csv.zip to /content\n",
            "100% 56.8M/56.8M [00:00<00:00, 64.3MB/s]\n",
            "\n",
            "Downloading train_v2.csv.zip to /content\n",
            " 99% 1.10G/1.11G [00:11<00:00, 79.6MB/s]\n",
            "100% 1.11G/1.11G [00:11<00:00, 107MB/s] \n",
            "Downloading sample_submission.csv.zip to /content\n",
            "  0% 0.00/5.23M [00:00<?, ?B/s]\n",
            "100% 5.23M/5.23M [00:00<00:00, 48.1MB/s]\n",
            "Downloading test_v2.csv.zip to /content\n",
            " 96% 321M/333M [00:04<00:00, 82.8MB/s]\n",
            "100% 333M/333M [00:04<00:00, 74.0MB/s]\n",
            "Downloading train.csv.zip to /content\n",
            " 97% 59.0M/61.1M [00:00<00:00, 66.8MB/s]\n",
            "100% 61.1M/61.1M [00:00<00:00, 96.1MB/s]\n",
            "Warning: Looks like you're using an outdated API Version, please consider updating (server 1.5.6 / client 1.5.4)\n",
            "train.csv.zip: Skipping, found more recently modified local copy (use --force to force download)\n",
            "test.csv.zip: Skipping, found more recently modified local copy (use --force to force download)\n",
            "sample_submission.csv.zip: Skipping, found more recently modified local copy (use --force to force download)\n"
          ],
          "name": "stdout"
        }
      ]
    },
    {
      "cell_type": "markdown",
      "metadata": {
        "id": "KYK3bJw1nAx0",
        "colab_type": "text"
      },
      "source": [
        "##Loading the files from Customer_Revenue_Prediction"
      ]
    },
    {
      "cell_type": "code",
      "metadata": {
        "id": "ytECVtYqnFy7",
        "colab_type": "code",
        "colab": {
          "base_uri": "https://localhost:8080/",
          "height": 255
        },
        "outputId": "8ff552e2-2e1f-4d08-bdbc-1f336651391b"
      },
      "source": [
        "import pandas as pd\n",
        "\n",
        "df_sample_submission = pd.read_csv(\"sample_submission.csv.zip\", compression = 'zip', header = 0, sep = ',', quotechar = '\"')\n",
        "\n",
        "print(df_sample_submission)\n",
        "\n",
        "df_sample_submission_v2 = pd.read_csv(\"sample_submission_v2.csv.zip\", compression = 'zip', header = 0, sep = ',', quotechar = '\"')\n",
        "\n",
        "print(df_sample_submission_v2)\n",
        "\n",
        "df_test = pd.read_csv(\"test.csv.zip\", compression = 'zip', header = 0, sep = ',', quotechar = '\"')\n",
        "\n",
        "print(df_test)\n",
        "\n",
        "df_test_v2 = pd.read_csv(\"test_v2.csv.zip\", compression = 'zip', header = 0, sep = ',', quotechar = '\"')\n",
        "\n",
        "print(df_test_v2)\n",
        "\n",
        "df_train = pd.read_csv(\"train.csv.zip\", compression = 'zip', header = 0, sep = ',', quotechar = '\"')\n",
        "\n",
        "print(df_train)\n",
        "\n",
        "df_train_v2 = pd.read_csv(\"train_v2.csv.zip\", compression = 'zip', header = 0, sep = ',', quotechar = '\"')\n",
        "\n",
        "print(df_train_v2)\n",
        "\n",
        "#\"\"\"Names of all the files\n",
        "#sample_submission.csv\n",
        "#sample_submission_v2.csv\n",
        "#test.csv\n",
        "#test_v2.csv\n",
        "#train.csv\n",
        "#train_v2.csv\"\"\""
      ],
      "execution_count": 2,
      "outputs": [
        {
          "output_type": "stream",
          "text": [
            "/usr/local/lib/python3.6/dist-packages/IPython/core/interactiveshell.py:2718: DtypeWarning: Columns (4) have mixed types. Specify dtype option on import or set low_memory=False.\n",
            "  interactivity=interactivity, compiler=compiler, result=result)\n"
          ],
          "name": "stderr"
        },
        {
          "output_type": "stream",
          "text": [
            "[['Organic Search' \"[{'index': '4', 'value': 'EMEA'}]\" 20171016 ...\n",
            "  1508198450 1 1508198450]\n",
            " ['Referral' \"[{'index': '4', 'value': 'North America'}]\" 20171016 ...\n",
            "  1508176307 6 1508176307]\n",
            " ['Direct' \"[{'index': '4', 'value': 'North America'}]\" 20171016 ...\n",
            "  1508201613 1 1508201613]\n",
            " ...\n",
            " ['Social' '[]' 20170104 ... 1483526434 1 1483526434]\n",
            " ['Social' \"[{'index': '4', 'value': 'APAC'}]\" 20170104 ... 1483592857 1\n",
            "  1483592864]\n",
            " ['Social' \"[{'index': '4', 'value': 'Central America'}]\" 20170104 ...\n",
            "  1483574474 1 1483574474]]\n"
          ],
          "name": "stdout"
        }
      ]
    }
  ]
}