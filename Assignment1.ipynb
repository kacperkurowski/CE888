{
  "nbformat": 4,
  "nbformat_minor": 0,
  "metadata": {
    "colab": {
      "name": "Assignment1.ipynb",
      "provenance": [],
      "authorship_tag": "ABX9TyP0hRO2mPaReseQ2gmtlw9C",
      "include_colab_link": true
    },
    "kernelspec": {
      "name": "python3",
      "display_name": "Python 3"
    }
  },
  "cells": [
    {
      "cell_type": "markdown",
      "metadata": {
        "id": "view-in-github",
        "colab_type": "text"
      },
      "source": [
        "<a href=\"https://colab.research.google.com/github/kacperkurowski/CE888/blob/master/Assignment1.ipynb\" target=\"_parent\"><img src=\"https://colab.research.google.com/assets/colab-badge.svg\" alt=\"Open In Colab\"/></a>"
      ]
    },
    {
      "cell_type": "markdown",
      "metadata": {
        "id": "l6fbJUJzmZux",
        "colab_type": "text"
      },
      "source": [
        "#Assignment 1"
      ]
    },
    {
      "cell_type": "markdown",
      "metadata": {
        "id": "K-rpz9mmmdm4",
        "colab_type": "text"
      },
      "source": [
        "##Loading Data"
      ]
    },
    {
      "cell_type": "code",
      "metadata": {
        "id": "aI0PLPGlmg0o",
        "colab_type": "code",
        "colab": {
          "base_uri": "https://localhost:8080/",
          "height": 408
        },
        "outputId": "32ac85c1-9613-4734-983e-c23184f62719"
      },
      "source": [
        "import os\n",
        "\n",
        "os.environ['KAGGLE_USERNAME'] = \"kacperkurowski\" # username from the json file\n",
        "\n",
        "os.environ['KAGGLE_KEY'] = \"497bb0d143febd746eac8954f44bd092\" # key from the json file\n",
        "\n",
        "!kaggle competitions download -c ga-customer-revenue-prediction # api copied from kaggle\n",
        "\n",
        "!kaggle competitions download -c santander-customer-transaction-prediction # api copied from kaggle"
      ],
      "execution_count": 1,
      "outputs": [
        {
          "output_type": "stream",
          "text": [
            "Warning: Looks like you're using an outdated API Version, please consider updating (server 1.5.6 / client 1.5.4)\n",
            "Downloading sample_submission_v2.csv.zip to /content\n",
            "  0% 0.00/2.55M [00:00<?, ?B/s]\n",
            "100% 2.55M/2.55M [00:00<00:00, 84.1MB/s]\n",
            "Downloading train_v2.csv.zip to /content\n",
            "100% 1.11G/1.11G [00:10<00:00, 113MB/s]\n",
            "100% 1.11G/1.11G [00:10<00:00, 111MB/s]\n",
            "Downloading test.csv.zip to /content\n",
            " 85% 48.0M/56.8M [00:00<00:00, 68.4MB/s]\n",
            "100% 56.8M/56.8M [00:00<00:00, 115MB/s] \n",
            "Downloading test_v2.csv.zip to /content\n",
            " 93% 311M/333M [00:02<00:00, 101MB/s]\n",
            "100% 333M/333M [00:03<00:00, 115MB/s]\n",
            "Downloading sample_submission.csv.zip to /content\n",
            "  0% 0.00/5.23M [00:00<?, ?B/s]\n",
            "100% 5.23M/5.23M [00:00<00:00, 48.1MB/s]\n",
            "Downloading train.csv.zip to /content\n",
            " 92% 56.0M/61.1M [00:00<00:00, 67.2MB/s]\n",
            "100% 61.1M/61.1M [00:00<00:00, 83.1MB/s]\n",
            "Warning: Looks like you're using an outdated API Version, please consider updating (server 1.5.6 / client 1.5.4)\n",
            "train.csv.zip: Skipping, found more recently modified local copy (use --force to force download)\n",
            "test.csv.zip: Skipping, found more recently modified local copy (use --force to force download)\n",
            "sample_submission.csv.zip: Skipping, found more recently modified local copy (use --force to force download)\n"
          ],
          "name": "stdout"
        }
      ]
    },
    {
      "cell_type": "markdown",
      "metadata": {
        "id": "KYK3bJw1nAx0",
        "colab_type": "text"
      },
      "source": [
        "##Loading the files from Customer_Revenue_Prediction"
      ]
    },
    {
      "cell_type": "code",
      "metadata": {
        "id": "ytECVtYqnFy7",
        "colab_type": "code",
        "colab": {
          "base_uri": "https://localhost:8080/",
          "height": 799
        },
        "outputId": "2bc1aae5-0114-41d6-8f3a-f2ec0e54c7d5"
      },
      "source": [
        "import pandas as pd\n",
        "\n",
        "df_sample_submission = pd.read_csv(\"sample_submission.csv.zip\", compression = 'zip', header = 0, sep = ',', quotechar = '\"')\n",
        "\n",
        "print(df_sample_submission)\n",
        "\n",
        "df_sample_submission_v2 = pd.read_csv(\"sample_submission_v2.csv.zip\", compression = 'zip', header = 0, sep = ',', quotechar = '\"')\n",
        "\n",
        "print(df_sample_submission_v2)\n",
        "\n",
        "df_test = pd.read_csv(\"test.csv.zip\", compression = 'zip', header = 0, sep = ',', quotechar = '\"')\n",
        "\n",
        "print(df_test)\n",
        "\n",
        "df_test_v2 = pd.read_csv(\"test_v2.csv.zip\", compression = 'zip', header = 0, sep = ',', quotechar = '\"')\n",
        "\n",
        "print(df_test_v2)\n",
        "\n",
        "df_train = pd.read_csv(\"train.csv.zip\", compression = 'zip', header = 0, sep = ',', quotechar = '\"')\n",
        "\n",
        "print(df_train)\n",
        "\n",
        "df_train_v2 = pd.read_csv(\"train_v2.csv.zip\", compression = 'zip', header = 0, sep = ',', quotechar = '\"')\n",
        "\n",
        "print(df_train_v2)\n",
        "\n",
        "\"\"\"Names of all the files\n",
        "sample_submission.csv\n",
        "sample_submission_v2.csv\n",
        "test.csv\n",
        "test_v2.csv\n",
        "train.csv\n",
        "train_v2.csv\"\"\""
      ],
      "execution_count": 0,
      "outputs": [
        {
          "output_type": "stream",
          "text": [
            "              fullVisitorId  PredictedLogRevenue\n",
            "0       0000000259678714014                  0.0\n",
            "1       0000049363351866189                  0.0\n",
            "2       0000053049821714864                  0.0\n",
            "3       0000059488412965267                  0.0\n",
            "4       0000085840370633780                  0.0\n",
            "...                     ...                  ...\n",
            "617237  9999905960465191827                  0.0\n",
            "617238  9999941518946450908                  0.0\n",
            "617239  9999969142283897422                  0.0\n",
            "617240  9999985820452794361                  0.0\n",
            "617241  9999997304197521748                  0.0\n",
            "\n",
            "[617242 rows x 2 columns]\n"
          ],
          "name": "stdout"
        },
        {
          "output_type": "stream",
          "text": [
            "/usr/local/lib/python3.6/dist-packages/IPython/core/interactiveshell.py:2718: DtypeWarning: Columns (0) have mixed types. Specify dtype option on import or set low_memory=False.\n",
            "  interactivity=interactivity, compiler=compiler, result=result)\n"
          ],
          "name": "stderr"
        },
        {
          "output_type": "stream",
          "text": [
            "              fullVisitorId  PredictedLogRevenue\n",
            "0       0000018966949534117                  0.0\n",
            "1       0000039738481224681                  0.0\n",
            "2       0000073585230191399                  0.0\n",
            "3       0000087588448856385                  0.0\n",
            "4       0000149787903119437                  0.0\n",
            "...                     ...                  ...\n",
            "296525  9999862054614696520                  0.0\n",
            "296526  9999898168621645223                  0.0\n",
            "296527   999990167740728398                  0.0\n",
            "296528  9999915620249883537                  0.0\n",
            "296529  9999947552481876143                  0.0\n",
            "\n",
            "[296530 rows x 2 columns]\n"
          ],
          "name": "stdout"
        },
        {
          "output_type": "stream",
          "text": [
            "/usr/local/lib/python3.6/dist-packages/IPython/core/interactiveshell.py:2718: DtypeWarning: Columns (3) have mixed types. Specify dtype option on import or set low_memory=False.\n",
            "  interactivity=interactivity, compiler=compiler, result=result)\n"
          ],
          "name": "stderr"
        },
        {
          "output_type": "stream",
          "text": [
            "       channelGrouping      date  ... visitNumber visitStartTime\n",
            "0       Organic Search  20171016  ...           2     1508151024\n",
            "1       Organic Search  20171016  ...           1     1508175522\n",
            "2       Organic Search  20171016  ...           1     1508143220\n",
            "3       Organic Search  20171016  ...           1     1508193530\n",
            "4       Organic Search  20171016  ...           1     1508217442\n",
            "...                ...       ...  ...         ...            ...\n",
            "804679          Social  20180421  ...           2     1524358436\n",
            "804680          Social  20180421  ...           1     1524317728\n",
            "804681          Social  20180421  ...           1     1524364725\n",
            "804682          Social  20180421  ...           1     1524330416\n",
            "804683          Social  20180421  ...           1     1524301572\n",
            "\n",
            "[804684 rows x 12 columns]\n"
          ],
          "name": "stdout"
        }
      ]
    }
  ]
}