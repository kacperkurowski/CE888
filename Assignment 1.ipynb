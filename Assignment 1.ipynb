{
  "nbformat": 4,
  "nbformat_minor": 0,
  "metadata": {
    "colab": {
      "name": "Untitled1.ipynb",
      "provenance": [],
      "authorship_tag": "ABX9TyO+E0u8JaHMWeskDbuZ9f9r",
      "include_colab_link": true
    },
    "kernelspec": {
      "name": "python3",
      "display_name": "Python 3"
    }
  },
  "cells": [
    {
      "cell_type": "markdown",
      "metadata": {
        "id": "view-in-github",
        "colab_type": "text"
      },
      "source": [
        "<a href=\"https://colab.research.google.com/github/kacperkurowski/CE888/blob/master/Assignment%201.ipynb\" target=\"_parent\"><img src=\"https://colab.research.google.com/assets/colab-badge.svg\" alt=\"Open In Colab\"/></a>"
      ]
    },
    {
      "cell_type": "markdown",
      "metadata": {
        "id": "vSwnq5dIcyv4",
        "colab_type": "text"
      },
      "source": [
        "#Assignment 1"
      ]
    },
    {
      "cell_type": "markdown",
      "metadata": {
        "id": "u_0zPoJmc0uo",
        "colab_type": "text"
      },
      "source": [
        "##Downloading code"
      ]
    },
    {
      "cell_type": "code",
      "metadata": {
        "id": "9UpzpvY5gHv3",
        "colab_type": "code",
        "colab": {
          "base_uri": "https://localhost:8080/",
          "height": 136
        },
        "outputId": "71d294de-c510-427a-b835-36fdcae15d22"
      },
      "source": [
        "import os\n",
        "\n",
        "os.environ['KAGGLE_USERNAME'] = \"kacperkurowski\" # username from the json file\n",
        "\n",
        "os.environ['KAGGLE_KEY'] = \"497bb0d143febd746eac8954f44bd092\" # key from the json file\n",
        "\n",
        "!kaggle competitions download -c ga-customer-revenue-prediction # api copied from kaggle\n"
      ],
      "execution_count": 9,
      "outputs": [
        {
          "output_type": "stream",
          "text": [
            "Warning: Looks like you're using an outdated API Version, please consider updating (server 1.5.6 / client 1.5.4)\n",
            "sample_submission_v2.csv.zip: Skipping, found more recently modified local copy (use --force to force download)\n",
            "train.csv.zip: Skipping, found more recently modified local copy (use --force to force download)\n",
            "train_v2.csv.zip: Skipping, found more recently modified local copy (use --force to force download)\n",
            "sample_submission.csv.zip: Skipping, found more recently modified local copy (use --force to force download)\n",
            "test.csv.zip: Skipping, found more recently modified local copy (use --force to force download)\n",
            "test_v2.csv.zip: Skipping, found more recently modified local copy (use --force to force download)\n"
          ],
          "name": "stdout"
        }
      ]
    },
    {
      "cell_type": "code",
      "metadata": {
        "id": "JbicYfeLg87H",
        "colab_type": "code",
        "colab": {
          "base_uri": "https://localhost:8080/",
          "height": 85
        },
        "outputId": "cc335fca-d3e7-46dc-9c1b-b257a2f5ae37"
      },
      "source": [
        "import os\n",
        "\n",
        "os.environ['KAGGLE_USERNAME'] = \"kacperkurowski\" # username from the json file\n",
        "\n",
        "os.environ['KAGGLE_KEY'] = \"497bb0d143febd746eac8954f44bd092\" # key from the json file\n",
        "\n",
        "!kaggle competitions download -c santander-customer-transaction-prediction # api copied from kaggle"
      ],
      "execution_count": 10,
      "outputs": [
        {
          "output_type": "stream",
          "text": [
            "Warning: Looks like you're using an outdated API Version, please consider updating (server 1.5.6 / client 1.5.4)\n",
            "train.csv.zip: Skipping, found more recently modified local copy (use --force to force download)\n",
            "sample_submission.csv.zip: Skipping, found more recently modified local copy (use --force to force download)\n",
            "test.csv.zip: Skipping, found more recently modified local copy (use --force to force download)\n"
          ],
          "name": "stdout"
        }
      ]
    }
  ]
}