{
  "nbformat": 4,
  "nbformat_minor": 0,
  "metadata": {
    "colab": {
      "name": "Lab2.ipynb",
      "provenance": [],
      "authorship_tag": "ABX9TyMeYwqgdj0DqIL+6GTLq/Is",
      "include_colab_link": true
    },
    "kernelspec": {
      "name": "python3",
      "display_name": "Python 3"
    },
    "accelerator": "GPU"
  },
  "cells": [
    {
      "cell_type": "markdown",
      "metadata": {
        "id": "view-in-github",
        "colab_type": "text"
      },
      "source": [
        "<a href=\"https://colab.research.google.com/github/kacperkurowski/CE888/blob/master/Lab2/Lab2.ipynb\" target=\"_parent\"><img src=\"https://colab.research.google.com/assets/colab-badge.svg\" alt=\"Open In Colab\"/></a>"
      ]
    },
    {
      "cell_type": "markdown",
      "metadata": {
        "id": "OD-5O8r2-J3t",
        "colab_type": "text"
      },
      "source": [
        "#Lab 2"
      ]
    },
    {
      "cell_type": "code",
      "metadata": {
        "id": "NxhyYzsr-M0d",
        "colab_type": "code",
        "colab": {}
      },
      "source": [
        "import matplotlib\n",
        "import pandas as pd\n",
        "import seaborn as sns\n",
        "import numpy as np\n"
      ],
      "execution_count": 0,
      "outputs": []
    },
    {
      "cell_type": "code",
      "metadata": {
        "id": "QRw8tSPX-7cm",
        "colab_type": "code",
        "colab": {}
      },
      "source": [
        "# Load the data \n",
        "df = pd.read_csv('https://raw.githubusercontent.com/albanda/CE888/master/lab2%20-%20bootstrap/customers.csv') \n",
        "data = df.values.T[1]"
      ],
      "execution_count": 0,
      "outputs": []
    },
    {
      "cell_type": "code",
      "metadata": {
        "id": "RcLMiSYO_OPX",
        "colab_type": "code",
        "colab": {}
      },
      "source": [
        "# Checking the notes from the lecture, create here your own bootstrap function:\n",
        "# 1. Create an array of samples of shape (n_iterations, sample_size)\n",
        "# 2. Calculate and save the mean of the array (this is \"data_mean\" that is returned by the function)\n",
        "# 3. In each iteration:\n",
        "# 3.1 Get the data corresponding to that iteration (new_samples[iteration, :])\n",
        "# 3.2 Calculate the mean of the iteration data and store it\n",
        "# (At this point you should have an array of n_iterations values)\n",
        "# 4. Calculate the lower and upper bounds for a 95% CI (hint: check the percentile function on Numpy)\n",
        "# 5. Return data_mean, and the lower and upper bounds of your interval\n",
        "\n",
        "def boostrap_mean(sample, sample_size, n_iterations):\n",
        "  sample_means = np.array([])\n",
        "  for i in range(n_iterations):\n",
        "    sample_data = np.random.choice(sample,sample_size)\n",
        "    sample_mean= np.mean(sample_data)\n",
        "    sample_means=np.append(sample_means,[sample_mean])\n",
        "  \n",
        "  data_mean = np.mean(sample_means)\n",
        "  sample_means = np.sort(sample_means)\n",
        "  lower = sample_means[0]\n",
        "  upper = sample_means[n_iterations-1]\n",
        "  \n",
        "  return data_mean, lower, upper\n"
      ],
      "execution_count": 0,
      "outputs": []
    },
    {
      "cell_type": "code",
      "metadata": {
        "id": "91A6Jm59_Run",
        "colab_type": "code",
        "colab": {}
      },
      "source": [
        "# Call your bootstrap function and plot the results\n",
        "\n",
        "boots = []\n",
        "for i in range(100, 40000, 1000):\n",
        "    boot = boostrap_mean(data, data.shape[0], i)\n",
        "    boots.append([i, boot[0], \"mean\"])\n",
        "    boots.append([i, boot[1], \"lower\"])\n",
        "    boots.append([i, boot[2], \"upper\"])\n"
      ],
      "execution_count": 0,
      "outputs": []
    },
    {
      "cell_type": "code",
      "metadata": {
        "id": "AJqvM38p_vig",
        "colab_type": "code",
        "colab": {
          "base_uri": "https://localhost:8080/",
          "height": 369
        },
        "outputId": "d741ce76-a2d1-4606-a9ab-cc789a06752e"
      },
      "source": [
        "df_boot = pd.DataFrame(boots, columns=['Boostrap Iterations', 'Mean', \"Value\"])\n",
        "sns_plot = sns.lmplot(df_boot.columns[0], df_boot.columns[1], data=df_boot, fit_reg=False, hue=\"Value\")\n",
        "\n",
        "sns_plot.axes[0, 0].set_ylim(0,)\n",
        "sns_plot.axes[0, 0].set_xlim(0, 40000)\n",
        "\n",
        "sns_plot.savefig(\"bootstrap_confidence.png\", bbox_inches='tight')\n",
        "sns_plot.savefig(\"bootstrap_confidence.pdf\", bbox_inches='tight')\n"
      ],
      "execution_count": 6,
      "outputs": [
        {
          "output_type": "display_data",
          "data": {
            "image/png": "[encoded data removed]",
            "text/plain": [
              "<Figure size 425.125x360 with 1 Axes>"
            ]
          },
          "metadata": {
            "tags": []
          }
        }
      ]
    },
    {
      "cell_type": "code",
      "metadata": {
        "id": "qWaw84Kr_0Hg",
        "colab_type": "code",
        "colab": {}
      },
      "source": [
        "def boostrap_mean_ci(sample, sample_size, iterations, ci):\n",
        "  sample_means = np.array([])\n",
        "  for i in range(iterations):\n",
        "    sample_data = np.random.choice(sample,sample_size)\n",
        "    sample_mean= np.mean(sample_data)\n",
        "    sample_means=np.append(sample_means,[sample_mean])\n",
        "\n",
        "  sample_means = np.sort(sample_means)\n",
        "  cl=int(((1-ci/100)*iterations)/2)\n",
        "  sample_means=sample_means[cl:-cl]\n",
        "  data_mean = np.mean(sample_means)\n",
        "  lower = sample_means[0]\n",
        "  upper = sample_means[sample_means.size-1]\n",
        "  return data_mean, lower, upper\n"
      ],
      "execution_count": 0,
      "outputs": []
    }
  ]
}